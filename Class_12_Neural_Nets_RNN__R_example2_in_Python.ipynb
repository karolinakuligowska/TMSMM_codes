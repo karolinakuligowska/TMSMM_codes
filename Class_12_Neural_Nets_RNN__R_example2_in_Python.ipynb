{
  "nbformat": 4,
  "nbformat_minor": 0,
  "metadata": {
    "colab": {
      "provenance": [],
      "authorship_tag": "ABX9TyMgoi3NsUHOVNxWa3r6GHht",
      "include_colab_link": true
    },
    "kernelspec": {
      "name": "python3",
      "display_name": "Python 3"
    },
    "language_info": {
      "name": "python"
    }
  },
  "cells": [
    {
      "cell_type": "markdown",
      "metadata": {
        "id": "view-in-github",
        "colab_type": "text"
      },
      "source": [
        "<a href=\"https://colab.research.google.com/github/karolinakuligowska/TMSMM_codes/blob/main/Class_12_Neural_Nets_RNN__R_example2_in_Python.ipynb\" target=\"_parent\"><img src=\"https://colab.research.google.com/assets/colab-badge.svg\" alt=\"Open In Colab\"/></a>"
      ]
    },
    {
      "cell_type": "code",
      "execution_count": null,
      "metadata": {
        "id": "IDO_2rhpC4nW"
      },
      "outputs": [],
      "source": [
        "# Enhance NN model for classifying sentiment of movie_review.csv\n",
        "# by incorporating two hidden layers\n",
        "# Let's see if the model captures more complex patterns and improves performance"
      ]
    },
    {
      "cell_type": "code",
      "source": [
        "import pandas as pd\n",
        "import numpy as np\n",
        "import tensorflow as tf\n",
        "from tensorflow.keras.layers import TextVectorization, Embedding, GlobalAveragePooling1D, Dense, Dropout, Input\n",
        "from tensorflow.keras.models import Model\n",
        "from sklearn.model_selection import train_test_split\n",
        "import matplotlib.pyplot as plt"
      ],
      "metadata": {
        "id": "ehYJPYvUDk8a"
      },
      "execution_count": 1,
      "outputs": []
    },
    {
      "cell_type": "code",
      "source": [
        "# Load dataset ----\n",
        "df = pd.read_csv('movie_review.csv', encoding='utf-8')"
      ],
      "metadata": {
        "id": "29d2uNy3D1sS"
      },
      "execution_count": 2,
      "outputs": []
    },
    {
      "cell_type": "code",
      "source": [
        "# Split the dataset into training and testing\n",
        "training, testing = train_test_split(df, test_size=0.2, random_state=123)"
      ],
      "metadata": {
        "id": "PmRGpFnkEB7x"
      },
      "execution_count": 3,
      "outputs": []
    },
    {
      "cell_type": "code",
      "source": [
        "# Prepare the data\n",
        "num_words = 10000\n",
        "max_length = 50\n",
        "\n",
        "\n",
        "# Create the TextVectorization layer\n",
        "text_vectorization = TextVectorization(\n",
        "    max_tokens=num_words,\n",
        "    output_sequence_length=max_length\n",
        ")"
      ],
      "metadata": {
        "id": "1lUP6ZWsEFQw"
      },
      "execution_count": 4,
      "outputs": []
    },
    {
      "cell_type": "code",
      "source": [
        "# Adapt the TextVectorization layer to the training data\n",
        "text_vectorization.adapt(training['text'])"
      ],
      "metadata": {
        "id": "FmGRRjgBEGpi"
      },
      "execution_count": 5,
      "outputs": []
    },
    {
      "cell_type": "code",
      "source": [
        "# Build the model\n",
        "input_layer = Input(shape=(1,), dtype=\"string\")\n",
        "\n",
        "x = text_vectorization(input_layer)\n",
        "x = Embedding(input_dim=num_words + 1, output_dim=16)(x)\n",
        "x = GlobalAveragePooling1D()(x)\n",
        "x = Dense(64, activation=\"relu\")(x)  # First hidden layer with 64 units\n",
        "x = Dropout(0.5)(x)\n",
        "x = Dense(32, activation=\"relu\")(x)  # Second hidden layer with 32 units\n",
        "x = Dropout(0.5)(x)\n",
        "\n",
        "output_layer = Dense(1, activation=\"sigmoid\")(x)\n",
        "\n",
        "model = Model(input_layer, output_layer)"
      ],
      "metadata": {
        "id": "gjMsyCRmES39"
      },
      "execution_count": 7,
      "outputs": []
    },
    {
      "cell_type": "code",
      "source": [
        "# Adding multiple hidden layers enables the model to learn hierarchical representations of the text data,\n",
        "# which is beneficial for capturing the nuances in text reviews.\n",
        "# The combination of different layer sizes allows the network to first learn broad patterns and then focus on more specific features.\n",
        "# Dropout layers help in regularizing the model, reducing the risk of overfitting."
      ],
      "metadata": {
        "id": "SgR8XLAkFTcY"
      },
      "execution_count": 12,
      "outputs": []
    },
    {
      "cell_type": "code",
      "source": [
        "# Compile the model\n",
        "model.compile(\n",
        "    optimizer='adam',\n",
        "    loss='binary_crossentropy',\n",
        "    metrics=['accuracy']\n",
        ")\n"
      ],
      "metadata": {
        "id": "8d50s23qEf6t"
      },
      "execution_count": 13,
      "outputs": []
    },
    {
      "cell_type": "code",
      "source": [
        "# Train the model\n",
        "history = model.fit(\n",
        "    x=training['text'],\n",
        "    y=(training['tag'] == \"pos\").astype(int),\n",
        "    epochs=20,\n",
        "    batch_size=512,\n",
        "    validation_split=0.2,\n",
        "    verbose=2\n",
        ")\n"
      ],
      "metadata": {
        "colab": {
          "base_uri": "https://localhost:8080/"
        },
        "id": "2qHG7X8pExlu",
        "outputId": "ea767625-89d8-4d90-87c2-33ac74beaabe"
      },
      "execution_count": 14,
      "outputs": [
        {
          "output_type": "stream",
          "name": "stdout",
          "text": [
            "Epoch 1/20\n",
            "81/81 - 5s - 64ms/step - accuracy: 0.7813 - loss: 0.4912 - val_accuracy: 0.6715 - val_loss: 0.7083\n",
            "Epoch 2/20\n",
            "81/81 - 1s - 18ms/step - accuracy: 0.8142 - loss: 0.4260 - val_accuracy: 0.6735 - val_loss: 0.7110\n",
            "Epoch 3/20\n",
            "81/81 - 1s - 15ms/step - accuracy: 0.8123 - loss: 0.4240 - val_accuracy: 0.6695 - val_loss: 0.7150\n",
            "Epoch 4/20\n",
            "81/81 - 1s - 16ms/step - accuracy: 0.8155 - loss: 0.4194 - val_accuracy: 0.6682 - val_loss: 0.7436\n",
            "Epoch 5/20\n",
            "81/81 - 1s - 16ms/step - accuracy: 0.8171 - loss: 0.4130 - val_accuracy: 0.6627 - val_loss: 0.7018\n",
            "Epoch 6/20\n",
            "81/81 - 1s - 13ms/step - accuracy: 0.8168 - loss: 0.4096 - val_accuracy: 0.6678 - val_loss: 0.7638\n",
            "Epoch 7/20\n",
            "81/81 - 1s - 13ms/step - accuracy: 0.8219 - loss: 0.4006 - val_accuracy: 0.6627 - val_loss: 0.7392\n",
            "Epoch 8/20\n",
            "81/81 - 1s - 13ms/step - accuracy: 0.8183 - loss: 0.3993 - val_accuracy: 0.6704 - val_loss: 0.7950\n",
            "Epoch 9/20\n",
            "81/81 - 1s - 13ms/step - accuracy: 0.8154 - loss: 0.3991 - val_accuracy: 0.6669 - val_loss: 0.7889\n",
            "Epoch 10/20\n",
            "81/81 - 2s - 24ms/step - accuracy: 0.8197 - loss: 0.3892 - val_accuracy: 0.6692 - val_loss: 0.8602\n",
            "Epoch 11/20\n",
            "81/81 - 2s - 25ms/step - accuracy: 0.8121 - loss: 0.3968 - val_accuracy: 0.6688 - val_loss: 0.8250\n",
            "Epoch 12/20\n",
            "81/81 - 1s - 13ms/step - accuracy: 0.8241 - loss: 0.3754 - val_accuracy: 0.6696 - val_loss: 0.8623\n",
            "Epoch 13/20\n",
            "81/81 - 1s - 16ms/step - accuracy: 0.8218 - loss: 0.3728 - val_accuracy: 0.6675 - val_loss: 0.9318\n",
            "Epoch 14/20\n",
            "81/81 - 1s - 16ms/step - accuracy: 0.8203 - loss: 0.3710 - val_accuracy: 0.6679 - val_loss: 0.8829\n",
            "Epoch 15/20\n",
            "81/81 - 1s - 16ms/step - accuracy: 0.8202 - loss: 0.3656 - val_accuracy: 0.6667 - val_loss: 0.9067\n",
            "Epoch 16/20\n",
            "81/81 - 1s - 16ms/step - accuracy: 0.8032 - loss: 0.3891 - val_accuracy: 0.6696 - val_loss: 0.9886\n",
            "Epoch 17/20\n",
            "81/81 - 1s - 16ms/step - accuracy: 0.8237 - loss: 0.3559 - val_accuracy: 0.6484 - val_loss: 0.9685\n",
            "Epoch 18/20\n",
            "81/81 - 1s - 13ms/step - accuracy: 0.8160 - loss: 0.3602 - val_accuracy: 0.6557 - val_loss: 0.9055\n",
            "Epoch 19/20\n",
            "81/81 - 2s - 22ms/step - accuracy: 0.8263 - loss: 0.3512 - val_accuracy: 0.6623 - val_loss: 1.1120\n",
            "Epoch 20/20\n",
            "81/81 - 2s - 29ms/step - accuracy: 0.8177 - loss: 0.3559 - val_accuracy: 0.6687 - val_loss: 0.9914\n"
          ]
        }
      ]
    },
    {
      "cell_type": "code",
      "source": [
        "# Evaluate the model\n",
        "results = model.evaluate(\n",
        "    x=testing['text'],\n",
        "    y=(testing['tag'] == \"pos\").astype(int),\n",
        "    verbose=0\n",
        ")\n",
        "\n",
        "print(f\"Test Loss: {results[0]:.2f}\")\n",
        "print(f\"Test Accuracy: {results[1]:.2f}\")\n"
      ],
      "metadata": {
        "colab": {
          "base_uri": "https://localhost:8080/"
        },
        "id": "wOXe9HXSDhZK",
        "outputId": "0bb10474-cc21-4ca3-fa45-6ae9fdb24ea8"
      },
      "execution_count": 15,
      "outputs": [
        {
          "output_type": "stream",
          "name": "stdout",
          "text": [
            "Test Loss: 0.94\n",
            "Test Accuracy: 0.66\n"
          ]
        }
      ]
    },
    {
      "cell_type": "code",
      "source": [
        "# Plot accuracy and loss over time (epochs)\n",
        "plt.plot(history.history['accuracy'], label='Accuracy')\n",
        "plt.plot(history.history['val_accuracy'], label='Validation Accuracy')\n",
        "plt.xlabel('Epoch')\n",
        "plt.ylabel('Accuracy')\n",
        "plt.legend()\n",
        "plt.show()\n",
        "\n",
        "plt.plot(history.history['loss'], label='Loss')\n",
        "plt.plot(history.history['val_loss'], label='Validation Loss')\n",
        "plt.xlabel('Epoch')\n",
        "plt.ylabel('Loss')\n",
        "plt.legend()\n",
        "plt.show()"
      ],
      "metadata": {
        "colab": {
          "base_uri": "https://localhost:8080/",
          "height": 881
        },
        "id": "BPnB_lYdFCXn",
        "outputId": "10124862-3041-42b3-8909-d3b68ca163b3"
      },
      "execution_count": 16,
      "outputs": [
        {
          "output_type": "display_data",
          "data": {
            "text/plain": [
              "<Figure size 640x480 with 1 Axes>"
            ],
            "image/png": "[encoded data removed]"
          },
          "metadata": {}
        },
        {
          "output_type": "display_data",
          "data": {
            "text/plain": [
              "<Figure size 640x480 with 1 Axes>"
            ],
            "image/png": "[encoded data removed]"
          },
          "metadata": {}
        }
      ]
    },
    {
      "cell_type": "code",
      "source": [
        "# Further considerations toward improvements:\n",
        "\n",
        "# Hyperparameter Tuning\n",
        "# => eperiment with different numbers of units, dropout rates, and activation functions\n",
        "# to find the optimal configuration for this specific dataset.\n",
        "\n",
        "# Advanced Architectures\n",
        "# explore RNNs or CNNs if they can capture features more effectively."
      ],
      "metadata": {
        "id": "dOs0Oy9_GNNH"
      },
      "execution_count": 17,
      "outputs": []
    },
    {
      "cell_type": "code",
      "source": [
        "# RNN ----"
      ],
      "metadata": {
        "id": "BqKTYaqcGOAb"
      },
      "execution_count": null,
      "outputs": []
    },
    {
      "cell_type": "code",
      "source": [
        "import pandas as pd\n",
        "import numpy as np\n",
        "import tensorflow as tf\n",
        "from tensorflow.keras.layers import TextVectorization, Embedding, SimpleRNN, Dense, Dropout, Input\n",
        "from tensorflow.keras.models import Model\n",
        "from sklearn.model_selection import train_test_split\n"
      ],
      "metadata": {
        "id": "NlAtDaTwHGYC"
      },
      "execution_count": 18,
      "outputs": []
    },
    {
      "cell_type": "code",
      "source": [
        "# Load dataset\n",
        "df = pd.read_csv('movie_review.csv', encoding='utf-8')\n",
        "\n",
        "# Display the first few rows\n",
        "print(df.head())\n",
        "\n",
        "# Check the distribution of labels\n",
        "print(df['tag'].value_counts())\n",
        "\n",
        "# Example of a review\n",
        "print(df['text'][0])"
      ],
      "metadata": {
        "colab": {
          "base_uri": "https://localhost:8080/"
        },
        "id": "p8omZuWUHLGl",
        "outputId": "835c2a37-47e1-4b82-82ac-18741c96450c"
      },
      "execution_count": 27,
      "outputs": [
        {
          "output_type": "stream",
          "name": "stdout",
          "text": [
            "   fold_id cv_tag  html_id  sent_id  \\\n",
            "0        0  cv000    29590        0   \n",
            "1        0  cv000    29590        1   \n",
            "2        0  cv000    29590        2   \n",
            "3        0  cv000    29590        3   \n",
            "4        0  cv000    29590        4   \n",
            "\n",
            "                                                text  tag  \n",
            "0  films adapted from comic books have had plenty...  pos  \n",
            "1  for starters , it was created by alan moore ( ...  pos  \n",
            "2  to say moore and campbell thoroughly researche...  pos  \n",
            "3  the book ( or \" graphic novel , \" if you will ...  pos  \n",
            "4  in other words , don't dismiss this film becau...  pos  \n",
            "tag\n",
            "pos    32937\n",
            "neg    31783\n",
            "Name: count, dtype: int64\n",
            "films adapted from comic books have had plenty of success , whether they're about superheroes ( batman , superman , spawn ) , or geared toward kids ( casper ) or the arthouse crowd ( ghost world ) , but there's never really been a comic book like from hell before .\n"
          ]
        }
      ]
    },
    {
      "cell_type": "code",
      "source": [
        "# Split the dataset into training and testing sets\n",
        "training, testing = train_test_split(df, test_size=0.2, random_state=123)\n",
        "\n",
        "# Define parameters\n",
        "num_words = 10000  # Vocabulary size\n",
        "max_length = 100   # Maximum number of words per review\n",
        "\n",
        "# Create the TextVectorization layer\n",
        "text_vectorization = TextVectorization(\n",
        "    max_tokens=num_words,\n",
        "    output_sequence_length=max_length\n",
        ")\n",
        "\n",
        "# Adapt the TextVectorization layer to the training data\n",
        "text_vectorization.adapt(training['text'])"
      ],
      "metadata": {
        "id": "JIsVICttHQ9O"
      },
      "execution_count": 28,
      "outputs": []
    },
    {
      "cell_type": "code",
      "source": [
        "# Build the 2 layers RNN Model:\n",
        "\n",
        "input_layer = Input(shape=(1,), dtype=\"string\")\n",
        "\n",
        "x = text_vectorization(input_layer)\n",
        "x = Embedding(input_dim=num_words + 1, output_dim=64)(x)\n",
        "x = SimpleRNN(64, return_sequences=True)(x)  # Return full sequence\n",
        "x = Dropout(0.5)(x)\n",
        "x = SimpleRNN(32, return_sequences=False)(x)  # Process the sequence from the previous RNN layer\n",
        "x = Dropout(0.5)(x)\n",
        "\n",
        "output_layer = Dense(1, activation=\"sigmoid\")(x)\n",
        "\n",
        "model = Model(input_layer, output_layer)\n"
      ],
      "metadata": {
        "id": "MW85M1zUHecR"
      },
      "execution_count": 29,
      "outputs": []
    },
    {
      "cell_type": "code",
      "source": [
        "model.compile(\n",
        "    optimizer='adam',\n",
        "    loss='binary_crossentropy',\n",
        "    metrics=['accuracy']\n",
        ")"
      ],
      "metadata": {
        "id": "X1ctaVPiH3wn"
      },
      "execution_count": 30,
      "outputs": []
    },
    {
      "cell_type": "code",
      "source": [
        "history = model.fit(\n",
        "    x=training['text'],\n",
        "    y=(training['tag'] == \"pos\").astype(int),\n",
        "    epochs=10,\n",
        "    batch_size=64,\n",
        "    validation_split=0.2,\n",
        "    verbose=2\n",
        ")"
      ],
      "metadata": {
        "colab": {
          "base_uri": "https://localhost:8080/"
        },
        "id": "wV2iM8CLH68i",
        "outputId": "703b05c6-dc8f-419d-a0c7-1dfecf028ef5"
      },
      "execution_count": 31,
      "outputs": [
        {
          "output_type": "stream",
          "name": "stdout",
          "text": [
            "Epoch 1/10\n",
            "648/648 - 67s - 104ms/step - accuracy: 0.5000 - loss: 0.7006 - val_accuracy: 0.5061 - val_loss: 0.6932\n",
            "Epoch 2/10\n",
            "648/648 - 76s - 117ms/step - accuracy: 0.5044 - loss: 0.6943 - val_accuracy: 0.5009 - val_loss: 0.6940\n",
            "Epoch 3/10\n",
            "648/648 - 78s - 121ms/step - accuracy: 0.5020 - loss: 0.6941 - val_accuracy: 0.5102 - val_loss: 0.6929\n",
            "Epoch 4/10\n",
            "648/648 - 81s - 125ms/step - accuracy: 0.5070 - loss: 0.6934 - val_accuracy: 0.5064 - val_loss: 0.6931\n",
            "Epoch 5/10\n",
            "648/648 - 49s - 76ms/step - accuracy: 0.5061 - loss: 0.6933 - val_accuracy: 0.5105 - val_loss: 0.6930\n",
            "Epoch 6/10\n",
            "648/648 - 83s - 128ms/step - accuracy: 0.5029 - loss: 0.6932 - val_accuracy: 0.5090 - val_loss: 0.6930\n",
            "Epoch 7/10\n",
            "648/648 - 83s - 128ms/step - accuracy: 0.5030 - loss: 0.6951 - val_accuracy: 0.5044 - val_loss: 0.6933\n",
            "Epoch 8/10\n",
            "648/648 - 82s - 127ms/step - accuracy: 0.5031 - loss: 0.6938 - val_accuracy: 0.5057 - val_loss: 0.6932\n",
            "Epoch 9/10\n",
            "648/648 - 80s - 124ms/step - accuracy: 0.5084 - loss: 0.6932 - val_accuracy: 0.5107 - val_loss: 0.6923\n",
            "Epoch 10/10\n",
            "648/648 - 48s - 75ms/step - accuracy: 0.5257 - loss: 0.6917 - val_accuracy: 0.5248 - val_loss: 0.6920\n"
          ]
        }
      ]
    },
    {
      "cell_type": "code",
      "source": [
        "results = model.evaluate(\n",
        "    x=testing['text'],\n",
        "    y=(testing['tag'] == \"pos\").astype(int),\n",
        "    verbose=0\n",
        ")\n",
        "\n",
        "print(f\"Test Loss: {results[0]:.2f}\")\n",
        "print(f\"Test Accuracy: {results[1]:.2f}\")"
      ],
      "metadata": {
        "colab": {
          "base_uri": "https://localhost:8080/"
        },
        "id": "RfTT9I8VH-NS",
        "outputId": "62664f04-fe81-432d-9d31-6cc02c5a4c64"
      },
      "execution_count": 32,
      "outputs": [
        {
          "output_type": "stream",
          "name": "stdout",
          "text": [
            "Test Loss: 0.69\n",
            "Test Accuracy: 0.53\n"
          ]
        }
      ]
    },
    {
      "cell_type": "code",
      "source": [
        "# 2x RNN hidden layers deteriorated the model accuracy!"
      ],
      "metadata": {
        "id": "a-RdCkY_J4vz"
      },
      "execution_count": 33,
      "outputs": []
    },
    {
      "cell_type": "code",
      "source": [
        "# LSTM ----"
      ],
      "metadata": {
        "id": "7fY-HTqsQstr"
      },
      "execution_count": null,
      "outputs": []
    },
    {
      "cell_type": "code",
      "source": [
        "# To enhance the model let's implement RNN LSTM with two hidden layers\n",
        "\n",
        "from tensorflow.keras.layers import LSTM\n",
        "\n",
        "input_layer = Input(shape=(1,), dtype=\"string\")\n",
        "\n",
        "x = text_vectorization(input_layer)\n",
        "x = Embedding(input_dim=num_words + 1, output_dim=64)(x)\n",
        "x = LSTM(64, return_sequences=True)(x)  # First LSTM layer\n",
        "x = Dropout(0.5)(x)\n",
        "x = LSTM(32)(x)  # Second LSTM layer\n",
        "x = Dropout(0.5)(x)\n",
        "\n",
        "output_layer = Dense(1, activation=\"sigmoid\")(x)\n",
        "\n",
        "model = Model(input_layer, output_layer)\n"
      ],
      "metadata": {
        "id": "f5bJJMD4QusE"
      },
      "execution_count": 34,
      "outputs": []
    },
    {
      "cell_type": "code",
      "source": [
        "model.compile(\n",
        "    optimizer='adam',\n",
        "    loss='binary_crossentropy',\n",
        "    metrics=['accuracy']\n",
        ")"
      ],
      "metadata": {
        "id": "SEQ6kcP_Q7W5"
      },
      "execution_count": 35,
      "outputs": []
    },
    {
      "cell_type": "code",
      "source": [
        "history = model.fit(\n",
        "    x=training['text'],\n",
        "    y=(training['tag'] == \"pos\").astype(int),\n",
        "    epochs=10,\n",
        "    batch_size=64,\n",
        "    validation_split=0.2,\n",
        "    verbose=2\n",
        ")"
      ],
      "metadata": {
        "colab": {
          "base_uri": "https://localhost:8080/"
        },
        "id": "6fwqPOZzQ_4a",
        "outputId": "ac241155-b2ea-4a55-aa6d-c2398de1338a"
      },
      "execution_count": 36,
      "outputs": [
        {
          "output_type": "stream",
          "name": "stdout",
          "text": [
            "Epoch 1/10\n",
            "648/648 - 105s - 162ms/step - accuracy: 0.5036 - loss: 0.6936 - val_accuracy: 0.5103 - val_loss: 0.6929\n",
            "Epoch 2/10\n",
            "648/648 - 144s - 222ms/step - accuracy: 0.5079 - loss: 0.6932 - val_accuracy: 0.5103 - val_loss: 0.6930\n",
            "Epoch 3/10\n",
            "648/648 - 138s - 213ms/step - accuracy: 0.5050 - loss: 0.6933 - val_accuracy: 0.5103 - val_loss: 0.6931\n",
            "Epoch 4/10\n",
            "648/648 - 141s - 217ms/step - accuracy: 0.5049 - loss: 0.6932 - val_accuracy: 0.5103 - val_loss: 0.6929\n",
            "Epoch 5/10\n",
            "648/648 - 98s - 152ms/step - accuracy: 0.5074 - loss: 0.6932 - val_accuracy: 0.5103 - val_loss: 0.6929\n",
            "Epoch 6/10\n",
            "648/648 - 142s - 219ms/step - accuracy: 0.5038 - loss: 0.6932 - val_accuracy: 0.5103 - val_loss: 0.6930\n",
            "Epoch 7/10\n",
            "648/648 - 98s - 152ms/step - accuracy: 0.5060 - loss: 0.6931 - val_accuracy: 0.5103 - val_loss: 0.6930\n",
            "Epoch 8/10\n",
            "648/648 - 141s - 218ms/step - accuracy: 0.5080 - loss: 0.6932 - val_accuracy: 0.5103 - val_loss: 0.6929\n",
            "Epoch 9/10\n",
            "648/648 - 99s - 152ms/step - accuracy: 0.5082 - loss: 0.6931 - val_accuracy: 0.5103 - val_loss: 0.6929\n",
            "Epoch 10/10\n",
            "648/648 - 98s - 151ms/step - accuracy: 0.5074 - loss: 0.6931 - val_accuracy: 0.5103 - val_loss: 0.6930\n"
          ]
        }
      ]
    },
    {
      "cell_type": "code",
      "source": [
        "results = model.evaluate(\n",
        "    x=testing['text'],\n",
        "    y=(testing['tag'] == \"pos\").astype(int),\n",
        "    verbose=0\n",
        ")\n",
        "\n",
        "print(f\"Test Loss: {results[0]:.2f}\")\n",
        "print(f\"Test Accuracy: {results[1]:.2f}\")"
      ],
      "metadata": {
        "colab": {
          "base_uri": "https://localhost:8080/"
        },
        "id": "PFp4smnIRCr-",
        "outputId": "15fca644-2e27-4ce9-d251-e8752fafb970"
      },
      "execution_count": 37,
      "outputs": [
        {
          "output_type": "stream",
          "name": "stdout",
          "text": [
            "Test Loss: 0.69\n",
            "Test Accuracy: 0.51\n"
          ]
        }
      ]
    },
    {
      "cell_type": "code",
      "source": [
        "# 2x LSTM hidden layers deteriorated the model accuracy!"
      ],
      "metadata": {
        "id": "CnB-5dCoYGml"
      },
      "execution_count": 38,
      "outputs": []
    },
    {
      "cell_type": "code",
      "source": [
        "# CNN ----"
      ],
      "metadata": {
        "id": "DYu8k6pbYO6g"
      },
      "execution_count": null,
      "outputs": []
    },
    {
      "cell_type": "code",
      "source": [
        "# To enhance the model let's implement CNN with two hidden layers.\n",
        "# CNN can capture local patterns in text data.\n",
        "\n",
        "from tensorflow.keras.layers import Conv1D, GlobalMaxPooling1D\n",
        "\n",
        "\n",
        "input_layer = Input(shape=(1,), dtype=\"string\")\n",
        "\n",
        "x = text_vectorization(input_layer)\n",
        "x = Embedding(input_dim=num_words + 1, output_dim=64)(x)\n",
        "x = Conv1D(filters=128, kernel_size=5, activation='relu', padding=\"same\")(x) # First CNN hidden layer, Conv1D applies 128 filters with a kernel size of 5 to capture local dependencies in the text\n",
        "x = Conv1D(filters=64, kernel_size=3, activation='relu', padding=\"same\")(x) # Second CNN hidden layer with 64 filters and a kernel size of 3\n",
        "x = GlobalMaxPooling1D()(x) # Pooling layer to reduce dimensionality by taking the maximum value over time steps, highlighting the most significant features.\n",
        "x = Dropout(0.5)(x) # Dropout for regularization\n",
        "\n",
        "output_layer = Dense(1, activation=\"sigmoid\")(x)\n",
        "\n",
        "model = Model(input_layer, output_layer)\n"
      ],
      "metadata": {
        "id": "PVWhhb7_YRTC"
      },
      "execution_count": 39,
      "outputs": []
    },
    {
      "cell_type": "code",
      "source": [
        "model.compile(\n",
        "    optimizer='adam',\n",
        "    loss='binary_crossentropy',\n",
        "    metrics=['accuracy']\n",
        ")"
      ],
      "metadata": {
        "id": "OWygjRkDYnfz"
      },
      "execution_count": 40,
      "outputs": []
    },
    {
      "cell_type": "code",
      "source": [
        "history = model.fit(\n",
        "    x=training['text'],\n",
        "    y=(training['tag'] == \"pos\").astype(int),\n",
        "    epochs=10,\n",
        "    batch_size=64,\n",
        "    validation_split=0.2,\n",
        "    verbose=2\n",
        ")"
      ],
      "metadata": {
        "colab": {
          "base_uri": "https://localhost:8080/"
        },
        "id": "Md10ghueYqQR",
        "outputId": "b54b0572-3681-49d2-c570-f0c8842196da"
      },
      "execution_count": 41,
      "outputs": [
        {
          "output_type": "stream",
          "name": "stdout",
          "text": [
            "Epoch 1/10\n",
            "648/648 - 57s - 89ms/step - accuracy: 0.5947 - loss: 0.6607 - val_accuracy: 0.6619 - val_loss: 0.6106\n",
            "Epoch 2/10\n",
            "648/648 - 54s - 84ms/step - accuracy: 0.7153 - loss: 0.5545 - val_accuracy: 0.6804 - val_loss: 0.5954\n",
            "Epoch 3/10\n",
            "648/648 - 54s - 83ms/step - accuracy: 0.7842 - loss: 0.4539 - val_accuracy: 0.6825 - val_loss: 0.6379\n",
            "Epoch 4/10\n",
            "648/648 - 81s - 124ms/step - accuracy: 0.8384 - loss: 0.3492 - val_accuracy: 0.6708 - val_loss: 0.7448\n",
            "Epoch 5/10\n",
            "648/648 - 83s - 128ms/step - accuracy: 0.8863 - loss: 0.2520 - val_accuracy: 0.6667 - val_loss: 0.9490\n",
            "Epoch 6/10\n",
            "648/648 - 84s - 129ms/step - accuracy: 0.9223 - loss: 0.1771 - val_accuracy: 0.6580 - val_loss: 1.2155\n",
            "Epoch 7/10\n",
            "648/648 - 81s - 124ms/step - accuracy: 0.9429 - loss: 0.1301 - val_accuracy: 0.6561 - val_loss: 1.5411\n",
            "Epoch 8/10\n",
            "648/648 - 81s - 125ms/step - accuracy: 0.9583 - loss: 0.0982 - val_accuracy: 0.6544 - val_loss: 1.8643\n",
            "Epoch 9/10\n",
            "648/648 - 51s - 78ms/step - accuracy: 0.9668 - loss: 0.0810 - val_accuracy: 0.6461 - val_loss: 2.0911\n",
            "Epoch 10/10\n",
            "648/648 - 84s - 130ms/step - accuracy: 0.9710 - loss: 0.0737 - val_accuracy: 0.6546 - val_loss: 2.3614\n"
          ]
        }
      ]
    },
    {
      "cell_type": "code",
      "source": [
        "results = model.evaluate(\n",
        "    x=testing['text'],\n",
        "    y=(testing['tag'] == \"pos\").astype(int),\n",
        "    verbose=0\n",
        ")\n",
        "\n",
        "print(f\"Test Loss: {results[0]:.2f}\")\n",
        "print(f\"Test Accuracy: {results[1]:.2f}\")"
      ],
      "metadata": {
        "colab": {
          "base_uri": "https://localhost:8080/"
        },
        "id": "YoOKyqeYYs_2",
        "outputId": "81685362-71aa-4d9a-9870-c615a861faf1"
      },
      "execution_count": 42,
      "outputs": [
        {
          "output_type": "stream",
          "name": "stdout",
          "text": [
            "Test Loss: 2.31\n",
            "Test Accuracy: 0.65\n"
          ]
        }
      ]
    },
    {
      "cell_type": "code",
      "source": [
        "# 2x CNN hidden layers improved the model accuracy!\n",
        "# Is this accuracy higher than simple 1 layer NN?"
      ],
      "metadata": {
        "id": "DGOM4K59b8EO"
      },
      "execution_count": null,
      "outputs": []
    },
    {
      "cell_type": "code",
      "source": [
        "# Lightweight Transformer ----"
      ],
      "metadata": {
        "id": "3J7PJuisduMa"
      },
      "execution_count": null,
      "outputs": []
    },
    {
      "cell_type": "code",
      "source": [
        "# last chance :)"
      ],
      "metadata": {
        "id": "LfZHz0rQdxcB"
      },
      "execution_count": null,
      "outputs": []
    },
    {
      "cell_type": "code",
      "source": [
        "import tensorflow as tf\n",
        "from tensorflow.keras.layers import Input, TextVectorization, Embedding, MultiHeadAttention, Dense, Dropout, LayerNormalization, GlobalAveragePooling1D\n",
        "from tensorflow.keras.models import Model\n",
        "\n",
        "\n",
        "input_layer = Input(shape=(1,), dtype=\"string\")\n",
        "\n",
        "x = text_vectorization(input_layer)\n",
        "x = Embedding(input_dim=num_words + 1, output_dim=64)(x)\n",
        "\n",
        "# Simple Transformer Encoder Block\n",
        "attention = MultiHeadAttention(num_heads=2, key_dim=64)(x, x)  # Lightweight Self-Attention with 2 heads to capture word dependencies\n",
        "x = LayerNormalization()(x + attention)  # Normalization layer\n",
        "\n",
        "x = GlobalAveragePooling1D()(x) # Pooling layer to reduce dimensionality\n",
        "x = Dropout(0.5)(x) # Dropout for regularization\n",
        "\n",
        "output_layer = Dense(1, activation=\"sigmoid\")(x)\n",
        "\n",
        "model = Model(input_layer, output_layer)\n",
        "\n"
      ],
      "metadata": {
        "id": "z0F_qDnMdy7N"
      },
      "execution_count": 43,
      "outputs": []
    },
    {
      "cell_type": "code",
      "source": [
        "model.compile(\n",
        "    optimizer='adam',\n",
        "    loss='binary_crossentropy',\n",
        "    metrics=['accuracy']\n",
        ")"
      ],
      "metadata": {
        "id": "wC7u7MP1eUBu"
      },
      "execution_count": 44,
      "outputs": []
    },
    {
      "cell_type": "code",
      "source": [
        "history = model.fit(\n",
        "    x=training['text'],\n",
        "    y=(training['tag'] == \"pos\").astype(int),\n",
        "    epochs=10,\n",
        "    batch_size=64,\n",
        "    validation_split=0.2,\n",
        "    verbose=2\n",
        ")"
      ],
      "metadata": {
        "colab": {
          "base_uri": "https://localhost:8080/"
        },
        "id": "PnkLkClsfCaF",
        "outputId": "02cdccfa-fb3f-4116-8739-cd7f7e321c0d"
      },
      "execution_count": 45,
      "outputs": [
        {
          "output_type": "stream",
          "name": "stdout",
          "text": [
            "Epoch 1/10\n",
            "648/648 - 95s - 147ms/step - accuracy: 0.5772 - loss: 0.6747 - val_accuracy: 0.6749 - val_loss: 0.6042\n",
            "Epoch 2/10\n",
            "648/648 - 128s - 197ms/step - accuracy: 0.7164 - loss: 0.5552 - val_accuracy: 0.6855 - val_loss: 0.5966\n",
            "Epoch 3/10\n",
            "648/648 - 81s - 125ms/step - accuracy: 0.7561 - loss: 0.4953 - val_accuracy: 0.6851 - val_loss: 0.6186\n",
            "Epoch 4/10\n",
            "648/648 - 85s - 132ms/step - accuracy: 0.7733 - loss: 0.4673 - val_accuracy: 0.6810 - val_loss: 0.6224\n",
            "Epoch 5/10\n",
            "648/648 - 79s - 121ms/step - accuracy: 0.7872 - loss: 0.4428 - val_accuracy: 0.6719 - val_loss: 0.6567\n",
            "Epoch 6/10\n",
            "648/648 - 84s - 129ms/step - accuracy: 0.7974 - loss: 0.4155 - val_accuracy: 0.6713 - val_loss: 0.7113\n",
            "Epoch 7/10\n",
            "648/648 - 80s - 123ms/step - accuracy: 0.8056 - loss: 0.3890 - val_accuracy: 0.6672 - val_loss: 0.8262\n",
            "Epoch 8/10\n",
            "648/648 - 76s - 117ms/step - accuracy: 0.8139 - loss: 0.3648 - val_accuracy: 0.6705 - val_loss: 0.8184\n",
            "Epoch 9/10\n",
            "648/648 - 86s - 133ms/step - accuracy: 0.8213 - loss: 0.3453 - val_accuracy: 0.6660 - val_loss: 0.8668\n",
            "Epoch 10/10\n",
            "648/648 - 82s - 127ms/step - accuracy: 0.8275 - loss: 0.3290 - val_accuracy: 0.6583 - val_loss: 0.9686\n"
          ]
        }
      ]
    },
    {
      "cell_type": "code",
      "source": [
        "results = model.evaluate(\n",
        "    x=testing['text'],\n",
        "    y=(testing['tag'] == \"pos\").astype(int),\n",
        "    verbose=0\n",
        ")\n",
        "\n",
        "print(f\"Test Loss: {results[0]:.2f}\")\n",
        "print(f\"Test Accuracy: {results[1]:.2f}\")"
      ],
      "metadata": {
        "colab": {
          "base_uri": "https://localhost:8080/"
        },
        "id": "lQ0HHWULfF9J",
        "outputId": "9a104e0a-11fa-44af-d27b-7f135362a419"
      },
      "execution_count": 46,
      "outputs": [
        {
          "output_type": "stream",
          "name": "stdout",
          "text": [
            "Test Loss: 0.96\n",
            "Test Accuracy: 0.66\n"
          ]
        }
      ]
    },
    {
      "cell_type": "code",
      "source": [
        "# Summary of the model\n",
        "model.summary()"
      ],
      "metadata": {
        "colab": {
          "base_uri": "https://localhost:8080/",
          "height": 561
        },
        "id": "uSCrH4NDeuSe",
        "outputId": "1a58a559-3ba9-4f98-94d8-f3b9a8f22e62"
      },
      "execution_count": 47,
      "outputs": [
        {
          "output_type": "display_data",
          "data": {
            "text/plain": [
              "\u001b[1mModel: \"functional_5\"\u001b[0m\n"
            ],
            "text/html": [
              "<pre style=\"white-space:pre;overflow-x:auto;line-height:normal;font-family:Menlo,'DejaVu Sans Mono',consolas,'Courier New',monospace\"><span style=\"font-weight: bold\">Model: \"functional_5\"</span>\n",
              "</pre>\n"
            ]
          },
          "metadata": {}
        },
        {
          "output_type": "display_data",
          "data": {
            "text/plain": [
              "┏━━━━━━━━━━━━━━━━━━━━━━━━━━━┳━━━━━━━━━━━━━━━━━━━━━━━━┳━━━━━━━━━━━━━━━━┳━━━━━━━━━━━━━━━━━━━━━━━━┓\n",
              "┃\u001b[1m \u001b[0m\u001b[1mLayer (type)             \u001b[0m\u001b[1m \u001b[0m┃\u001b[1m \u001b[0m\u001b[1mOutput Shape          \u001b[0m\u001b[1m \u001b[0m┃\u001b[1m \u001b[0m\u001b[1m       Param #\u001b[0m\u001b[1m \u001b[0m┃\u001b[1m \u001b[0m\u001b[1mConnected to          \u001b[0m\u001b[1m \u001b[0m┃\n",
              "┡━━━━━━━━━━━━━━━━━━━━━━━━━━━╇━━━━━━━━━━━━━━━━━━━━━━━━╇━━━━━━━━━━━━━━━━╇━━━━━━━━━━━━━━━━━━━━━━━━┩\n",
              "│ input_layer_5             │ (\u001b[38;5;45mNone\u001b[0m, \u001b[38;5;34m1\u001b[0m)              │              \u001b[38;5;34m0\u001b[0m │ -                      │\n",
              "│ (\u001b[38;5;33mInputLayer\u001b[0m)              │                        │                │                        │\n",
              "├───────────────────────────┼────────────────────────┼────────────────┼────────────────────────┤\n",
              "│ text_vectorization_2      │ (\u001b[38;5;45mNone\u001b[0m, \u001b[38;5;34m100\u001b[0m)            │              \u001b[38;5;34m0\u001b[0m │ input_layer_5[\u001b[38;5;34m0\u001b[0m][\u001b[38;5;34m0\u001b[0m]    │\n",
              "│ (\u001b[38;5;33mTextVectorization\u001b[0m)       │                        │                │                        │\n",
              "├───────────────────────────┼────────────────────────┼────────────────┼────────────────────────┤\n",
              "│ embedding_5 (\u001b[38;5;33mEmbedding\u001b[0m)   │ (\u001b[38;5;45mNone\u001b[0m, \u001b[38;5;34m100\u001b[0m, \u001b[38;5;34m64\u001b[0m)        │        \u001b[38;5;34m640,064\u001b[0m │ text_vectorization_2[\u001b[38;5;34m…\u001b[0m │\n",
              "├───────────────────────────┼────────────────────────┼────────────────┼────────────────────────┤\n",
              "│ multi_head_attention      │ (\u001b[38;5;45mNone\u001b[0m, \u001b[38;5;34m100\u001b[0m, \u001b[38;5;34m64\u001b[0m)        │         \u001b[38;5;34m33,216\u001b[0m │ embedding_5[\u001b[38;5;34m0\u001b[0m][\u001b[38;5;34m0\u001b[0m],     │\n",
              "│ (\u001b[38;5;33mMultiHeadAttention\u001b[0m)      │                        │                │ embedding_5[\u001b[38;5;34m0\u001b[0m][\u001b[38;5;34m0\u001b[0m]      │\n",
              "├───────────────────────────┼────────────────────────┼────────────────┼────────────────────────┤\n",
              "│ add (\u001b[38;5;33mAdd\u001b[0m)                 │ (\u001b[38;5;45mNone\u001b[0m, \u001b[38;5;34m100\u001b[0m, \u001b[38;5;34m64\u001b[0m)        │              \u001b[38;5;34m0\u001b[0m │ embedding_5[\u001b[38;5;34m0\u001b[0m][\u001b[38;5;34m0\u001b[0m],     │\n",
              "│                           │                        │                │ multi_head_attention[\u001b[38;5;34m…\u001b[0m │\n",
              "├───────────────────────────┼────────────────────────┼────────────────┼────────────────────────┤\n",
              "│ layer_normalization       │ (\u001b[38;5;45mNone\u001b[0m, \u001b[38;5;34m100\u001b[0m, \u001b[38;5;34m64\u001b[0m)        │            \u001b[38;5;34m128\u001b[0m │ add[\u001b[38;5;34m0\u001b[0m][\u001b[38;5;34m0\u001b[0m]              │\n",
              "│ (\u001b[38;5;33mLayerNormalization\u001b[0m)      │                        │                │                        │\n",
              "├───────────────────────────┼────────────────────────┼────────────────┼────────────────────────┤\n",
              "│ global_average_pooling1d… │ (\u001b[38;5;45mNone\u001b[0m, \u001b[38;5;34m64\u001b[0m)             │              \u001b[38;5;34m0\u001b[0m │ layer_normalization[\u001b[38;5;34m0\u001b[0m… │\n",
              "│ (\u001b[38;5;33mGlobalAveragePooling1D\u001b[0m)  │                        │                │                        │\n",
              "├───────────────────────────┼────────────────────────┼────────────────┼────────────────────────┤\n",
              "│ dropout_9 (\u001b[38;5;33mDropout\u001b[0m)       │ (\u001b[38;5;45mNone\u001b[0m, \u001b[38;5;34m64\u001b[0m)             │              \u001b[38;5;34m0\u001b[0m │ global_average_poolin… │\n",
              "├───────────────────────────┼────────────────────────┼────────────────┼────────────────────────┤\n",
              "│ dense_7 (\u001b[38;5;33mDense\u001b[0m)           │ (\u001b[38;5;45mNone\u001b[0m, \u001b[38;5;34m1\u001b[0m)              │             \u001b[38;5;34m65\u001b[0m │ dropout_9[\u001b[38;5;34m0\u001b[0m][\u001b[38;5;34m0\u001b[0m]        │\n",
              "└───────────────────────────┴────────────────────────┴────────────────┴────────────────────────┘\n"
            ],
            "text/html": [
              "<pre style=\"white-space:pre;overflow-x:auto;line-height:normal;font-family:Menlo,'DejaVu Sans Mono',consolas,'Courier New',monospace\">┏━━━━━━━━━━━━━━━━━━━━━━━━━━━┳━━━━━━━━━━━━━━━━━━━━━━━━┳━━━━━━━━━━━━━━━━┳━━━━━━━━━━━━━━━━━━━━━━━━┓\n",
              "┃<span style=\"font-weight: bold\"> Layer (type)              </span>┃<span style=\"font-weight: bold\"> Output Shape           </span>┃<span style=\"font-weight: bold\">        Param # </span>┃<span style=\"font-weight: bold\"> Connected to           </span>┃\n",
              "┡━━━━━━━━━━━━━━━━━━━━━━━━━━━╇━━━━━━━━━━━━━━━━━━━━━━━━╇━━━━━━━━━━━━━━━━╇━━━━━━━━━━━━━━━━━━━━━━━━┩\n",
              "│ input_layer_5             │ (<span style=\"color: #00d7ff; text-decoration-color: #00d7ff\">None</span>, <span style=\"color: #00af00; text-decoration-color: #00af00\">1</span>)              │              <span style=\"color: #00af00; text-decoration-color: #00af00\">0</span> │ -                      │\n",
              "│ (<span style=\"color: #0087ff; text-decoration-color: #0087ff\">InputLayer</span>)              │                        │                │                        │\n",
              "├───────────────────────────┼────────────────────────┼────────────────┼────────────────────────┤\n",
              "│ text_vectorization_2      │ (<span style=\"color: #00d7ff; text-decoration-color: #00d7ff\">None</span>, <span style=\"color: #00af00; text-decoration-color: #00af00\">100</span>)            │              <span style=\"color: #00af00; text-decoration-color: #00af00\">0</span> │ input_layer_5[<span style=\"color: #00af00; text-decoration-color: #00af00\">0</span>][<span style=\"color: #00af00; text-decoration-color: #00af00\">0</span>]    │\n",
              "│ (<span style=\"color: #0087ff; text-decoration-color: #0087ff\">TextVectorization</span>)       │                        │                │                        │\n",
              "├───────────────────────────┼────────────────────────┼────────────────┼────────────────────────┤\n",
              "│ embedding_5 (<span style=\"color: #0087ff; text-decoration-color: #0087ff\">Embedding</span>)   │ (<span style=\"color: #00d7ff; text-decoration-color: #00d7ff\">None</span>, <span style=\"color: #00af00; text-decoration-color: #00af00\">100</span>, <span style=\"color: #00af00; text-decoration-color: #00af00\">64</span>)        │        <span style=\"color: #00af00; text-decoration-color: #00af00\">640,064</span> │ text_vectorization_2[<span style=\"color: #00af00; text-decoration-color: #00af00\">…</span> │\n",
              "├───────────────────────────┼────────────────────────┼────────────────┼────────────────────────┤\n",
              "│ multi_head_attention      │ (<span style=\"color: #00d7ff; text-decoration-color: #00d7ff\">None</span>, <span style=\"color: #00af00; text-decoration-color: #00af00\">100</span>, <span style=\"color: #00af00; text-decoration-color: #00af00\">64</span>)        │         <span style=\"color: #00af00; text-decoration-color: #00af00\">33,216</span> │ embedding_5[<span style=\"color: #00af00; text-decoration-color: #00af00\">0</span>][<span style=\"color: #00af00; text-decoration-color: #00af00\">0</span>],     │\n",
              "│ (<span style=\"color: #0087ff; text-decoration-color: #0087ff\">MultiHeadAttention</span>)      │                        │                │ embedding_5[<span style=\"color: #00af00; text-decoration-color: #00af00\">0</span>][<span style=\"color: #00af00; text-decoration-color: #00af00\">0</span>]      │\n",
              "├───────────────────────────┼────────────────────────┼────────────────┼────────────────────────┤\n",
              "│ add (<span style=\"color: #0087ff; text-decoration-color: #0087ff\">Add</span>)                 │ (<span style=\"color: #00d7ff; text-decoration-color: #00d7ff\">None</span>, <span style=\"color: #00af00; text-decoration-color: #00af00\">100</span>, <span style=\"color: #00af00; text-decoration-color: #00af00\">64</span>)        │              <span style=\"color: #00af00; text-decoration-color: #00af00\">0</span> │ embedding_5[<span style=\"color: #00af00; text-decoration-color: #00af00\">0</span>][<span style=\"color: #00af00; text-decoration-color: #00af00\">0</span>],     │\n",
              "│                           │                        │                │ multi_head_attention[<span style=\"color: #00af00; text-decoration-color: #00af00\">…</span> │\n",
              "├───────────────────────────┼────────────────────────┼────────────────┼────────────────────────┤\n",
              "│ layer_normalization       │ (<span style=\"color: #00d7ff; text-decoration-color: #00d7ff\">None</span>, <span style=\"color: #00af00; text-decoration-color: #00af00\">100</span>, <span style=\"color: #00af00; text-decoration-color: #00af00\">64</span>)        │            <span style=\"color: #00af00; text-decoration-color: #00af00\">128</span> │ add[<span style=\"color: #00af00; text-decoration-color: #00af00\">0</span>][<span style=\"color: #00af00; text-decoration-color: #00af00\">0</span>]              │\n",
              "│ (<span style=\"color: #0087ff; text-decoration-color: #0087ff\">LayerNormalization</span>)      │                        │                │                        │\n",
              "├───────────────────────────┼────────────────────────┼────────────────┼────────────────────────┤\n",
              "│ global_average_pooling1d… │ (<span style=\"color: #00d7ff; text-decoration-color: #00d7ff\">None</span>, <span style=\"color: #00af00; text-decoration-color: #00af00\">64</span>)             │              <span style=\"color: #00af00; text-decoration-color: #00af00\">0</span> │ layer_normalization[<span style=\"color: #00af00; text-decoration-color: #00af00\">0</span>… │\n",
              "│ (<span style=\"color: #0087ff; text-decoration-color: #0087ff\">GlobalAveragePooling1D</span>)  │                        │                │                        │\n",
              "├───────────────────────────┼────────────────────────┼────────────────┼────────────────────────┤\n",
              "│ dropout_9 (<span style=\"color: #0087ff; text-decoration-color: #0087ff\">Dropout</span>)       │ (<span style=\"color: #00d7ff; text-decoration-color: #00d7ff\">None</span>, <span style=\"color: #00af00; text-decoration-color: #00af00\">64</span>)             │              <span style=\"color: #00af00; text-decoration-color: #00af00\">0</span> │ global_average_poolin… │\n",
              "├───────────────────────────┼────────────────────────┼────────────────┼────────────────────────┤\n",
              "│ dense_7 (<span style=\"color: #0087ff; text-decoration-color: #0087ff\">Dense</span>)           │ (<span style=\"color: #00d7ff; text-decoration-color: #00d7ff\">None</span>, <span style=\"color: #00af00; text-decoration-color: #00af00\">1</span>)              │             <span style=\"color: #00af00; text-decoration-color: #00af00\">65</span> │ dropout_9[<span style=\"color: #00af00; text-decoration-color: #00af00\">0</span>][<span style=\"color: #00af00; text-decoration-color: #00af00\">0</span>]        │\n",
              "└───────────────────────────┴────────────────────────┴────────────────┴────────────────────────┘\n",
              "</pre>\n"
            ]
          },
          "metadata": {}
        },
        {
          "output_type": "display_data",
          "data": {
            "text/plain": [
              "\u001b[1m Total params: \u001b[0m\u001b[38;5;34m2,020,421\u001b[0m (7.71 MB)\n"
            ],
            "text/html": [
              "<pre style=\"white-space:pre;overflow-x:auto;line-height:normal;font-family:Menlo,'DejaVu Sans Mono',consolas,'Courier New',monospace\"><span style=\"font-weight: bold\"> Total params: </span><span style=\"color: #00af00; text-decoration-color: #00af00\">2,020,421</span> (7.71 MB)\n",
              "</pre>\n"
            ]
          },
          "metadata": {}
        },
        {
          "output_type": "display_data",
          "data": {
            "text/plain": [
              "\u001b[1m Trainable params: \u001b[0m\u001b[38;5;34m673,473\u001b[0m (2.57 MB)\n"
            ],
            "text/html": [
              "<pre style=\"white-space:pre;overflow-x:auto;line-height:normal;font-family:Menlo,'DejaVu Sans Mono',consolas,'Courier New',monospace\"><span style=\"font-weight: bold\"> Trainable params: </span><span style=\"color: #00af00; text-decoration-color: #00af00\">673,473</span> (2.57 MB)\n",
              "</pre>\n"
            ]
          },
          "metadata": {}
        },
        {
          "output_type": "display_data",
          "data": {
            "text/plain": [
              "\u001b[1m Non-trainable params: \u001b[0m\u001b[38;5;34m0\u001b[0m (0.00 B)\n"
            ],
            "text/html": [
              "<pre style=\"white-space:pre;overflow-x:auto;line-height:normal;font-family:Menlo,'DejaVu Sans Mono',consolas,'Courier New',monospace\"><span style=\"font-weight: bold\"> Non-trainable params: </span><span style=\"color: #00af00; text-decoration-color: #00af00\">0</span> (0.00 B)\n",
              "</pre>\n"
            ]
          },
          "metadata": {}
        },
        {
          "output_type": "display_data",
          "data": {
            "text/plain": [
              "\u001b[1m Optimizer params: \u001b[0m\u001b[38;5;34m1,346,948\u001b[0m (5.14 MB)\n"
            ],
            "text/html": [
              "<pre style=\"white-space:pre;overflow-x:auto;line-height:normal;font-family:Menlo,'DejaVu Sans Mono',consolas,'Courier New',monospace\"><span style=\"font-weight: bold\"> Optimizer params: </span><span style=\"color: #00af00; text-decoration-color: #00af00\">1,346,948</span> (5.14 MB)\n",
              "</pre>\n"
            ]
          },
          "metadata": {}
        }
      ]
    }
  ]
}