{
  "nbformat": 4,
  "nbformat_minor": 0,
  "metadata": {
    "colab": {
      "provenance": [],
      "authorship_tag": "ABX9TyPJ95emVEzXgVOtFQad7VeG",
      "include_colab_link": true
    },
    "kernelspec": {
      "name": "ir",
      "display_name": "R"
    },
    "language_info": {
      "name": "R"
    }
  },
  "cells": [
    {
      "cell_type": "markdown",
      "metadata": {
        "id": "view-in-github",
        "colab_type": "text"
      },
      "source": [
        "<a href=\"https://colab.research.google.com/github/karolinakuligowska/TMSMM_codes/blob/main/TMSMM_class12_RNN_in_R.ipynb\" target=\"_parent\"><img src=\"https://colab.research.google.com/assets/colab-badge.svg\" alt=\"Open In Colab\"/></a>"
      ]
    },
    {
      "cell_type": "code",
      "execution_count": 1,
      "metadata": {
        "colab": {
          "base_uri": "https://localhost:8080/"
        },
        "id": "yvweaU31GDTL",
        "outputId": "4e31a48a-fd89-4262-9050-44d14ed88455"
      },
      "outputs": [
        {
          "output_type": "stream",
          "name": "stderr",
          "text": [
            "\n",
            "Attaching package: ‘dplyr’\n",
            "\n",
            "\n",
            "The following objects are masked from ‘package:stats’:\n",
            "\n",
            "    filter, lag\n",
            "\n",
            "\n",
            "The following objects are masked from ‘package:base’:\n",
            "\n",
            "    intersect, setdiff, setequal, union\n",
            "\n",
            "\n"
          ]
        }
      ],
      "source": [
        "library(dplyr)\n",
        "library(ggplot2)\n",
        "library(purrr)\n",
        "library(readr)"
      ]
    },
    {
      "cell_type": "code",
      "source": [
        "install.packages(\"keras\")"
      ],
      "metadata": {
        "colab": {
          "base_uri": "https://localhost:8080/"
        },
        "id": "cizI3Yy4Uo_d",
        "outputId": "a8045fc3-f21b-4ca2-b848-23d198732433"
      },
      "execution_count": 3,
      "outputs": [
        {
          "output_type": "stream",
          "name": "stderr",
          "text": [
            "Installing package into ‘/usr/local/lib/R/site-library’\n",
            "(as ‘lib’ is unspecified)\n",
            "\n",
            "also installing the dependencies ‘Rcpp’, ‘RcppTOML’, ‘here’, ‘png’, ‘config’, ‘tfautograph’, ‘reticulate’, ‘tensorflow’, ‘tfruns’, ‘zeallot’\n",
            "\n",
            "\n"
          ]
        }
      ]
    },
    {
      "cell_type": "code",
      "source": [
        "library(keras)\n",
        "library(tensorflow)\n",
        "library(reticulate)"
      ],
      "metadata": {
        "id": "yg0kQ5VpUsCT"
      },
      "execution_count": 4,
      "outputs": []
    },
    {
      "cell_type": "code",
      "source": [
        "# 1. Load dataset ----\n",
        "\n",
        "df <- read_csv('movie_review.csv')\n",
        "head(df)"
      ],
      "metadata": {
        "colab": {
          "base_uri": "https://localhost:8080/",
          "height": 467
        },
        "id": "_XPg1u-uU4pG",
        "outputId": "88181a92-e157-499b-a481-036c9dc55e35"
      },
      "execution_count": 5,
      "outputs": [
        {
          "output_type": "stream",
          "name": "stderr",
          "text": [
            "\u001b[1mRows: \u001b[22m\u001b[34m64720\u001b[39m \u001b[1mColumns: \u001b[22m\u001b[34m6\u001b[39m\n",
            "\u001b[36m──\u001b[39m \u001b[1mColumn specification\u001b[22m \u001b[36m────────────────────────────────────────────────────────\u001b[39m\n",
            "\u001b[1mDelimiter:\u001b[22m \",\"\n",
            "\u001b[31mchr\u001b[39m (4): cv_tag, html_id, text, tag\n",
            "\u001b[32mdbl\u001b[39m (2): fold_id, sent_id\n",
            "\n",
            "\u001b[36mℹ\u001b[39m Use `spec()` to retrieve the full column specification for this data.\n",
            "\u001b[36mℹ\u001b[39m Specify the column types or set `show_col_types = FALSE` to quiet this message.\n"
          ]
        },
        {
          "output_type": "display_data",
          "data": {
            "text/html": [
              "<table class=\"dataframe\">\n",
              "<caption>A tibble: 6 × 6</caption>\n",
              "<thead>\n",
              "\t<tr><th scope=col>fold_id</th><th scope=col>cv_tag</th><th scope=col>html_id</th><th scope=col>sent_id</th><th scope=col>text</th><th scope=col>tag</th></tr>\n",
              "\t<tr><th scope=col>&lt;dbl&gt;</th><th scope=col>&lt;chr&gt;</th><th scope=col>&lt;chr&gt;</th><th scope=col>&lt;dbl&gt;</th><th scope=col>&lt;chr&gt;</th><th scope=col>&lt;chr&gt;</th></tr>\n",
              "</thead>\n",
              "<tbody>\n",
              "\t<tr><td>0</td><td>cv000</td><td>29590</td><td>0</td><td>films adapted from comic books have had plenty of success , whether they're about superheroes ( batman , superman , spawn ) , or geared toward kids ( casper ) or the arthouse crowd ( ghost world ) , but there's never really been a comic book like from hell before .</td><td>pos</td></tr>\n",
              "\t<tr><td>0</td><td>cv000</td><td>29590</td><td>1</td><td>for starters , it was created by alan moore ( and eddie campbell ) , who brought the medium to a whole new level in the mid '80s with a 12-part series called the watchmen .                                                                                             </td><td>pos</td></tr>\n",
              "\t<tr><td>0</td><td>cv000</td><td>29590</td><td>2</td><td>to say moore and campbell thoroughly researched the subject of jack the ripper would be like saying michael jackson is starting to look a little odd .                                                                                                                   </td><td>pos</td></tr>\n",
              "\t<tr><td>0</td><td>cv000</td><td>29590</td><td>3</td><td>the book ( or \" graphic novel , \" if you will ) is over 500 pages long and includes nearly 30 more that consist of nothing but footnotes .                                                                                                                               </td><td>pos</td></tr>\n",
              "\t<tr><td>0</td><td>cv000</td><td>29590</td><td>4</td><td>in other words , don't dismiss this film because of its source .                                                                                                                                                                                                         </td><td>pos</td></tr>\n",
              "\t<tr><td>0</td><td>cv000</td><td>29590</td><td>5</td><td>if you can get past the whole comic book thing , you might find another stumbling block in from hell's directors , albert and allen hughes .                                                                                                                             </td><td>pos</td></tr>\n",
              "</tbody>\n",
              "</table>\n"
            ],
            "text/markdown": "\nA tibble: 6 × 6\n\n| fold_id &lt;dbl&gt; | cv_tag &lt;chr&gt; | html_id &lt;chr&gt; | sent_id &lt;dbl&gt; | text &lt;chr&gt; | tag &lt;chr&gt; |\n|---|---|---|---|---|---|\n| 0 | cv000 | 29590 | 0 | films adapted from comic books have had plenty of success , whether they're about superheroes ( batman , superman , spawn ) , or geared toward kids ( casper ) or the arthouse crowd ( ghost world ) , but there's never really been a comic book like from hell before . | pos |\n| 0 | cv000 | 29590 | 1 | for starters , it was created by alan moore ( and eddie campbell ) , who brought the medium to a whole new level in the mid '80s with a 12-part series called the watchmen .                                                                                              | pos |\n| 0 | cv000 | 29590 | 2 | to say moore and campbell thoroughly researched the subject of jack the ripper would be like saying michael jackson is starting to look a little odd .                                                                                                                    | pos |\n| 0 | cv000 | 29590 | 3 | the book ( or \" graphic novel , \" if you will ) is over 500 pages long and includes nearly 30 more that consist of nothing but footnotes .                                                                                                                                | pos |\n| 0 | cv000 | 29590 | 4 | in other words , don't dismiss this film because of its source .                                                                                                                                                                                                          | pos |\n| 0 | cv000 | 29590 | 5 | if you can get past the whole comic book thing , you might find another stumbling block in from hell's directors , albert and allen hughes .                                                                                                                              | pos |\n\n",
            "text/latex": "A tibble: 6 × 6\n\\begin{tabular}{llllll}\n fold\\_id & cv\\_tag & html\\_id & sent\\_id & text & tag\\\\\n <dbl> & <chr> & <chr> & <dbl> & <chr> & <chr>\\\\\n\\hline\n\t 0 & cv000 & 29590 & 0 & films adapted from comic books have had plenty of success , whether they're about superheroes ( batman , superman , spawn ) , or geared toward kids ( casper ) or the arthouse crowd ( ghost world ) , but there's never really been a comic book like from hell before . & pos\\\\\n\t 0 & cv000 & 29590 & 1 & for starters , it was created by alan moore ( and eddie campbell ) , who brought the medium to a whole new level in the mid '80s with a 12-part series called the watchmen .                                                                                              & pos\\\\\n\t 0 & cv000 & 29590 & 2 & to say moore and campbell thoroughly researched the subject of jack the ripper would be like saying michael jackson is starting to look a little odd .                                                                                                                    & pos\\\\\n\t 0 & cv000 & 29590 & 3 & the book ( or \" graphic novel , \" if you will ) is over 500 pages long and includes nearly 30 more that consist of nothing but footnotes .                                                                                                                                & pos\\\\\n\t 0 & cv000 & 29590 & 4 & in other words , don't dismiss this film because of its source .                                                                                                                                                                                                          & pos\\\\\n\t 0 & cv000 & 29590 & 5 & if you can get past the whole comic book thing , you might find another stumbling block in from hell's directors , albert and allen hughes .                                                                                                                              & pos\\\\\n\\end{tabular}\n",
            "text/plain": [
              "  fold_id cv_tag html_id sent_id\n",
              "1 0       cv000  29590   0      \n",
              "2 0       cv000  29590   1      \n",
              "3 0       cv000  29590   2      \n",
              "4 0       cv000  29590   3      \n",
              "5 0       cv000  29590   4      \n",
              "6 0       cv000  29590   5      \n",
              "  text                                                                                                                                                                                                                                                                     \n",
              "1 films adapted from comic books have had plenty of success , whether they're about superheroes ( batman , superman , spawn ) , or geared toward kids ( casper ) or the arthouse crowd ( ghost world ) , but there's never really been a comic book like from hell before .\n",
              "2 for starters , it was created by alan moore ( and eddie campbell ) , who brought the medium to a whole new level in the mid '80s with a 12-part series called the watchmen .                                                                                             \n",
              "3 to say moore and campbell thoroughly researched the subject of jack the ripper would be like saying michael jackson is starting to look a little odd .                                                                                                                   \n",
              "4 the book ( or \" graphic novel , \" if you will ) is over 500 pages long and includes nearly 30 more that consist of nothing but footnotes .                                                                                                                               \n",
              "5 in other words , don't dismiss this film because of its source .                                                                                                                                                                                                         \n",
              "6 if you can get past the whole comic book thing , you might find another stumbling block in from hell's directors , albert and allen hughes .                                                                                                                             \n",
              "  tag\n",
              "1 pos\n",
              "2 pos\n",
              "3 pos\n",
              "4 pos\n",
              "5 pos\n",
              "6 pos"
            ]
          },
          "metadata": {}
        }
      ]
    },
    {
      "cell_type": "code",
      "source": [
        "# 2. Explore the data ----\n",
        "\n",
        "df %>% count(tag)"
      ],
      "metadata": {
        "colab": {
          "base_uri": "https://localhost:8080/",
          "height": 178
        },
        "id": "Hexi6rwoU8BK",
        "outputId": "b73cafdb-1a3f-455a-f2e6-d28ef3562cf9"
      },
      "execution_count": 14,
      "outputs": [
        {
          "output_type": "display_data",
          "data": {
            "text/html": [
              "<table class=\"dataframe\">\n",
              "<caption>A spec_tbl_df: 2 × 2</caption>\n",
              "<thead>\n",
              "\t<tr><th scope=col>tag</th><th scope=col>n</th></tr>\n",
              "\t<tr><th scope=col>&lt;chr&gt;</th><th scope=col>&lt;int&gt;</th></tr>\n",
              "</thead>\n",
              "<tbody>\n",
              "\t<tr><td>neg</td><td>31783</td></tr>\n",
              "\t<tr><td>pos</td><td>32937</td></tr>\n",
              "</tbody>\n",
              "</table>\n"
            ],
            "text/markdown": "\nA spec_tbl_df: 2 × 2\n\n| tag &lt;chr&gt; | n &lt;int&gt; |\n|---|---|\n| neg | 31783 |\n| pos | 32937 |\n\n",
            "text/latex": "A spec\\_tbl\\_df: 2 × 2\n\\begin{tabular}{ll}\n tag & n\\\\\n <chr> & <int>\\\\\n\\hline\n\t neg & 31783\\\\\n\t pos & 32937\\\\\n\\end{tabular}\n",
            "text/plain": [
              "  tag n    \n",
              "1 neg 31783\n",
              "2 pos 32937"
            ]
          },
          "metadata": {}
        }
      ]
    },
    {
      "cell_type": "code",
      "source": [
        "df$text[1]"
      ],
      "metadata": {
        "colab": {
          "base_uri": "https://localhost:8080/",
          "height": 52
        },
        "id": "mi61CSCFZCO-",
        "outputId": "e846f6bb-454f-453f-d50e-80a8786d136a"
      },
      "execution_count": 15,
      "outputs": [
        {
          "output_type": "display_data",
          "data": {
            "text/html": [
              "'films adapted from comic books have had plenty of success , whether they\\'re about superheroes ( batman , superman , spawn ) , or geared toward kids ( casper ) or the arthouse crowd ( ghost world ) , but there\\'s never really been a comic book like from hell before .'"
            ],
            "text/markdown": "'films adapted from comic books have had plenty of success , whether they\\'re about superheroes ( batman , superman , spawn ) , or geared toward kids ( casper ) or the arthouse crowd ( ghost world ) , but there\\'s never really been a comic book like from hell before .'",
            "text/latex": "'films adapted from comic books have had plenty of success , whether they\\textbackslash{}'re about superheroes ( batman , superman , spawn ) , or geared toward kids ( casper ) or the arthouse crowd ( ghost world ) , but there\\textbackslash{}'s never really been a comic book like from hell before .'",
            "text/plain": [
              "[1] \"films adapted from comic books have had plenty of success , whether they're about superheroes ( batman , superman , spawn ) , or geared toward kids ( casper ) or the arthouse crowd ( ghost world ) , but there's never really been a comic book like from hell before .\""
            ]
          },
          "metadata": {}
        }
      ]
    },
    {
      "cell_type": "code",
      "source": [
        "training_id <- sample.int(nrow(df), size = nrow(df)*0.8)\n",
        "training <- df[training_id,]\n",
        "testing <- df[-training_id,]"
      ],
      "metadata": {
        "id": "XigA4wXzU8u9"
      },
      "execution_count": 16,
      "outputs": []
    },
    {
      "cell_type": "code",
      "source": [
        "# find out what is the distribution\n",
        "# of the number of words in each review\n",
        "df$text %>%\n",
        "  strsplit(\" \") %>%\n",
        "  sapply(length) %>%\n",
        "  summary()"
      ],
      "metadata": {
        "colab": {
          "base_uri": "https://localhost:8080/",
          "height": 53
        },
        "id": "ASP4BFyzU_VN",
        "outputId": "24115a1b-859b-4b23-cae3-553c38d299b9"
      },
      "execution_count": 17,
      "outputs": [
        {
          "output_type": "display_data",
          "data": {
            "text/plain": [
              "   Min. 1st Qu.  Median    Mean 3rd Qu.    Max. \n",
              "   1.00   14.00   21.00   23.06   30.00  179.00 "
            ]
          },
          "metadata": {}
        }
      ]
    },
    {
      "cell_type": "code",
      "source": [
        "# 3. Prepare the data ----\n",
        "\n",
        "# the text — must be converted to tensors\n",
        "# before fed into the neural network\n",
        "\n",
        "num_words <- 10000\n",
        "max_length <- 50\n",
        "text_vectorization <- layer_text_vectorization(\n",
        "  max_tokens = num_words,\n",
        "  output_sequence_length = max_length,\n",
        ")"
      ],
      "metadata": {
        "id": "WFij2Cq9VB6r"
      },
      "execution_count": 18,
      "outputs": []
    },
    {
      "cell_type": "code",
      "source": [
        "# Now, adapt the Text Vectorization layer.\n",
        "# When we call adapt that the layer will learn\n",
        "# about unique words in our dataset and assign an integer value for each one.\n",
        "\n",
        "text_vectorization %>%\n",
        "  adapt(df$text)"
      ],
      "metadata": {
        "id": "vzGeloeXVEjz"
      },
      "execution_count": 19,
      "outputs": []
    },
    {
      "cell_type": "code",
      "source": [
        "# The vocabulary is in our text vectorization layer\n",
        "# see first 10 words\n",
        "get_vocabulary(text_vectorization) %>% head(10)"
      ],
      "metadata": {
        "colab": {
          "base_uri": "https://localhost:8080/",
          "height": 34
        },
        "id": "UOnxLlQbVHag",
        "outputId": "752ff90d-0b91-4605-f3c0-b515ee310ac7"
      },
      "execution_count": 20,
      "outputs": [
        {
          "output_type": "display_data",
          "data": {
            "text/html": [
              "<style>\n",
              ".list-inline {list-style: none; margin:0; padding: 0}\n",
              ".list-inline>li {display: inline-block}\n",
              ".list-inline>li:not(:last-child)::after {content: \"\\00b7\"; padding: 0 .5ex}\n",
              "</style>\n",
              "<ol class=list-inline><li>''</li><li>'[UNK]'</li><li>'the'</li><li>'a'</li><li>'and'</li><li>'of'</li><li>'to'</li><li>'is'</li><li>'in'</li><li>'that'</li></ol>\n"
            ],
            "text/markdown": "1. ''\n2. '[UNK]'\n3. 'the'\n4. 'a'\n5. 'and'\n6. 'of'\n7. 'to'\n8. 'is'\n9. 'in'\n10. 'that'\n\n\n",
            "text/latex": "\\begin{enumerate*}\n\\item ''\n\\item '{[}UNK{]}'\n\\item 'the'\n\\item 'a'\n\\item 'and'\n\\item 'of'\n\\item 'to'\n\\item 'is'\n\\item 'in'\n\\item 'that'\n\\end{enumerate*}\n",
            "text/plain": [
              " [1] \"\"      \"[UNK]\" \"the\"   \"a\"     \"and\"   \"of\"    \"to\"    \"is\"    \"in\"   \n",
              "[10] \"that\" "
            ]
          },
          "metadata": {}
        }
      ]
    },
    {
      "cell_type": "code",
      "source": [
        "# See how the text vectorization layer transforms it’s inputs:\n",
        "text_vectorization(matrix(df$text[1], ncol = 1))"
      ],
      "metadata": {
        "colab": {
          "base_uri": "https://localhost:8080/",
          "height": 108
        },
        "id": "7fOD9K47VJ3S",
        "outputId": "488672ad-3c47-4b23-da28-113e5a542ef1"
      },
      "execution_count": 21,
      "outputs": [
        {
          "output_type": "display_data",
          "data": {
            "text/plain": [
              "tf.Tensor(\n",
              "[[  68 2835   30  359 1662   33   91 1056    5  632  631  321   41 7803\n",
              "   709 4865 1767   48 7600 1337  398 5161   48    2    1 1808 1800  148\n",
              "    17  140  109   90   69    3  359  408   40   30  503  142    0    0\n",
              "     0    0    0    0    0    0    0    0]], shape=(1, 50), dtype=int64)"
            ]
          },
          "metadata": {}
        }
      ]
    },
    {
      "cell_type": "code",
      "source": [
        "# 4. Build the model ----\n",
        "\n",
        "input <- layer_input(shape = c(1), dtype = \"string\")\n",
        "\n",
        "output <- input %>%\n",
        "  text_vectorization() %>%\n",
        "  layer_embedding(input_dim = num_words + 1, output_dim = 16) %>%\n",
        "  layer_global_average_pooling_1d() %>%\n",
        "  layer_dense(units = 16, activation = \"relu\") %>%\n",
        "  layer_dropout(0.5) %>%\n",
        "  layer_dense(units = 1, activation = \"sigmoid\")\n",
        "\n",
        "model <- keras_model(input, output)"
      ],
      "metadata": {
        "id": "eN2XW-nhVMDd"
      },
      "execution_count": 22,
      "outputs": []
    },
    {
      "cell_type": "code",
      "source": [
        "# 5. Hidden units ----\n",
        "\n",
        "# This model has two intermediate or “hidden” layers,\n",
        "# between the input and output.\n",
        "# The number of outputs (units, nodes, or neurons)\n",
        "# is the dimension of the representational space for the layer.\n",
        "# In other words, the amount of freedom the network is allowed\n",
        "# when learning an internal representation.\n",
        "\n",
        "\n",
        "\n",
        "# 6. Loss function and optimizer ----\n",
        "\n",
        "model %>% compile(\n",
        "  optimizer = 'adam',\n",
        "  loss = 'binary_crossentropy',\n",
        "  metrics = list('accuracy')\n",
        ")\n"
      ],
      "metadata": {
        "id": "gsNl3jJfVOZc"
      },
      "execution_count": 24,
      "outputs": []
    },
    {
      "cell_type": "code",
      "source": [
        "# 7. Train the model ----\n",
        "\n",
        "# Train the model for 20 epochs in mini-batches of 512 samples.\n",
        "\n",
        "\n",
        "history <- model %>% fit(\n",
        "  training$text,\n",
        "  as.numeric(training$tag == \"pos\"),\n",
        "  epochs = 20,\n",
        "  batch_size = 512,\n",
        "  validation_split = 0.2,\n",
        "  verbose=2\n",
        ")"
      ],
      "metadata": {
        "id": "ZcZWUU9qVS7r"
      },
      "execution_count": 25,
      "outputs": []
    },
    {
      "cell_type": "code",
      "source": [
        "# 8. Evaluate the model ----\n",
        "\n",
        "results <- model %>%\n",
        "  evaluate(testing$text, as.numeric(testing$tag == \"pos\"), verbose = 0)\n",
        "\n",
        "results\n",
        "\n",
        "# This naive approach achieves an accuracy of about 67-68%.\n",
        "# With more advanced approaches,\n",
        "# the model should get closer to 85%."
      ],
      "metadata": {
        "colab": {
          "base_uri": "https://localhost:8080/",
          "height": 34
        },
        "id": "zx0IC4MWVTwz",
        "outputId": "f36baa75-bfeb-4f47-fc3e-7909dfef3ec2"
      },
      "execution_count": 26,
      "outputs": [
        {
          "output_type": "display_data",
          "data": {
            "text/html": [
              "<style>\n",
              ".dl-inline {width: auto; margin:0; padding: 0}\n",
              ".dl-inline>dt, .dl-inline>dd {float: none; width: auto; display: inline-block}\n",
              ".dl-inline>dt::after {content: \":\\0020\"; padding-right: .5ex}\n",
              ".dl-inline>dt:not(:first-of-type) {padding-left: .5ex}\n",
              "</style><dl class=dl-inline><dt>loss</dt><dd>0.641203224658966</dd><dt>accuracy</dt><dd>0.67513906955719</dd></dl>\n"
            ],
            "text/markdown": "loss\n:   0.641203224658966accuracy\n:   0.67513906955719\n\n",
            "text/latex": "\\begin{description*}\n\\item[loss] 0.641203224658966\n\\item[accuracy] 0.67513906955719\n\\end{description*}\n",
            "text/plain": [
              "     loss  accuracy \n",
              "0.6412032 0.6751391 "
            ]
          },
          "metadata": {}
        }
      ]
    },
    {
      "cell_type": "code",
      "source": [
        "# graph of accuracy and loss over time\n",
        "plot(history)"
      ],
      "metadata": {
        "colab": {
          "base_uri": "https://localhost:8080/",
          "height": 437
        },
        "id": "D0sMR79zVWhL",
        "outputId": "ab936d03-0d4a-4b4a-d3ba-21aa8dc89ab9"
      },
      "execution_count": 27,
      "outputs": [
        {
          "output_type": "display_data",
          "data": {
            "text/plain": [
              "plot without title"
            ],
            "image/png": "[encoded data removed]"
          },
          "metadata": {
            "image/png": {
              "width": 420,
              "height": 420
            }
          }
        }
      ]
    },
    {
      "cell_type": "code",
      "source": [
        "new_reviews <- c(\n",
        "  \"it was awesome!\",\n",
        "  \"I watched with pleasure\",\n",
        "  \"the screening was a disaster I was ashamed of quality\",\n",
        "  \"a misunderstanding, weak story\",\n",
        "  \"rubbish stupid movie\"\n",
        ")\n",
        "\n",
        "new_reviews"
      ],
      "metadata": {
        "colab": {
          "base_uri": "https://localhost:8080/",
          "height": 34
        },
        "id": "lSoXllluVbLA",
        "outputId": "1845968b-66ff-4ab0-f57e-738617d68acb"
      },
      "execution_count": 28,
      "outputs": [
        {
          "output_type": "display_data",
          "data": {
            "text/html": [
              "<style>\n",
              ".list-inline {list-style: none; margin:0; padding: 0}\n",
              ".list-inline>li {display: inline-block}\n",
              ".list-inline>li:not(:last-child)::after {content: \"\\00b7\"; padding: 0 .5ex}\n",
              "</style>\n",
              "<ol class=list-inline><li>'it was awesome!'</li><li>'I watched with pleasure'</li><li>'the screening was a disaster I was ashamed of quality'</li><li>'a misunderstanding, weak story'</li><li>'rubbish stupid movie'</li></ol>\n"
            ],
            "text/markdown": "1. 'it was awesome!'\n2. 'I watched with pleasure'\n3. 'the screening was a disaster I was ashamed of quality'\n4. 'a misunderstanding, weak story'\n5. 'rubbish stupid movie'\n\n\n",
            "text/latex": "\\begin{enumerate*}\n\\item 'it was awesome!'\n\\item 'I watched with pleasure'\n\\item 'the screening was a disaster I was ashamed of quality'\n\\item 'a misunderstanding, weak story'\n\\item 'rubbish stupid movie'\n\\end{enumerate*}\n",
            "text/plain": [
              "[1] \"it was awesome!\"                                      \n",
              "[2] \"I watched with pleasure\"                              \n",
              "[3] \"the screening was a disaster I was ashamed of quality\"\n",
              "[4] \"a misunderstanding, weak story\"                       \n",
              "[5] \"rubbish stupid movie\"                                 "
            ]
          },
          "metadata": {}
        }
      ]
    },
    {
      "cell_type": "code",
      "source": [
        "predict(model, new_reviews)"
      ],
      "metadata": {
        "colab": {
          "base_uri": "https://localhost:8080/",
          "height": 208
        },
        "id": "kZJt5m6LVdi0",
        "outputId": "bab73938-4da2-4ef3-c788-8c69ef7ba694"
      },
      "execution_count": 29,
      "outputs": [
        {
          "output_type": "display_data",
          "data": {
            "text/html": [
              "<table class=\"dataframe\">\n",
              "<caption>A matrix: 5 × 1 of type dbl</caption>\n",
              "<tbody>\n",
              "\t<tr><td>0.7453844</td></tr>\n",
              "\t<tr><td>0.4227466</td></tr>\n",
              "\t<tr><td>0.3491215</td></tr>\n",
              "\t<tr><td>0.2587469</td></tr>\n",
              "\t<tr><td>0.1499337</td></tr>\n",
              "</tbody>\n",
              "</table>\n"
            ],
            "text/markdown": "\nA matrix: 5 × 1 of type dbl\n\n| 0.7453844 |\n| 0.4227466 |\n| 0.3491215 |\n| 0.2587469 |\n| 0.1499337 |\n\n",
            "text/latex": "A matrix: 5 × 1 of type dbl\n\\begin{tabular}{l}\n\t 0.7453844\\\\\n\t 0.4227466\\\\\n\t 0.3491215\\\\\n\t 0.2587469\\\\\n\t 0.1499337\\\\\n\\end{tabular}\n",
            "text/plain": [
              "     [,1]     \n",
              "[1,] 0.7453844\n",
              "[2,] 0.4227466\n",
              "[3,] 0.3491215\n",
              "[4,] 0.2587469\n",
              "[5,] 0.1499337"
            ]
          },
          "metadata": {}
        }
      ]
    }
  ]
}