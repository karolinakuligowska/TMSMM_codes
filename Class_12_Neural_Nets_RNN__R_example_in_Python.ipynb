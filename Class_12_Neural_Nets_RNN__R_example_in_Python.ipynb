{
  "nbformat": 4,
  "nbformat_minor": 0,
  "metadata": {
    "colab": {
      "provenance": [],
      "include_colab_link": true
    },
    "kernelspec": {
      "name": "python3",
      "display_name": "Python 3"
    },
    "language_info": {
      "name": "python"
    }
  },
  "cells": [
    {
      "cell_type": "markdown",
      "metadata": {
        "id": "view-in-github",
        "colab_type": "text"
      },
      "source": [
        "<a href=\"https://colab.research.google.com/github/karolinakuligowska/TMSMM_codes/blob/main/Class_12_Neural_Nets_RNN__R_example_in_Python.ipynb\" target=\"_parent\"><img src=\"https://colab.research.google.com/assets/colab-badge.svg\" alt=\"Open In Colab\"/></a>"
      ]
    },
    {
      "cell_type": "code",
      "execution_count": 31,
      "metadata": {
        "id": "KjI8Vpf0u_kS"
      },
      "outputs": [],
      "source": [
        "import pandas as pd\n",
        "import numpy as np\n",
        "import tensorflow as tf\n",
        "from tensorflow.keras.layers import TextVectorization, Embedding, GlobalAveragePooling1D, Dense, Dropout, Input\n",
        "from tensorflow.keras.models import Model\n",
        "from sklearn.model_selection import train_test_split\n",
        "import matplotlib.pyplot as plt"
      ]
    },
    {
      "cell_type": "code",
      "source": [
        "# 1. Load dataset ----\n",
        "df = pd.read_csv('movie_review.csv', encoding='utf-8')\n",
        "print(df.head())"
      ],
      "metadata": {
        "id": "5sz-cAbCtoZA",
        "outputId": "6dbaf1b6-84c2-4baa-b04c-1c8a882379c4",
        "colab": {
          "base_uri": "https://localhost:8080/"
        }
      },
      "execution_count": 32,
      "outputs": [
        {
          "output_type": "stream",
          "name": "stdout",
          "text": [
            "   fold_id cv_tag  html_id  sent_id  \\\n",
            "0        0  cv000    29590        0   \n",
            "1        0  cv000    29590        1   \n",
            "2        0  cv000    29590        2   \n",
            "3        0  cv000    29590        3   \n",
            "4        0  cv000    29590        4   \n",
            "\n",
            "                                                text  tag  \n",
            "0  films adapted from comic books have had plenty...  pos  \n",
            "1  for starters , it was created by alan moore ( ...  pos  \n",
            "2  to say moore and campbell thoroughly researche...  pos  \n",
            "3  the book ( or \" graphic novel , \" if you will ...  pos  \n",
            "4  in other words , don't dismiss this film becau...  pos  \n"
          ]
        }
      ]
    },
    {
      "cell_type": "code",
      "source": [
        "# 2. Explore the data ----\n",
        "print(df['tag'].value_counts())\n",
        "print(df['text'][0])"
      ],
      "metadata": {
        "id": "XYjR3NtntxA8",
        "outputId": "e276341c-3b7d-4085-917f-8ea5061e7d6c",
        "colab": {
          "base_uri": "https://localhost:8080/"
        }
      },
      "execution_count": 33,
      "outputs": [
        {
          "output_type": "stream",
          "name": "stdout",
          "text": [
            "tag\n",
            "pos    32937\n",
            "neg    31783\n",
            "Name: count, dtype: int64\n",
            "films adapted from comic books have had plenty of success , whether they're about superheroes ( batman , superman , spawn ) , or geared toward kids ( casper ) or the arthouse crowd ( ghost world ) , but there's never really been a comic book like from hell before .\n"
          ]
        }
      ]
    },
    {
      "cell_type": "code",
      "source": [
        "# Split the dataset into training and testing\n",
        "training, testing = train_test_split(df, test_size=0.2, random_state=123)\n",
        "\n",
        "# Analyze word distribution in reviews:\n",
        "# find out what is the distribution\n",
        "# of the number of words in each review\n",
        "word_counts = df['text'].apply(lambda x: len(x.split()))\n",
        "print(word_counts.describe())"
      ],
      "metadata": {
        "colab": {
          "base_uri": "https://localhost:8080/"
        },
        "id": "nTsWh7XXvFB7",
        "outputId": "d08902c5-7c29-4d40-fb1d-e8ce7272f4bc"
      },
      "execution_count": 34,
      "outputs": [
        {
          "output_type": "stream",
          "name": "stdout",
          "text": [
            "count    64720.000000\n",
            "mean        23.063674\n",
            "std         13.453944\n",
            "min          1.000000\n",
            "25%         14.000000\n",
            "50%         21.000000\n",
            "75%         30.000000\n",
            "max        179.000000\n",
            "Name: text, dtype: float64\n"
          ]
        }
      ]
    },
    {
      "cell_type": "code",
      "source": [
        "# 3. Prepare the data ----\n",
        "\n",
        "# the text — must be converted to tensors\n",
        "# before fed into the neural network\n",
        "\n",
        "num_words = 10000\n",
        "max_length = 50\n",
        "\n",
        "# Create the TextVectorization layer\n",
        "text_vectorization = TextVectorization(\n",
        "    max_tokens=num_words,\n",
        "    output_sequence_length=max_length\n",
        ")\n"
      ],
      "metadata": {
        "id": "fstaFM3QuZ_j"
      },
      "execution_count": 35,
      "outputs": []
    },
    {
      "cell_type": "code",
      "source": [
        "# Now, adapt the Text Vectorization layer.\n",
        "# When we call adapt that the layer will learn\n",
        "# about unique words in our dataset and assign an integer value for each one.\n",
        "\n",
        "# Adapt the TextVectorization layer to the training data\n",
        "text_vectorization.adapt(training['text'])"
      ],
      "metadata": {
        "id": "MmxkUj5Lu2mF"
      },
      "execution_count": 36,
      "outputs": []
    },
    {
      "cell_type": "code",
      "source": [
        "# The vocabulary is in our text vectorization layer\n",
        "# see first 10 words\n",
        "vocabulary = text_vectorization.get_vocabulary()\n",
        "print(vocabulary[:10])"
      ],
      "metadata": {
        "id": "nwipUsxcvPr5",
        "outputId": "1b55f12e-eb47-40f7-fbdb-1d3412fe9186",
        "colab": {
          "base_uri": "https://localhost:8080/"
        }
      },
      "execution_count": 37,
      "outputs": [
        {
          "output_type": "stream",
          "name": "stdout",
          "text": [
            "['', '[UNK]', 'the', 'a', 'and', 'of', 'to', 'is', 'in', 'that']\n"
          ]
        }
      ]
    },
    {
      "cell_type": "code",
      "source": [
        "# See how the text vectorization layer transforms inputs\n",
        "sample_text = training['text'].iloc[0]\n",
        "print(f\"Original: {sample_text}\")\n",
        "print(f\"Transformed: {text_vectorization(tf.constant([sample_text])).numpy()}\")"
      ],
      "metadata": {
        "colab": {
          "base_uri": "https://localhost:8080/"
        },
        "id": "W4RqRli_vHb5",
        "outputId": "6f8426d1-8cfd-4dee-e2d1-d258f01d4325"
      },
      "execution_count": 38,
      "outputs": [
        {
          "output_type": "stream",
          "name": "stdout",
          "text": [
            "Original: i wouldn't be surprised if a couple of guys got together and created the opening credits , and then someone saw it and made up a story to go along with it .\n",
            "Transformed: [[  19  705   23 1218   52    3  306    5  482  295  261    4  880    2\n",
            "   443  690    4  103  351  510   10    4  136   48    3   67    6  129\n",
            "   266   12   10    0    0    0    0    0    0    0    0    0    0    0\n",
            "     0    0    0    0    0    0    0    0]]\n"
          ]
        }
      ]
    },
    {
      "cell_type": "code",
      "source": [
        "# 4. Build the model ----\n",
        "\n",
        "input_layer = Input(shape=(1,), dtype=\"string\")\n",
        "\n",
        "x = text_vectorization(input_layer)\n",
        "x = Embedding(input_dim=num_words + 1, output_dim=16)(x)\n",
        "x = GlobalAveragePooling1D()(x)\n",
        "x = Dense(16, activation=\"relu\")(x)\n",
        "x = Dropout(0.5)(x)\n",
        "\n",
        "output_layer = Dense(1, activation=\"sigmoid\")(x)\n",
        "\n",
        "model = Model(input_layer, output_layer)"
      ],
      "metadata": {
        "id": "owA5tiz_vjXb"
      },
      "execution_count": 39,
      "outputs": []
    },
    {
      "cell_type": "code",
      "source": [
        "# 5. Hidden units ----\n",
        "\n",
        "# This model has 16 neurons in a single hidden layer\n",
        "# between the input and output:\n",
        "# - input layer accepts a single string input.\n",
        "\n",
        "# - Text Vectorization Layer processes text into numerical representations\n",
        "# (not a hidden layer, just preprocessing)\n",
        "\n",
        "# - Embedding Layer:maps words to dense vectors of size 16.\n",
        "# (not considered a hidden layer, but a learnable representation)\n",
        "\n",
        "# - Global Average Pooling Layer converts the sequence of word embeddings\n",
        "# into a fixed-size vector by averaging across all word embeddings.\n",
        "# (not a hidden layer but a dimensionality reduction step)\n",
        "\n",
        "# - first fully connected (Dense) hidden layer:\n",
        "# x = Dense(16, activation=\"relu\")(x)\n",
        "# (this is the first hidden layer with 16 units)\n",
        "\n",
        "# - Dropout Layer is a regularization step\n",
        " # (not a hidden layer)\n",
        "\n",
        "# - output layer\n",
        "# output_layer = Dense(1, activation=\"sigmoid\")(x)\n",
        "# Is the final output layer with 1 unit (binary classification)."
      ],
      "metadata": {
        "id": "4NXqwQWDyZMH"
      },
      "execution_count": 40,
      "outputs": []
    },
    {
      "cell_type": "code",
      "source": [
        "# 6. Loss function and optimizer ----\n",
        "\n",
        "model.compile(\n",
        "    optimizer='adam',\n",
        "    loss='binary_crossentropy',\n",
        "    metrics=['accuracy']\n",
        ")"
      ],
      "metadata": {
        "id": "u68CgX7szRn8"
      },
      "execution_count": 41,
      "outputs": []
    },
    {
      "cell_type": "code",
      "source": [
        "# 7. Train the model ----\n",
        "\n",
        "# Train the model for 20 epochs in mini-batches of 512 samples.\n",
        "\n",
        "history = model.fit(\n",
        "    x=training['text'],\n",
        "    y=(training['tag'] == \"pos\").astype(int),\n",
        "    epochs=20,\n",
        "    batch_size=512,\n",
        "    validation_split=0.2,\n",
        "    verbose=2\n",
        ")"
      ],
      "metadata": {
        "id": "oVMM5zxVzaA9",
        "outputId": "a08bbfd0-5e78-4243-a430-698df4c0614c",
        "colab": {
          "base_uri": "https://localhost:8080/"
        }
      },
      "execution_count": 42,
      "outputs": [
        {
          "output_type": "stream",
          "name": "stdout",
          "text": [
            "Epoch 1/20\n",
            "81/81 - 35s - 426ms/step - accuracy: 0.5186 - loss: 0.6922 - val_accuracy: 0.5428 - val_loss: 0.6904\n",
            "Epoch 2/20\n",
            "81/81 - 1s - 13ms/step - accuracy: 0.5455 - loss: 0.6884 - val_accuracy: 0.5673 - val_loss: 0.6847\n",
            "Epoch 3/20\n",
            "81/81 - 1s - 15ms/step - accuracy: 0.5764 - loss: 0.6796 - val_accuracy: 0.5943 - val_loss: 0.6739\n",
            "Epoch 4/20\n",
            "81/81 - 1s - 16ms/step - accuracy: 0.6140 - loss: 0.6642 - val_accuracy: 0.6066 - val_loss: 0.6615\n",
            "Epoch 5/20\n",
            "81/81 - 1s - 16ms/step - accuracy: 0.6504 - loss: 0.6397 - val_accuracy: 0.6612 - val_loss: 0.6355\n",
            "Epoch 6/20\n",
            "81/81 - 2s - 25ms/step - accuracy: 0.6770 - loss: 0.6147 - val_accuracy: 0.6727 - val_loss: 0.6186\n",
            "Epoch 7/20\n",
            "81/81 - 2s - 20ms/step - accuracy: 0.6958 - loss: 0.5911 - val_accuracy: 0.6753 - val_loss: 0.6070\n",
            "Epoch 8/20\n",
            "81/81 - 1s - 13ms/step - accuracy: 0.7140 - loss: 0.5687 - val_accuracy: 0.6810 - val_loss: 0.5985\n",
            "Epoch 9/20\n",
            "81/81 - 1s - 14ms/step - accuracy: 0.7293 - loss: 0.5524 - val_accuracy: 0.6795 - val_loss: 0.5979\n",
            "Epoch 10/20\n",
            "81/81 - 1s - 12ms/step - accuracy: 0.7366 - loss: 0.5390 - val_accuracy: 0.6864 - val_loss: 0.5925\n",
            "Epoch 11/20\n",
            "81/81 - 1s - 11ms/step - accuracy: 0.7456 - loss: 0.5262 - val_accuracy: 0.6757 - val_loss: 0.6000\n",
            "Epoch 12/20\n",
            "81/81 - 1s - 12ms/step - accuracy: 0.7450 - loss: 0.5255 - val_accuracy: 0.6764 - val_loss: 0.6019\n",
            "Epoch 13/20\n",
            "81/81 - 1s - 15ms/step - accuracy: 0.7575 - loss: 0.5087 - val_accuracy: 0.6853 - val_loss: 0.5961\n",
            "Epoch 14/20\n",
            "81/81 - 1s - 15ms/step - accuracy: 0.7610 - loss: 0.5051 - val_accuracy: 0.6821 - val_loss: 0.5988\n",
            "Epoch 15/20\n",
            "81/81 - 1s - 11ms/step - accuracy: 0.7692 - loss: 0.4942 - val_accuracy: 0.6835 - val_loss: 0.6034\n",
            "Epoch 16/20\n",
            "81/81 - 1s - 15ms/step - accuracy: 0.7693 - loss: 0.4925 - val_accuracy: 0.6821 - val_loss: 0.6074\n",
            "Epoch 17/20\n",
            "81/81 - 2s - 23ms/step - accuracy: 0.7792 - loss: 0.4829 - val_accuracy: 0.6838 - val_loss: 0.6107\n",
            "Epoch 18/20\n",
            "81/81 - 2s - 20ms/step - accuracy: 0.7814 - loss: 0.4793 - val_accuracy: 0.6817 - val_loss: 0.6174\n",
            "Epoch 19/20\n",
            "81/81 - 2s - 25ms/step - accuracy: 0.7834 - loss: 0.4762 - val_accuracy: 0.6824 - val_loss: 0.6164\n",
            "Epoch 20/20\n",
            "81/81 - 1s - 14ms/step - accuracy: 0.7864 - loss: 0.4707 - val_accuracy: 0.6803 - val_loss: 0.6205\n"
          ]
        }
      ]
    },
    {
      "cell_type": "code",
      "source": [
        "# 8. Evaluate the model ----\n",
        "results = model.evaluate(\n",
        "    x=testing['text'],\n",
        "    y=(testing['tag'] == \"pos\").astype(int),\n",
        "    verbose=0\n",
        ")\n",
        "\n",
        "# results\n",
        "print(f\"Test Loss: {results[0]:.2f}\")\n",
        "\n",
        "print(f\"Test Accuracy: {results[1]:.2f}\")\n"
      ],
      "metadata": {
        "colab": {
          "base_uri": "https://localhost:8080/"
        },
        "id": "U_ZDRVl2vAcx",
        "outputId": "913d2dd2-6714-4fcd-bb28-d449ef90a7c2"
      },
      "execution_count": 43,
      "outputs": [
        {
          "output_type": "stream",
          "name": "stdout",
          "text": [
            "Test Loss: 0.62\n",
            "Test Accuracy: 0.67\n"
          ]
        }
      ]
    },
    {
      "cell_type": "code",
      "source": [
        "# This naive approach achieves an accuracy of about 67-68%.\n",
        "# With more advanced approaches,\n",
        "# the model should get closer to 85%."
      ],
      "metadata": {
        "id": "utaqGfPCzs8E"
      },
      "execution_count": 44,
      "outputs": []
    },
    {
      "cell_type": "code",
      "source": [
        "# Plot accuracy and loss over time (epochs)\n",
        "plt.plot(history.history['accuracy'], label='Accuracy')\n",
        "plt.plot(history.history['val_accuracy'], label='Validation Accuracy')\n",
        "plt.xlabel('Epoch')\n",
        "plt.ylabel('Accuracy')\n",
        "plt.legend()\n",
        "plt.show()\n",
        "\n",
        "plt.plot(history.history['loss'], label='Loss')\n",
        "plt.plot(history.history['val_loss'], label='Validation Loss')\n",
        "plt.xlabel('Epoch')\n",
        "plt.ylabel('Loss')\n",
        "plt.legend()\n",
        "plt.show()"
      ],
      "metadata": {
        "colab": {
          "base_uri": "https://localhost:8080/",
          "height": 882
        },
        "id": "NzkHrcjWvSJf",
        "outputId": "33c8f4e0-159e-4d05-d1d6-58bfaee50406"
      },
      "execution_count": 45,
      "outputs": [
        {
          "output_type": "display_data",
          "data": {
            "text/plain": [
              "<Figure size 640x480 with 1 Axes>"
            ],
            "image/png": "[encoded data removed]"
          },
          "metadata": {}
        },
        {
          "output_type": "display_data",
          "data": {
            "text/plain": [
              "<Figure size 640x480 with 1 Axes>"
            ],
            "image/png": "[encoded data removed]"
          },
          "metadata": {}
        }
      ]
    },
    {
      "cell_type": "code",
      "source": [
        "# 9. Now create your own review samples ----\n",
        "# and check the model's sentiment output"
      ],
      "metadata": {
        "id": "V6m6Nolw1ViZ"
      },
      "execution_count": 46,
      "outputs": []
    },
    {
      "cell_type": "code",
      "source": [
        "# Define new reviews\n",
        "new_reviews = [\n",
        "    \"it was awesome!\",\n",
        "    \"I watched with pleasure\",\n",
        "    \"the screening was a disaster I was ashamed of quality\",\n",
        "    \"a misunderstanding, weak story\",\n",
        "    \"rubbish stupid movie\"\n",
        "]\n",
        "\n",
        "\n",
        "# Convert the list of strings to a TensorFlow tensor\n",
        "new_reviews_tensor = tf.constant(new_reviews)"
      ],
      "metadata": {
        "id": "AxxTwKhW04Nv"
      },
      "execution_count": 47,
      "outputs": []
    },
    {
      "cell_type": "code",
      "source": [
        "# Make predictions\n",
        "\n",
        "predictions = model.predict(new_reviews_tensor) # Pass the tensor to model.predict\n",
        "\n"
      ],
      "metadata": {
        "id": "cXWg7a4h2HgU",
        "outputId": "22b73478-d348-4d37-8091-a5b3daca1a44",
        "colab": {
          "base_uri": "https://localhost:8080/"
        }
      },
      "execution_count": 48,
      "outputs": [
        {
          "output_type": "stream",
          "name": "stdout",
          "text": [
            "\u001b[1m1/1\u001b[0m \u001b[32m━━━━━━━━━━━━━━━━━━━━\u001b[0m\u001b[37m\u001b[0m \u001b[1m0s\u001b[0m 146ms/step\n"
          ]
        }
      ]
    },
    {
      "cell_type": "code",
      "source": [
        "# Convert probabilities to sentiment labels (assuming binary classification)\n",
        "predicted_labels = [\"Positive\" if p > 0.5 else \"Negative\" for p in predictions]\n",
        "\n",
        "# Print results\n",
        "for review, label, score in zip(new_reviews, predicted_labels, predictions):\n",
        "    print(f\"Review: {review}\\nPredicted Sentiment: {label} (Score: {score[0]:.4f})\\n\")"
      ],
      "metadata": {
        "id": "Spf67i4v1p91",
        "outputId": "8805205d-d90a-4dc3-d210-336ac0f79b7c",
        "colab": {
          "base_uri": "https://localhost:8080/"
        }
      },
      "execution_count": 49,
      "outputs": [
        {
          "output_type": "stream",
          "name": "stdout",
          "text": [
            "Review: it was awesome!\n",
            "Predicted Sentiment: Positive (Score: 0.6409)\n",
            "\n",
            "Review: I watched with pleasure\n",
            "Predicted Sentiment: Positive (Score: 0.6303)\n",
            "\n",
            "Review: the screening was a disaster I was ashamed of quality\n",
            "Predicted Sentiment: Negative (Score: 0.2585)\n",
            "\n",
            "Review: a misunderstanding, weak story\n",
            "Predicted Sentiment: Negative (Score: 0.3105)\n",
            "\n",
            "Review: rubbish stupid movie\n",
            "Predicted Sentiment: Negative (Score: 0.1792)\n",
            "\n"
          ]
        }
      ]
    },
    {
      "cell_type": "code",
      "source": [
        "# 10. Now test if chaged parameters\n",
        "# for example doubled vocabulary and length:\n",
        "# num_words = 20000\n",
        "# max_length = 100\n",
        "# applied on the same data set ----\n",
        "# would improve the accuracy\n",
        "# and the model's sentiment output on new_reviews"
      ],
      "metadata": {
        "id": "WE7euAim4qOQ"
      },
      "execution_count": 50,
      "outputs": []
    },
    {
      "cell_type": "code",
      "source": [
        "# Go through these steps:\n",
        "\n",
        "# 3. Prepare the data ----\n",
        "\n",
        "# the text — must be converted to tensors\n",
        "# before fed into the neural network\n",
        "\n",
        "num_words = 20000\n",
        "max_length = 100\n",
        "\n",
        "\n",
        "# Create the TextVectorization layer\n",
        "text_vectorization = TextVectorization(\n",
        "    max_tokens=num_words,\n",
        "    output_sequence_length=max_length\n",
        ")\n",
        "\n",
        "\n",
        "# Now, adapt the Text Vectorization layer.\n",
        "# When we call adapt that the layer will learn\n",
        "# about unique words in our dataset and assign an integer value for each one.\n",
        "\n",
        "# Adapt the TextVectorization layer to the training data\n",
        "text_vectorization.adapt(training['text'])\n",
        "\n",
        "\n",
        "# 4. Build the model ----\n",
        "\n",
        "input_layer = Input(shape=(1,), dtype=\"string\")\n",
        "\n",
        "x = text_vectorization(input_layer)\n",
        "x = Embedding(input_dim=num_words + 1, output_dim=16)(x)\n",
        "x = GlobalAveragePooling1D()(x)\n",
        "x = Dense(16, activation=\"relu\")(x)\n",
        "x = Dropout(0.5)(x)\n",
        "\n",
        "output_layer = Dense(1, activation=\"sigmoid\")(x)\n",
        "\n",
        "model = Model(input_layer, output_layer)\n",
        "\n",
        "\n",
        "# 5. Hidden units ---- leave the same\n",
        "\n",
        "\n",
        "# 6. Loss function and optimizer ----\n",
        "\n",
        "model.compile(\n",
        "    optimizer='adam',\n",
        "    loss='binary_crossentropy',\n",
        "    metrics=['accuracy']\n",
        ")\n",
        "\n",
        "\n",
        "# 7. Train the model ----\n",
        "\n",
        "# Train the model for 20 epochs in mini-batches of 512 samples.\n",
        "\n",
        "history = model.fit(\n",
        "    x=training['text'],\n",
        "    y=(training['tag'] == \"pos\").astype(int),\n",
        "    epochs=20,\n",
        "    batch_size=512,\n",
        "    validation_split=0.2,\n",
        "    verbose=2\n",
        ")\n",
        "\n",
        "\n",
        "# 8. Evaluate the model ----\n",
        "results = model.evaluate(\n",
        "    x=testing['text'],\n",
        "    y=(testing['tag'] == \"pos\").astype(int),\n",
        "    verbose=0\n",
        ")\n",
        "\n",
        "# results\n",
        "print(f\"Test Loss: {results[0]:.2f}\")\n",
        "print(f\"Test Accuracy: {results[1]:.2f}\")\n"
      ],
      "metadata": {
        "id": "0-L-Zs1b5QwN",
        "outputId": "e0f08665-00c3-4308-8409-c9ee56bd3e7b",
        "colab": {
          "base_uri": "https://localhost:8080/"
        }
      },
      "execution_count": 51,
      "outputs": [
        {
          "output_type": "stream",
          "name": "stdout",
          "text": [
            "Epoch 1/20\n",
            "81/81 - 3s - 36ms/step - accuracy: 0.5075 - loss: 0.6930 - val_accuracy: 0.5483 - val_loss: 0.6928\n",
            "Epoch 2/20\n",
            "81/81 - 3s - 38ms/step - accuracy: 0.5172 - loss: 0.6928 - val_accuracy: 0.5103 - val_loss: 0.6924\n",
            "Epoch 3/20\n",
            "81/81 - 2s - 22ms/step - accuracy: 0.5242 - loss: 0.6921 - val_accuracy: 0.5103 - val_loss: 0.6928\n",
            "Epoch 4/20\n",
            "81/81 - 1s - 15ms/step - accuracy: 0.5277 - loss: 0.6914 - val_accuracy: 0.5716 - val_loss: 0.6893\n",
            "Epoch 5/20\n",
            "81/81 - 1s - 16ms/step - accuracy: 0.5537 - loss: 0.6878 - val_accuracy: 0.5771 - val_loss: 0.6850\n",
            "Epoch 6/20\n",
            "81/81 - 1s - 15ms/step - accuracy: 0.5664 - loss: 0.6831 - val_accuracy: 0.5957 - val_loss: 0.6793\n",
            "Epoch 7/20\n",
            "81/81 - 1s - 15ms/step - accuracy: 0.5882 - loss: 0.6725 - val_accuracy: 0.6238 - val_loss: 0.6653\n",
            "Epoch 8/20\n",
            "81/81 - 1s - 15ms/step - accuracy: 0.6236 - loss: 0.6558 - val_accuracy: 0.6425 - val_loss: 0.6516\n",
            "Epoch 9/20\n",
            "81/81 - 1s - 14ms/step - accuracy: 0.6508 - loss: 0.6352 - val_accuracy: 0.6582 - val_loss: 0.6358\n",
            "Epoch 10/20\n",
            "81/81 - 1s - 18ms/step - accuracy: 0.6703 - loss: 0.6153 - val_accuracy: 0.6034 - val_loss: 0.6459\n",
            "Epoch 11/20\n",
            "81/81 - 3s - 35ms/step - accuracy: 0.6867 - loss: 0.5971 - val_accuracy: 0.6290 - val_loss: 0.6350\n",
            "Epoch 12/20\n",
            "81/81 - 1s - 15ms/step - accuracy: 0.6927 - loss: 0.5849 - val_accuracy: 0.6771 - val_loss: 0.6052\n",
            "Epoch 13/20\n",
            "81/81 - 2s - 19ms/step - accuracy: 0.7152 - loss: 0.5637 - val_accuracy: 0.6803 - val_loss: 0.5986\n",
            "Epoch 14/20\n",
            "81/81 - 2s - 28ms/step - accuracy: 0.7261 - loss: 0.5492 - val_accuracy: 0.6764 - val_loss: 0.5955\n",
            "Epoch 15/20\n",
            "81/81 - 1s - 15ms/step - accuracy: 0.7343 - loss: 0.5423 - val_accuracy: 0.6753 - val_loss: 0.5959\n",
            "Epoch 16/20\n",
            "81/81 - 1s - 15ms/step - accuracy: 0.7487 - loss: 0.5246 - val_accuracy: 0.6839 - val_loss: 0.5889\n",
            "Epoch 17/20\n",
            "81/81 - 1s - 15ms/step - accuracy: 0.7402 - loss: 0.5285 - val_accuracy: 0.6366 - val_loss: 0.6342\n",
            "Epoch 18/20\n",
            "81/81 - 1s - 17ms/step - accuracy: 0.7590 - loss: 0.5070 - val_accuracy: 0.6863 - val_loss: 0.5885\n",
            "Epoch 19/20\n",
            "81/81 - 2s - 24ms/step - accuracy: 0.7705 - loss: 0.4927 - val_accuracy: 0.6920 - val_loss: 0.5850\n",
            "Epoch 20/20\n",
            "81/81 - 2s - 22ms/step - accuracy: 0.7667 - loss: 0.4911 - val_accuracy: 0.6896 - val_loss: 0.5913\n",
            "Test Loss: 0.59\n",
            "Test Accuracy: 0.68\n"
          ]
        }
      ]
    },
    {
      "cell_type": "code",
      "source": [
        "# Accuracy improved by 0.01!\n",
        "# Still naive approach"
      ],
      "metadata": {
        "id": "njUSK2X-64sh"
      },
      "execution_count": 52,
      "outputs": []
    },
    {
      "cell_type": "code",
      "source": [
        "# Make predictions over new_reviews\n",
        "\n",
        "predictions = model.predict(new_reviews_tensor) # Pass the tensor to model.predict\n",
        "\n",
        "# Convert probabilities to sentiment labels (assuming binary classification)\n",
        "predicted_labels = [\"Positive\" if p > 0.5 else \"Negative\" for p in predictions]\n",
        "\n",
        "# Print results\n",
        "for review, label, score in zip(new_reviews, predicted_labels, predictions):\n",
        "    print(f\"Review: {review}\\nPredicted Sentiment: {label} (Score: {score[0]:.4f})\\n\")\n"
      ],
      "metadata": {
        "id": "YeWnjtDB6P7I",
        "outputId": "a1922f6d-75eb-4efc-a2f5-0a6f93a1d3fe",
        "colab": {
          "base_uri": "https://localhost:8080/"
        }
      },
      "execution_count": 53,
      "outputs": [
        {
          "output_type": "stream",
          "name": "stdout",
          "text": [
            "\u001b[1m1/1\u001b[0m \u001b[32m━━━━━━━━━━━━━━━━━━━━\u001b[0m\u001b[37m\u001b[0m \u001b[1m0s\u001b[0m 181ms/step\n",
            "Review: it was awesome!\n",
            "Predicted Sentiment: Positive (Score: 0.6610)\n",
            "\n",
            "Review: I watched with pleasure\n",
            "Predicted Sentiment: Positive (Score: 0.6585)\n",
            "\n",
            "Review: the screening was a disaster I was ashamed of quality\n",
            "Predicted Sentiment: Negative (Score: 0.2579)\n",
            "\n",
            "Review: a misunderstanding, weak story\n",
            "Predicted Sentiment: Negative (Score: 0.4920)\n",
            "\n",
            "Review: rubbish stupid movie\n",
            "Predicted Sentiment: Negative (Score: 0.2079)\n",
            "\n"
          ]
        }
      ]
    }
  ]
}