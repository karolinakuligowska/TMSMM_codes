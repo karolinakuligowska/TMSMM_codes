{
  "nbformat": 4,
  "nbformat_minor": 0,
  "metadata": {
    "colab": {
      "provenance": [],
      "include_colab_link": true
    },
    "kernelspec": {
      "name": "python3",
      "display_name": "Python 3"
    },
    "language_info": {
      "name": "python"
    }
  },
  "cells": [
    {
      "cell_type": "markdown",
      "metadata": {
        "id": "view-in-github",
        "colab_type": "text"
      },
      "source": [
        "<a href=\"https://colab.research.google.com/github/karolinakuligowska/TMSMM_codes/blob/main/Class_12_Neural_Nets_RNN__R_example_in_Python.ipynb\" target=\"_parent\"><img src=\"https://colab.research.google.com/assets/colab-badge.svg\" alt=\"Open In Colab\"/></a>"
      ]
    },
    {
      "cell_type": "code",
      "execution_count": 1,
      "metadata": {
        "id": "KjI8Vpf0u_kS"
      },
      "outputs": [],
      "source": [
        "import pandas as pd\n",
        "import numpy as np\n",
        "import tensorflow as tf\n",
        "from tensorflow.keras.layers import TextVectorization, Embedding, GlobalAveragePooling1D, Dense, Dropout, Input\n",
        "from tensorflow.keras.models import Model\n",
        "from sklearn.model_selection import train_test_split\n",
        "import matplotlib.pyplot as plt"
      ]
    },
    {
      "cell_type": "code",
      "source": [
        "# 1. Load dataset ----\n",
        "df = pd.read_csv('movie_review.csv', encoding='utf-8')\n",
        "print(df.head())"
      ],
      "metadata": {
        "id": "5sz-cAbCtoZA",
        "outputId": "7ce7a70c-888e-4c5e-da8c-d952c773e683",
        "colab": {
          "base_uri": "https://localhost:8080/"
        }
      },
      "execution_count": 2,
      "outputs": [
        {
          "output_type": "stream",
          "name": "stdout",
          "text": [
            "   fold_id cv_tag  html_id  sent_id  \\\n",
            "0        0  cv000    29590        0   \n",
            "1        0  cv000    29590        1   \n",
            "2        0  cv000    29590        2   \n",
            "3        0  cv000    29590        3   \n",
            "4        0  cv000    29590        4   \n",
            "\n",
            "                                                text  tag  \n",
            "0  films adapted from comic books have had plenty...  pos  \n",
            "1  for starters , it was created by alan moore ( ...  pos  \n",
            "2  to say moore and campbell thoroughly researche...  pos  \n",
            "3  the book ( or \" graphic novel , \" if you will ...  pos  \n",
            "4  in other words , don't dismiss this film becau...  pos  \n"
          ]
        }
      ]
    },
    {
      "cell_type": "code",
      "source": [
        "# 2. Explore the data ----\n",
        "print(df['tag'].value_counts())\n",
        "print(df['text'][0])"
      ],
      "metadata": {
        "id": "XYjR3NtntxA8",
        "outputId": "f6a85ba5-0fd6-46f9-a199-32da3991877c",
        "colab": {
          "base_uri": "https://localhost:8080/"
        }
      },
      "execution_count": 3,
      "outputs": [
        {
          "output_type": "stream",
          "name": "stdout",
          "text": [
            "tag\n",
            "pos    32937\n",
            "neg    31783\n",
            "Name: count, dtype: int64\n",
            "films adapted from comic books have had plenty of success , whether they're about superheroes ( batman , superman , spawn ) , or geared toward kids ( casper ) or the arthouse crowd ( ghost world ) , but there's never really been a comic book like from hell before .\n"
          ]
        }
      ]
    },
    {
      "cell_type": "code",
      "source": [
        "# Split the dataset into training and testing\n",
        "training, testing = train_test_split(df, test_size=0.2, random_state=123)\n",
        "\n",
        "# Analyze word distribution in reviews:\n",
        "# find out what is the distribution\n",
        "# of the number of words in each review\n",
        "word_counts = df['text'].apply(lambda x: len(x.split()))\n",
        "print(word_counts.describe())"
      ],
      "metadata": {
        "colab": {
          "base_uri": "https://localhost:8080/"
        },
        "id": "nTsWh7XXvFB7",
        "outputId": "ff972c99-5266-4496-948b-38ae1041400f"
      },
      "execution_count": 5,
      "outputs": [
        {
          "output_type": "stream",
          "name": "stdout",
          "text": [
            "count    64720.000000\n",
            "mean        23.063674\n",
            "std         13.453944\n",
            "min          1.000000\n",
            "25%         14.000000\n",
            "50%         21.000000\n",
            "75%         30.000000\n",
            "max        179.000000\n",
            "Name: text, dtype: float64\n"
          ]
        }
      ]
    },
    {
      "cell_type": "code",
      "source": [
        "# 3. Prepare the data ----\n",
        "\n",
        "# the text — must be converted to tensors\n",
        "# before fed into the neural network\n",
        "\n",
        "num_words = 10000\n",
        "max_length = 50\n",
        "\n",
        "# Create the TextVectorization layer\n",
        "text_vectorization = TextVectorization(\n",
        "    max_tokens=num_words,\n",
        "    output_sequence_length=max_length\n",
        ")\n"
      ],
      "metadata": {
        "id": "fstaFM3QuZ_j"
      },
      "execution_count": 6,
      "outputs": []
    },
    {
      "cell_type": "code",
      "source": [
        "# Now, adapt the Text Vectorization layer.\n",
        "# When we call adapt that the layer will learn\n",
        "# about unique words in our dataset and assign an integer value for each one.\n",
        "\n",
        "# Adapt the TextVectorization layer to the training data\n",
        "text_vectorization.adapt(training['text'])"
      ],
      "metadata": {
        "id": "MmxkUj5Lu2mF"
      },
      "execution_count": 7,
      "outputs": []
    },
    {
      "cell_type": "code",
      "source": [
        "# The vocabulary is in our text vectorization layer\n",
        "# see first 10 words\n",
        "vocabulary = text_vectorization.get_vocabulary()\n",
        "print(vocabulary[:10])"
      ],
      "metadata": {
        "id": "nwipUsxcvPr5",
        "outputId": "52449daa-ea9c-459e-af0a-16624af60a20",
        "colab": {
          "base_uri": "https://localhost:8080/"
        }
      },
      "execution_count": 9,
      "outputs": [
        {
          "output_type": "stream",
          "name": "stdout",
          "text": [
            "['', '[UNK]', 'the', 'a', 'and', 'of', 'to', 'is', 'in', 'that']\n"
          ]
        }
      ]
    },
    {
      "cell_type": "code",
      "source": [
        "# See how the text vectorization layer transforms inputs\n",
        "sample_text = training['text'].iloc[0]\n",
        "print(f\"Original: {sample_text}\")\n",
        "print(f\"Transformed: {text_vectorization(tf.constant([sample_text])).numpy()}\")"
      ],
      "metadata": {
        "colab": {
          "base_uri": "https://localhost:8080/"
        },
        "id": "W4RqRli_vHb5",
        "outputId": "fdc2f5a3-5436-4efc-b692-2cbba07430f9"
      },
      "execution_count": 10,
      "outputs": [
        {
          "output_type": "stream",
          "name": "stdout",
          "text": [
            "Original: i wouldn't be surprised if a couple of guys got together and created the opening credits , and then someone saw it and made up a story to go along with it .\n",
            "Transformed: [[  19  705   23 1218   52    3  306    5  482  295  261    4  880    2\n",
            "   443  690    4  103  351  510   10    4  136   48    3   67    6  129\n",
            "   266   12   10    0    0    0    0    0    0    0    0    0    0    0\n",
            "     0    0    0    0    0    0    0    0]]\n"
          ]
        }
      ]
    },
    {
      "cell_type": "code",
      "source": [
        "# 4. Build the model ----\n",
        "\n",
        "input_layer = Input(shape=(1,), dtype=\"string\")\n",
        "\n",
        "x = text_vectorization(input_layer)\n",
        "x = Embedding(input_dim=num_words + 1, output_dim=16)(x)\n",
        "x = GlobalAveragePooling1D()(x)\n",
        "x = Dense(16, activation=\"relu\")(x)\n",
        "x = Dropout(0.5)(x)\n",
        "\n",
        "output_layer = Dense(1, activation=\"sigmoid\")(x)\n",
        "\n",
        "model = Model(input_layer, output_layer)"
      ],
      "metadata": {
        "id": "owA5tiz_vjXb"
      },
      "execution_count": 11,
      "outputs": []
    },
    {
      "cell_type": "code",
      "source": [
        "# 5. Hidden units ----\n",
        "\n",
        "# This model has 16 neurons in a single hidden layer\n",
        "# between the input and output:\n",
        "# - input layer accepts a single string input.\n",
        "\n",
        "# - Text Vectorization Layer processes text into numerical representations\n",
        "# (not a hidden layer, just preprocessing)\n",
        "\n",
        "# - Embedding Layer:maps words to dense vectors of size 16.\n",
        "# (not considered a hidden layer, but a learnable representation)\n",
        "\n",
        "# - Global Average Pooling Layer converts the sequence of word embeddings\n",
        "# into a fixed-size vector by averaging across all word embeddings.\n",
        "# (not a hidden layer but a dimensionality reduction step)\n",
        "\n",
        "# - first fully connected (Dense) hidden layer:\n",
        "# x = Dense(16, activation=\"relu\")(x)\n",
        "# (this is the first hidden layer with 16 units)\n",
        "\n",
        "# - Dropout Layer is a regularization step\n",
        " # (not a hidden layer)\n",
        "\n",
        "# - output layer\n",
        "# output_layer = Dense(1, activation=\"sigmoid\")(x)\n",
        "# Is the final output layer with 1 unit (binary classification)."
      ],
      "metadata": {
        "id": "4NXqwQWDyZMH"
      },
      "execution_count": 12,
      "outputs": []
    },
    {
      "cell_type": "code",
      "source": [
        "# 6. Loss function and optimizer ----\n",
        "\n",
        "model.compile(\n",
        "    optimizer='adam',\n",
        "    loss='binary_crossentropy',\n",
        "    metrics=['accuracy']\n",
        ")"
      ],
      "metadata": {
        "id": "u68CgX7szRn8"
      },
      "execution_count": 14,
      "outputs": []
    },
    {
      "cell_type": "code",
      "source": [
        "# 7. Train the model ----\n",
        "\n",
        "# Train the model for 20 epochs in mini-batches of 512 samples.\n",
        "\n",
        "history = model.fit(\n",
        "    x=training['text'],\n",
        "    y=(training['tag'] == \"pos\").astype(int),\n",
        "    epochs=20,\n",
        "    batch_size=512,\n",
        "    validation_split=0.2,\n",
        "    verbose=2\n",
        ")"
      ],
      "metadata": {
        "id": "oVMM5zxVzaA9",
        "outputId": "9fa69bf1-ebb0-4c9e-94da-a7889e43513f",
        "colab": {
          "base_uri": "https://localhost:8080/"
        }
      },
      "execution_count": 15,
      "outputs": [
        {
          "output_type": "stream",
          "name": "stdout",
          "text": [
            "Epoch 1/20\n",
            "81/81 - 4s - 49ms/step - accuracy: 0.5262 - loss: 0.6919 - val_accuracy: 0.5555 - val_loss: 0.6898\n",
            "Epoch 2/20\n",
            "81/81 - 2s - 24ms/step - accuracy: 0.5521 - loss: 0.6876 - val_accuracy: 0.5766 - val_loss: 0.6842\n",
            "Epoch 3/20\n",
            "81/81 - 1s - 12ms/step - accuracy: 0.5799 - loss: 0.6792 - val_accuracy: 0.6189 - val_loss: 0.6731\n",
            "Epoch 4/20\n",
            "81/81 - 1s - 12ms/step - accuracy: 0.6251 - loss: 0.6638 - val_accuracy: 0.6457 - val_loss: 0.6557\n",
            "Epoch 5/20\n",
            "81/81 - 1s - 11ms/step - accuracy: 0.6555 - loss: 0.6404 - val_accuracy: 0.6692 - val_loss: 0.6357\n",
            "Epoch 6/20\n",
            "81/81 - 1s - 12ms/step - accuracy: 0.6768 - loss: 0.6174 - val_accuracy: 0.6715 - val_loss: 0.6202\n",
            "Epoch 7/20\n",
            "81/81 - 1s - 15ms/step - accuracy: 0.7035 - loss: 0.5914 - val_accuracy: 0.6796 - val_loss: 0.6075\n",
            "Epoch 8/20\n",
            "81/81 - 1s - 11ms/step - accuracy: 0.7190 - loss: 0.5709 - val_accuracy: 0.6775 - val_loss: 0.6014\n",
            "Epoch 9/20\n",
            "81/81 - 1s - 11ms/step - accuracy: 0.7339 - loss: 0.5527 - val_accuracy: 0.6710 - val_loss: 0.6034\n",
            "Epoch 10/20\n",
            "81/81 - 2s - 24ms/step - accuracy: 0.7404 - loss: 0.5425 - val_accuracy: 0.6760 - val_loss: 0.5993\n",
            "Epoch 11/20\n",
            "81/81 - 2s - 23ms/step - accuracy: 0.7486 - loss: 0.5297 - val_accuracy: 0.6868 - val_loss: 0.5938\n",
            "Epoch 12/20\n",
            "81/81 - 1s - 11ms/step - accuracy: 0.7584 - loss: 0.5168 - val_accuracy: 0.6709 - val_loss: 0.6105\n",
            "Epoch 13/20\n",
            "81/81 - 1s - 12ms/step - accuracy: 0.7603 - loss: 0.5110 - val_accuracy: 0.6735 - val_loss: 0.6122\n",
            "Epoch 14/20\n",
            "81/81 - 1s - 18ms/step - accuracy: 0.7699 - loss: 0.4999 - val_accuracy: 0.6847 - val_loss: 0.6040\n",
            "Epoch 15/20\n",
            "81/81 - 1s - 16ms/step - accuracy: 0.7704 - loss: 0.4969 - val_accuracy: 0.6845 - val_loss: 0.6041\n",
            "Epoch 16/20\n",
            "81/81 - 1s - 16ms/step - accuracy: 0.7774 - loss: 0.4890 - val_accuracy: 0.6849 - val_loss: 0.6083\n",
            "Epoch 17/20\n",
            "81/81 - 1s - 14ms/step - accuracy: 0.7791 - loss: 0.4854 - val_accuracy: 0.6840 - val_loss: 0.6130\n",
            "Epoch 18/20\n",
            "81/81 - 1s - 13ms/step - accuracy: 0.7803 - loss: 0.4851 - val_accuracy: 0.6587 - val_loss: 0.6383\n",
            "Epoch 19/20\n",
            "81/81 - 2s - 21ms/step - accuracy: 0.7791 - loss: 0.4832 - val_accuracy: 0.6767 - val_loss: 0.6212\n",
            "Epoch 20/20\n",
            "81/81 - 3s - 34ms/step - accuracy: 0.7895 - loss: 0.4718 - val_accuracy: 0.6782 - val_loss: 0.6241\n"
          ]
        }
      ]
    },
    {
      "cell_type": "code",
      "source": [
        "# 8. Evaluate the model ----\n",
        "results = model.evaluate(\n",
        "    x=testing['text'],\n",
        "    y=(testing['tag'] == \"pos\").astype(int),\n",
        "    verbose=0\n",
        ")\n",
        "\n",
        "# results\n",
        "print(f\"Test Loss: {results[0]:.2f}\")\n",
        "\n",
        "print(f\"Test Accuracy: {results[1]:.2f}\")\n"
      ],
      "metadata": {
        "colab": {
          "base_uri": "https://localhost:8080/"
        },
        "id": "U_ZDRVl2vAcx",
        "outputId": "974770e2-900c-4075-9477-580270667ddd"
      },
      "execution_count": 19,
      "outputs": [
        {
          "output_type": "stream",
          "name": "stdout",
          "text": [
            "Test Loss: 0.63\n",
            "Test Accuracy: 0.67\n"
          ]
        }
      ]
    },
    {
      "cell_type": "code",
      "source": [
        "# This naive approach achieves an accuracy of about 67-68%.\n",
        "# With more advanced approaches,\n",
        "# the model should get closer to 85%."
      ],
      "metadata": {
        "id": "utaqGfPCzs8E"
      },
      "execution_count": 20,
      "outputs": []
    },
    {
      "cell_type": "code",
      "source": [
        "# Plot accuracy and loss over time (epochs)\n",
        "plt.plot(history.history['accuracy'], label='Accuracy')\n",
        "plt.plot(history.history['val_accuracy'], label='Validation Accuracy')\n",
        "plt.xlabel('Epoch')\n",
        "plt.ylabel('Accuracy')\n",
        "plt.legend()\n",
        "plt.show()\n",
        "\n",
        "plt.plot(history.history['loss'], label='Loss')\n",
        "plt.plot(history.history['val_loss'], label='Validation Loss')\n",
        "plt.xlabel('Epoch')\n",
        "plt.ylabel('Loss')\n",
        "plt.legend()\n",
        "plt.show()"
      ],
      "metadata": {
        "colab": {
          "base_uri": "https://localhost:8080/",
          "height": 884
        },
        "id": "NzkHrcjWvSJf",
        "outputId": "7af59702-c848-465a-ac85-c63729eb649a"
      },
      "execution_count": 21,
      "outputs": [
        {
          "output_type": "display_data",
          "data": {
            "text/plain": [
              "<Figure size 640x480 with 1 Axes>"
            ],
            "image/png": "[encoded data removed]"
          },
          "metadata": {}
        },
        {
          "output_type": "display_data",
          "data": {
            "text/plain": [
              "<Figure size 640x480 with 1 Axes>"
            ],
            "image/png": "[encoded data removed]"
          },
          "metadata": {}
        }
      ]
    },
    {
      "cell_type": "code",
      "source": [
        "# 9. Now create your own review samples ----\n",
        "# and check the model's sentiment output"
      ],
      "metadata": {
        "id": "V6m6Nolw1ViZ"
      },
      "execution_count": 25,
      "outputs": []
    },
    {
      "cell_type": "code",
      "source": [
        "# Define new reviews\n",
        "new_reviews = [\n",
        "    \"it was awesome!\",\n",
        "    \"I watched with pleasure\",\n",
        "    \"the screening was a disaster I was ashamed of quality\",\n",
        "    \"a misunderstanding, weak story\",\n",
        "    \"rubbish stupid movie\"\n",
        "]\n",
        "\n",
        "\n",
        "# Convert the list of strings to a TensorFlow tensor\n",
        "new_reviews_tensor = tf.constant(new_reviews)"
      ],
      "metadata": {
        "id": "AxxTwKhW04Nv"
      },
      "execution_count": 28,
      "outputs": []
    },
    {
      "cell_type": "code",
      "source": [
        "# Make predictions\n",
        "\n",
        "predictions = model.predict(new_reviews_tensor) # Pass the tensor to model.predict\n",
        "\n"
      ],
      "metadata": {
        "id": "cXWg7a4h2HgU",
        "outputId": "3a9bfd3e-871f-4660-eb30-6406481deec6",
        "colab": {
          "base_uri": "https://localhost:8080/"
        }
      },
      "execution_count": 29,
      "outputs": [
        {
          "output_type": "stream",
          "name": "stdout",
          "text": [
            "\u001b[1m1/1\u001b[0m \u001b[32m━━━━━━━━━━━━━━━━━━━━\u001b[0m\u001b[37m\u001b[0m \u001b[1m0s\u001b[0m 180ms/step\n"
          ]
        }
      ]
    },
    {
      "cell_type": "code",
      "source": [
        "# Convert probabilities to sentiment labels (assuming binary classification)\n",
        "predicted_labels = [\"Positive\" if p > 0.5 else \"Negative\" for p in predictions]\n",
        "\n",
        "# Print results\n",
        "for review, label, score in zip(new_reviews, predicted_labels, predictions):\n",
        "    print(f\"Review: {review}\\nPredicted Sentiment: {label} (Score: {score[0]:.4f})\\n\")"
      ],
      "metadata": {
        "id": "Spf67i4v1p91",
        "outputId": "1c3e5185-c6c5-44eb-fdab-54cc91edba04",
        "colab": {
          "base_uri": "https://localhost:8080/"
        }
      },
      "execution_count": 30,
      "outputs": [
        {
          "output_type": "stream",
          "name": "stdout",
          "text": [
            "Review: it was awesome!\n",
            "Predicted Sentiment: Positive (Score: 0.7057)\n",
            "\n",
            "Review: I watched with pleasure\n",
            "Predicted Sentiment: Positive (Score: 0.7299)\n",
            "\n",
            "Review: the screening was a disaster I was ashamed of quality\n",
            "Predicted Sentiment: Negative (Score: 0.2285)\n",
            "\n",
            "Review: a misunderstanding, weak story\n",
            "Predicted Sentiment: Negative (Score: 0.2957)\n",
            "\n",
            "Review: rubbish stupid movie\n",
            "Predicted Sentiment: Negative (Score: 0.1348)\n",
            "\n"
          ]
        }
      ]
    }
  ]
}