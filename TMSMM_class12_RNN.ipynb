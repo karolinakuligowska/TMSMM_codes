{
  "nbformat": 4,
  "nbformat_minor": 0,
  "metadata": {
    "colab": {
      "provenance": [],
      "authorship_tag": "ABX9TyMqjH/El3veXBN5lYkYQfhW",
      "include_colab_link": true
    },
    "kernelspec": {
      "name": "python3",
      "display_name": "Python 3"
    },
    "language_info": {
      "name": "python"
    }
  },
  "cells": [
    {
      "cell_type": "markdown",
      "metadata": {
        "id": "view-in-github",
        "colab_type": "text"
      },
      "source": [
        "<a href=\"https://colab.research.google.com/github/karolinakuligowska/TMSMM_codes/blob/main/TMSMM_class12_RNN.ipynb\" target=\"_parent\"><img src=\"https://colab.research.google.com/assets/colab-badge.svg\" alt=\"Open In Colab\"/></a>"
      ]
    },
    {
      "cell_type": "code",
      "execution_count": 1,
      "metadata": {
        "id": "Ieh3Zzkz87ly"
      },
      "outputs": [],
      "source": [
        "# neural nets for text mining\n",
        "###\n",
        "###\n",
        "###\n",
        "\n",
        "# example from imrekovacs\n",
        "# import the main PyTorch package along with the Variable class used to store our data tensors and the nn package\n",
        "# use numpy to pre-process our data as Torch works really well with numpy\n",
        "import torch\n",
        "from torch import nn\n",
        "\n",
        "import numpy as np"
      ]
    },
    {
      "cell_type": "code",
      "source": [
        "# define the sentences that we want our model to output when fed with the first word or the first few characters\n",
        "# create a dictionary out of all the characters that we have in the sentences and map them to an integer\n",
        "# it will allow us to convert our input characters to their respective integers (char2int) and vice versa (int2char)\n",
        "text = ['hey how are you','good i am fine','have a nice day']\n",
        "\n",
        "# Join all the sentences together and extract the unique characters from the combined sentences\n",
        "chars = set(''.join(text))\n",
        "\n",
        "# Creating a dictionary that maps integers to the characters\n",
        "int2char = dict(enumerate(chars))\n",
        "\n",
        "# Creating another dictionary that maps characters to integers\n",
        "char2int = {char: ind for ind, char in int2char.items()}"
      ],
      "metadata": {
        "id": "NmBXkV6y9JKr"
      },
      "execution_count": 2,
      "outputs": []
    },
    {
      "cell_type": "code",
      "source": [
        "print(char2int)"
      ],
      "metadata": {
        "colab": {
          "base_uri": "https://localhost:8080/"
        },
        "id": "8H1GHVNv9dTE",
        "outputId": "f94c781a-606c-4e24-85b2-7f2ea8745d51"
      },
      "execution_count": 3,
      "outputs": [
        {
          "output_type": "stream",
          "name": "stdout",
          "text": [
            "{'n': 0, 'h': 1, ' ': 2, 'e': 3, 'a': 4, 'u': 5, 'f': 6, 'i': 7, 'c': 8, 'g': 9, 'd': 10, 'v': 11, 'y': 12, 'o': 13, 'w': 14, 'm': 15, 'r': 16}\n"
          ]
        }
      ]
    },
    {
      "cell_type": "code",
      "source": [
        "# add our input sentences to ensure that all the sentences are of the sample length\n",
        "# while RNNs are typically able to take in variably sized inputs,\n",
        "# we will usually want to feed training data in batches to speed up the training process\n",
        "# in order to used batches to train on our data, we'll need to ensure that each sequence\n",
        "# within the input data are of equal size\n",
        "\n",
        "# in most cases, padding can be done by filling up sequences that are too short with 0 values\n",
        "# and trimming sequences that are too long. In our case, we'll be finding the length\n",
        "# of the longest sequence and padding the rest of the sentences with blank spaces to match that length\n",
        "\n",
        "maxlen = len(max(text, key=len))\n",
        "print(\"The longest string has {} characters\".format(maxlen))"
      ],
      "metadata": {
        "colab": {
          "base_uri": "https://localhost:8080/"
        },
        "id": "p6VDMP9L9lTI",
        "outputId": "02ece58f-4108-4644-9ce0-6bc7c5f12c9b"
      },
      "execution_count": 4,
      "outputs": [
        {
          "output_type": "stream",
          "name": "stdout",
          "text": [
            "The longest string has 15 characters\n"
          ]
        }
      ]
    },
    {
      "cell_type": "code",
      "source": [
        "# Padding\n",
        "\n",
        "# A simple loop that loops through the list of sentences and adds a ' ' whitespace until the length of the sentence matches\n",
        "# the length of the longest sentence\n",
        "for i in range(len(text)):\n",
        "    while len(text[i])<maxlen:\n",
        "        text[i] += ' '"
      ],
      "metadata": {
        "id": "dbv8B_7i9v7R"
      },
      "execution_count": 5,
      "outputs": []
    },
    {
      "cell_type": "code",
      "source": [
        "# As we're going to predict the next character in the sequence at each time step, we'll have to divide each sentence into\n",
        "# Input data (The last input character should be excluded as it does not need to be fed into the model)\n",
        "# Target/Ground Truth Label (One time-step ahead of the Input data as this will be the \"correct answer\" for the model at each time step corresponding to the input data)\n",
        "\n",
        "# Creating lists that will hold our input and target sequences\n",
        "input_seq = []\n",
        "target_seq = []\n",
        "\n",
        "for i in range(len(text)):\n",
        "    # Remove last character for input sequence\n",
        "    input_seq.append(text[i][:-1])\n",
        "\n",
        "    # Remove firsts character for target sequence\n",
        "    target_seq.append(text[i][1:])\n",
        "    print(\"Input Sequence: {}\\nTarget Sequence: {}\".format(input_seq[i], target_seq[i]))"
      ],
      "metadata": {
        "colab": {
          "base_uri": "https://localhost:8080/"
        },
        "id": "NDK8ExAW90pi",
        "outputId": "b4a77f53-1f86-41d1-e8e2-9ee4f02b0287"
      },
      "execution_count": 6,
      "outputs": [
        {
          "output_type": "stream",
          "name": "stdout",
          "text": [
            "Input Sequence: hey how are yo\n",
            "Target Sequence: ey how are you\n",
            "Input Sequence: good i am fine\n",
            "Target Sequence: ood i am fine \n",
            "Input Sequence: have a nice da\n",
            "Target Sequence: ave a nice day\n"
          ]
        }
      ]
    },
    {
      "cell_type": "code",
      "source": [
        "# we can convert our input and target sequences to sequences of integers instead of characters by mapping them using the dictionaries we created above\n",
        "# it will allow us to one-hot-encode our input sequence subsequently\n",
        "for i in range(len(text)):\n",
        "    input_seq[i] = [char2int[character] for character in input_seq[i]]\n",
        "    target_seq[i] = [char2int[character] for character in target_seq[i]]"
      ],
      "metadata": {
        "id": "Pdm5_ULf-EzK"
      },
      "execution_count": 7,
      "outputs": []
    },
    {
      "cell_type": "code",
      "source": [
        "# dict_size: The number of unique characters that we have in our text (will determine the one-hot vector size as each character will have an assigned index in that vector)\n",
        "# seq_len: The length of the sequences that we're feeding into the model (As we standardised the length of all our sentences to be equal to the longest sentences, this value will be the max length - 1 as we removed the last character input as well)\n",
        "# batch_size: The number of sentences that we defined and are going to feed into the model as a batch\n",
        "\n",
        "dict_size = len(char2int)\n",
        "seq_len = maxlen - 1\n",
        "batch_size = len(text)\n",
        "\n",
        "def one_hot_encode(sequence, dict_size, seq_len, batch_size):\n",
        "    # Creating a multi-dimensional array of zeros with the desired output shape\n",
        "    features = np.zeros((batch_size, seq_len, dict_size), dtype=np.float32)\n",
        "\n",
        "    # Replacing the 0 at the relevant character index with a 1 to represent that character\n",
        "    for i in range(batch_size):\n",
        "        for u in range(seq_len):\n",
        "            features[i, u, sequence[i][u]] = 1\n",
        "    return features"
      ],
      "metadata": {
        "id": "OyQ4ZXpg-Kc-"
      },
      "execution_count": 8,
      "outputs": []
    },
    {
      "cell_type": "code",
      "source": [
        "input_seq = one_hot_encode(input_seq, dict_size, seq_len, batch_size)\n",
        "print(\"Input shape: {} --> (Batch Size, Sequence Length, One-Hot Encoding Size)\".format(input_seq.shape))"
      ],
      "metadata": {
        "colab": {
          "base_uri": "https://localhost:8080/"
        },
        "id": "JWW1mEsl-RsO",
        "outputId": "06d5f86d-c9ec-406e-cf41-55c0bde2fd84"
      },
      "execution_count": 9,
      "outputs": [
        {
          "output_type": "stream",
          "name": "stdout",
          "text": [
            "Input shape: (3, 14, 17) --> (Batch Size, Sequence Length, One-Hot Encoding Size)\n"
          ]
        }
      ]
    },
    {
      "cell_type": "code",
      "source": [
        "# Since we're done with all the data pre-processing, we can now move the data from numpy arrays to PyTorch's very own data structure - Torch Tensors\n",
        "\n",
        "input_seq = torch.from_numpy(input_seq)\n",
        "target_seq = torch.Tensor(target_seq)"
      ],
      "metadata": {
        "id": "2FcY5nnU-WQI"
      },
      "execution_count": 10,
      "outputs": []
    },
    {
      "cell_type": "code",
      "source": [
        "# We'll be defining the model using the Torch library, and this is where you can add or remove layers,\n",
        "# be it fully connected layers, convolutational layers, vanilla RNN layers, LSTM layers, and many more!\n",
        "# In this post, we'll be using the basic nn.rnn to demonstrate a simple example of how RNNs can be used.\n",
        "\n",
        "# Before we start building the model, let's use a build in feature in PyTorch\n",
        "# to check the device we're running on (CPU or GPU). This implementation will not require GPU\n",
        "# as the training is really simple. However, as you progress on to large datasets and models with millions\n",
        "# of trainable parameters, using the GPU will be very important to speed up your training.\n",
        "\n",
        "# torch.cuda.is_available() checks and returns a Boolean True if a GPU is available, else it'll return False\n",
        "is_cuda = torch.cuda.is_available()\n",
        "\n",
        "# If we have a GPU available, we'll set our device to GPU. We'll use this device variable later in our code.\n",
        "if is_cuda:\n",
        "    device = torch.device(\"cuda\")\n",
        "    print(\"GPU is available\")\n",
        "else:\n",
        "    device = torch.device(\"cpu\")\n",
        "    print(\"GPU not available, CPU used\")"
      ],
      "metadata": {
        "colab": {
          "base_uri": "https://localhost:8080/"
        },
        "id": "7ji37SBJ-b2T",
        "outputId": "ef0cb04c-ea0d-4760-fad5-5d99e764fd93"
      },
      "execution_count": 11,
      "outputs": [
        {
          "output_type": "stream",
          "name": "stdout",
          "text": [
            "GPU not available, CPU used\n"
          ]
        }
      ]
    },
    {
      "cell_type": "code",
      "source": [
        "# To start building our own neural network model, we can define a class that inherits PyTorch’s base class (nn.module)\n",
        "# for all neural network modules. After doing so, we can start defining some variables and also the layers\n",
        "# for our model under the constructor. For this model, we’ll only be using 1 layer of RNN followed by\n",
        "# a fully connected layer. The fully connected layer will be in-charge of converting the RNN output\n",
        "# to our desired output shape.\n",
        "\n",
        "# We’ll also have to define the forward pass function under forward() as a class method.\n",
        "# The order the forward function is sequentially executed, therefore we’ll have to pass the inputs\n",
        "# and the zero-initialized hidden state through the RNN layer first, before passing the RNN outputs\n",
        "# to the fully-connected layer. Note that we are using the layers that we defined in the constructor.\n",
        "\n",
        "# The last method that we have to define is the method that we called earlier to initialize the hidden state\n",
        "# - init_hidden(). This basically creates a tensor of zeros in the shape of our hidden states.\n",
        "\n",
        "\n",
        "class Model(nn.Module):\n",
        "    def __init__(self, input_size, output_size, hidden_dim, n_layers):\n",
        "        super(Model, self).__init__()\n",
        "\n",
        "        # Defining some parameters\n",
        "        self.hidden_dim = hidden_dim\n",
        "        self.n_layers = n_layers\n",
        "\n",
        "        #Defining the layers\n",
        "        # RNN Layer\n",
        "        self.rnn = nn.RNN(input_size, hidden_dim, n_layers, batch_first=True)\n",
        "        # Fully connected layer\n",
        "        self.fc = nn.Linear(hidden_dim, output_size)\n",
        "\n",
        "    def forward(self, x):\n",
        "\n",
        "        batch_size = x.size(0)\n",
        "\n",
        "        #Initializing hidden state for first input using method defined below\n",
        "        hidden = self.init_hidden(batch_size)\n",
        "\n",
        "        # Passing in the input and hidden state into the model and obtaining outputs\n",
        "        out, hidden = self.rnn(x, hidden)\n",
        "\n",
        "        # Reshaping the outputs such that it can be fit into the fully connected layer\n",
        "        out = out.contiguous().view(-1, self.hidden_dim)\n",
        "        out = self.fc(out)\n",
        "\n",
        "        return out, hidden\n",
        "\n",
        "    def init_hidden(self, batch_size):\n",
        "        # This method generates the first hidden state of zeros which we'll use in the forward pass\n",
        "        hidden = torch.zeros(self.n_layers, batch_size, self.hidden_dim).to(device)\n",
        "         # We'll send the tensor holding the hidden state to the device we specified earlier as well\n",
        "        return hidden"
      ],
      "metadata": {
        "id": "SzCrAz7F-oqC"
      },
      "execution_count": 12,
      "outputs": []
    },
    {
      "cell_type": "code",
      "source": [
        "# n_epochs: Number of Epochs --> This refers to the number of times our model will go through the entire training dataset\n",
        "# lr: Learning Rate --> This affects the rate at which our model updates the weights in the cells each time backpropogation is done\n",
        "# A smaller learning rate means that the model changes the values of the weight with a smaller magnitude\n",
        "# A larger learning rate means that the weights are updated to a larger extent for each time step\n",
        "\n",
        "# We have to define the optimizer and loss function as well.\n",
        "# We’ll be using CrossEntropyLoss as the final output is basically a classification task\n",
        "\n",
        "# Instantiate the model with hyperparameters\n",
        "model = Model(input_size=dict_size, output_size=dict_size, hidden_dim=12, n_layers=1)\n",
        "# We'll also set the model to the device that we defined earlier (default is CPU)\n",
        "model = model.to(device)\n",
        "\n",
        "# Define hyperparameters\n",
        "n_epochs = 100\n",
        "lr=0.01\n",
        "\n",
        "# Define Loss, Optimizer\n",
        "criterion = nn.CrossEntropyLoss()\n",
        "optimizer = torch.optim.Adam(model.parameters(), lr=lr)"
      ],
      "metadata": {
        "id": "enYi-Zeo-uRr"
      },
      "execution_count": 13,
      "outputs": []
    },
    {
      "cell_type": "code",
      "source": [
        "# Training Run\n",
        "input_seq = input_seq.to(device)\n",
        "for epoch in range(1, n_epochs + 1):\n",
        "    optimizer.zero_grad() # Clears existing gradients from previous epoch\n",
        "    #input_seq = input_seq.to(device)\n",
        "    output, hidden = model(input_seq)\n",
        "    output = output.to(device)\n",
        "    target_seq = target_seq.to(device)\n",
        "    loss = criterion(output, target_seq.view(-1).long())\n",
        "    loss.backward() # Does backpropagation and calculates gradients\n",
        "    optimizer.step() # Updates the weights accordingly\n",
        "\n",
        "    if epoch%10 == 0:\n",
        "        print('Epoch: {}/{}.............'.format(epoch, n_epochs), end=' ')\n",
        "        print(\"Loss: {:.4f}\".format(loss.item()))"
      ],
      "metadata": {
        "colab": {
          "base_uri": "https://localhost:8080/"
        },
        "id": "IfhK2iir-3lH",
        "outputId": "f35b0056-8850-413b-974e-e00070976e1d"
      },
      "execution_count": 14,
      "outputs": [
        {
          "output_type": "stream",
          "name": "stdout",
          "text": [
            "Epoch: 10/100............. Loss: 2.4284\n",
            "Epoch: 20/100............. Loss: 2.1300\n",
            "Epoch: 30/100............. Loss: 1.7507\n",
            "Epoch: 40/100............. Loss: 1.3510\n",
            "Epoch: 50/100............. Loss: 1.0110\n",
            "Epoch: 60/100............. Loss: 0.7427\n",
            "Epoch: 70/100............. Loss: 0.5433\n",
            "Epoch: 80/100............. Loss: 0.3990\n",
            "Epoch: 90/100............. Loss: 0.2984\n",
            "Epoch: 100/100............. Loss: 0.2297\n"
          ]
        }
      ]
    },
    {
      "cell_type": "code",
      "source": [
        "# test our model now and see what kind of output we will get.\n",
        "# Before that, let’s define some helper function to convert our model output back to text.\n",
        "def predict(model, character):\n",
        "    # One-hot encoding our input to fit into the model\n",
        "    character = np.array([[char2int[c] for c in character]])\n",
        "    character = one_hot_encode(character, dict_size, character.shape[1], 1)\n",
        "    character = torch.from_numpy(character)\n",
        "    character = character.to(device)\n",
        "\n",
        "    out, hidden = model(character)\n",
        "\n",
        "    prob = nn.functional.softmax(out[-1], dim=0).data\n",
        "    # Taking the class with the highest probability score from the output\n",
        "    char_ind = torch.max(prob, dim=0)[1].item()\n",
        "\n",
        "    return int2char[char_ind], hidden"
      ],
      "metadata": {
        "id": "mRnGRO8P-_xv"
      },
      "execution_count": 15,
      "outputs": []
    },
    {
      "cell_type": "code",
      "source": [
        "def sample(model, out_len, start='hey'):\n",
        "    model.eval() # eval mode\n",
        "    start = start.lower()\n",
        "    # First off, run through the starting characters\n",
        "    chars = [ch for ch in start]\n",
        "    size = out_len - len(chars)\n",
        "    # Now pass in the previous characters and get a new one\n",
        "    for ii in range(size):\n",
        "        char, h = predict(model, chars)\n",
        "        chars.append(char)\n",
        "\n",
        "    return ''.join(chars)"
      ],
      "metadata": {
        "id": "Fdighjz1_FrP"
      },
      "execution_count": 16,
      "outputs": []
    },
    {
      "cell_type": "code",
      "source": [
        "# the model is able to come up with the sentence ‘good i am fine ‘ if we feed it with the words ‘good’, achieving what we intended for it to do!\n",
        "sample(model, 15, 'good')"
      ],
      "metadata": {
        "colab": {
          "base_uri": "https://localhost:8080/",
          "height": 36
        },
        "id": "VpctWccT_KKr",
        "outputId": "12c0f620-2914-4113-d138-90e6fb4dab61"
      },
      "execution_count": 17,
      "outputs": [
        {
          "output_type": "execute_result",
          "data": {
            "text/plain": [
              "'good i am fine '"
            ],
            "application/vnd.google.colaboratory.intrinsic+json": {
              "type": "string"
            }
          },
          "metadata": {},
          "execution_count": 17
        }
      ]
    },
    {
      "cell_type": "code",
      "source": [
        "sample(model, 15, 'hey')"
      ],
      "metadata": {
        "colab": {
          "base_uri": "https://localhost:8080/",
          "height": 36
        },
        "id": "wQbrYsbL_UlU",
        "outputId": "ccae45f2-2b65-498d-9b3d-5afbc1cd5aae"
      },
      "execution_count": 18,
      "outputs": [
        {
          "output_type": "execute_result",
          "data": {
            "text/plain": [
              "'hey how are you'"
            ],
            "application/vnd.google.colaboratory.intrinsic+json": {
              "type": "string"
            }
          },
          "metadata": {},
          "execution_count": 18
        }
      ]
    },
    {
      "cell_type": "code",
      "source": [
        "sample(model, 15, 'ave')"
      ],
      "metadata": {
        "colab": {
          "base_uri": "https://localhost:8080/",
          "height": 36
        },
        "id": "J4F4qX96_inr",
        "outputId": "a849c7ee-33d3-43cf-f320-98ff96765f1b"
      },
      "execution_count": 19,
      "outputs": [
        {
          "output_type": "execute_result",
          "data": {
            "text/plain": [
              "'ave a nice day '"
            ],
            "application/vnd.google.colaboratory.intrinsic+json": {
              "type": "string"
            }
          },
          "metadata": {},
          "execution_count": 19
        }
      ]
    },
    {
      "cell_type": "code",
      "source": [
        "sample(model, 15, 'how')"
      ],
      "metadata": {
        "colab": {
          "base_uri": "https://localhost:8080/",
          "height": 36
        },
        "id": "xPpYsXGA_nJO",
        "outputId": "e5309df4-7a79-4ba4-c8c0-c9625040c395"
      },
      "execution_count": 21,
      "outputs": [
        {
          "output_type": "execute_result",
          "data": {
            "text/plain": [
              "'how are youa e '"
            ],
            "application/vnd.google.colaboratory.intrinsic+json": {
              "type": "string"
            }
          },
          "metadata": {},
          "execution_count": 21
        }
      ]
    }
  ]
}