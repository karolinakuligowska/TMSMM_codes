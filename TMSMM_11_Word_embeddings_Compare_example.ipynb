{
  "nbformat": 4,
  "nbformat_minor": 0,
  "metadata": {
    "colab": {
      "provenance": [],
      "authorship_tag": "ABX9TyNV2yse0cQ7GU/HiDIZAR6k",
      "include_colab_link": true
    },
    "kernelspec": {
      "name": "python3",
      "display_name": "Python 3"
    },
    "language_info": {
      "name": "python"
    }
  },
  "cells": [
    {
      "cell_type": "markdown",
      "metadata": {
        "id": "view-in-github",
        "colab_type": "text"
      },
      "source": [
        "<a href=\"https://colab.research.google.com/github/karolinakuligowska/TMSMM_codes/blob/main/TMSMM_11_Word_embeddings_Compare_example.ipynb\" target=\"_parent\"><img src=\"https://colab.research.google.com/assets/colab-badge.svg\" alt=\"Open In Colab\"/></a>"
      ]
    },
    {
      "cell_type": "code",
      "execution_count": 1,
      "metadata": {
        "colab": {
          "base_uri": "https://localhost:8080/"
        },
        "id": "HbCTwBhN8q5r",
        "outputId": "d0af1fa6-016d-4fd1-9be4-3ccf13dfa14a"
      },
      "outputs": [
        {
          "output_type": "stream",
          "name": "stdout",
          "text": [
            "Requirement already satisfied: gensim in /usr/local/lib/python3.10/dist-packages (4.3.2)\n",
            "Requirement already satisfied: numpy>=1.18.5 in /usr/local/lib/python3.10/dist-packages (from gensim) (1.23.5)\n",
            "Requirement already satisfied: scipy>=1.7.0 in /usr/local/lib/python3.10/dist-packages (from gensim) (1.11.4)\n",
            "Requirement already satisfied: smart-open>=1.8.1 in /usr/local/lib/python3.10/dist-packages (from gensim) (6.4.0)\n"
          ]
        }
      ],
      "source": [
        "!pip install --upgrade gensim"
      ]
    },
    {
      "cell_type": "code",
      "source": [
        "import gensim.downloader as api"
      ],
      "metadata": {
        "id": "A2KNXSAW9JYl"
      },
      "execution_count": 2,
      "outputs": []
    },
    {
      "cell_type": "code",
      "source": [
        "info = api.info()\n",
        "for model_name, model_data in sorted(info['models'].items()):\n",
        "  print(\n",
        "      '%s (%d records): %s' % (\n",
        "          model_name,\n",
        "          model_data.get('num_records', -1),\n",
        "          model_data['description'][:40] + '...',\n",
        "      )\n",
        "  )"
      ],
      "metadata": {
        "colab": {
          "base_uri": "https://localhost:8080/"
        },
        "id": "uNPkGGu19PAz",
        "outputId": "43b3862e-aef7-4b05-f416-0ee06fdea228"
      },
      "execution_count": 3,
      "outputs": [
        {
          "output_type": "stream",
          "name": "stdout",
          "text": [
            "__testing_word2vec-matrix-synopsis (-1 records): [THIS IS ONLY FOR TESTING] Word vecrors ...\n",
            "conceptnet-numberbatch-17-06-300 (1917247 records): ConceptNet Numberbatch consists of state...\n",
            "fasttext-wiki-news-subwords-300 (999999 records): 1 million word vectors trained on Wikipe...\n",
            "glove-twitter-100 (1193514 records): Pre-trained vectors based on  2B tweets,...\n",
            "glove-twitter-200 (1193514 records): Pre-trained vectors based on 2B tweets, ...\n",
            "glove-twitter-25 (1193514 records): Pre-trained vectors based on 2B tweets, ...\n",
            "glove-twitter-50 (1193514 records): Pre-trained vectors based on 2B tweets, ...\n",
            "glove-wiki-gigaword-100 (400000 records): Pre-trained vectors based on Wikipedia 2...\n",
            "glove-wiki-gigaword-200 (400000 records): Pre-trained vectors based on Wikipedia 2...\n",
            "glove-wiki-gigaword-300 (400000 records): Pre-trained vectors based on Wikipedia 2...\n",
            "glove-wiki-gigaword-50 (400000 records): Pre-trained vectors based on Wikipedia 2...\n",
            "word2vec-google-news-300 (3000000 records): Pre-trained vectors trained on a part of...\n",
            "word2vec-ruscorpora-300 (184973 records): Word2vec Continuous Skipgram vectors tra...\n"
          ]
        }
      ]
    },
    {
      "cell_type": "code",
      "source": [
        "wv = api.load('word2vec-google-news-300')"
      ],
      "metadata": {
        "colab": {
          "base_uri": "https://localhost:8080/"
        },
        "id": "JT14fTja-Atk",
        "outputId": "0cb74ef0-58d2-4c5f-df8c-ebccf7ca46eb"
      },
      "execution_count": 4,
      "outputs": [
        {
          "output_type": "stream",
          "name": "stdout",
          "text": [
            "[==================================================] 100.0% 1662.8/1662.8MB downloaded\n"
          ]
        }
      ]
    },
    {
      "cell_type": "code",
      "source": [
        "glove = api.load('glove-twitter-25')"
      ],
      "metadata": {
        "colab": {
          "base_uri": "https://localhost:8080/"
        },
        "id": "0cTxHGVF-Ny2",
        "outputId": "82e8905d-90af-4131-df7f-e926e98f834f"
      },
      "execution_count": 5,
      "outputs": [
        {
          "output_type": "stream",
          "name": "stdout",
          "text": [
            "[==================================================] 100.0% 104.8/104.8MB downloaded\n"
          ]
        }
      ]
    },
    {
      "cell_type": "code",
      "source": [
        "fasttext = api.load('fasttext-wiki-news-subwords-300')"
      ],
      "metadata": {
        "colab": {
          "base_uri": "https://localhost:8080/"
        },
        "id": "JZbGt_fq-ZYf",
        "outputId": "e144c2b9-181b-4d63-97d8-0b0ab2b2eb9f"
      },
      "execution_count": 6,
      "outputs": [
        {
          "output_type": "stream",
          "name": "stdout",
          "text": [
            "[==================================================] 100.0% 958.5/958.4MB downloaded\n"
          ]
        }
      ]
    },
    {
      "cell_type": "code",
      "source": [
        "wv.most_similar('tea')"
      ],
      "metadata": {
        "colab": {
          "base_uri": "https://localhost:8080/"
        },
        "id": "DnUZfcwh-gk1",
        "outputId": "d0fa90a6-4e52-4d13-af2a-ee4ab79fe509"
      },
      "execution_count": 7,
      "outputs": [
        {
          "output_type": "execute_result",
          "data": {
            "text/plain": [
              "[('Tea', 0.7009038329124451),\n",
              " ('teas', 0.6727380156517029),\n",
              " ('shape_Angius', 0.6323482990264893),\n",
              " ('activist_Jamie_Radtke', 0.5863860249519348),\n",
              " ('decaffeinated_brew', 0.5839536190032959),\n",
              " ('planter_bungalow', 0.575829029083252),\n",
              " ('herbal_tea', 0.5731174349784851),\n",
              " ('coffee', 0.5635291934013367),\n",
              " ('jasmine_tea', 0.548339307308197),\n",
              " ('Tea_NASDAQ_PEET', 0.5402544140815735)]"
            ]
          },
          "metadata": {},
          "execution_count": 7
        }
      ]
    },
    {
      "cell_type": "code",
      "source": [
        "glove.most_similar('tea')"
      ],
      "metadata": {
        "colab": {
          "base_uri": "https://localhost:8080/"
        },
        "id": "arr84J5V-lBN",
        "outputId": "07c990b5-c7b7-4e2a-c0bd-de8bc2eb2f4e"
      },
      "execution_count": 8,
      "outputs": [
        {
          "output_type": "execute_result",
          "data": {
            "text/plain": [
              "[('coffee', 0.917603075504303),\n",
              " ('milk', 0.905985414981842),\n",
              " ('cream', 0.902299702167511),\n",
              " ('bread', 0.9010369777679443),\n",
              " ('ice', 0.8975890874862671),\n",
              " ('wine', 0.8962970972061157),\n",
              " ('food', 0.8928905725479126),\n",
              " ('soup', 0.8913701176643372),\n",
              " ('cake', 0.8854183554649353),\n",
              " ('cheese', 0.8838366270065308)]"
            ]
          },
          "metadata": {},
          "execution_count": 8
        }
      ]
    },
    {
      "cell_type": "code",
      "source": [
        "fasttext.most_similar('tea')"
      ],
      "metadata": {
        "colab": {
          "base_uri": "https://localhost:8080/"
        },
        "id": "eobe0-FC-r6P",
        "outputId": "22fac373-9729-44bc-9362-7e7316f01a34"
      },
      "execution_count": 9,
      "outputs": [
        {
          "output_type": "execute_result",
          "data": {
            "text/plain": [
              "[('tea-', 0.7728264927864075),\n",
              " ('coffee', 0.7583761215209961),\n",
              " ('teas', 0.731768786907196),\n",
              " ('cuppa', 0.7301388382911682),\n",
              " ('teabags', 0.6973741054534912),\n",
              " ('Tea', 0.682609498500824),\n",
              " ('tea-drinking', 0.6748529076576233),\n",
              " ('teabag', 0.670712947845459),\n",
              " ('tea-making', 0.6683592200279236),\n",
              " ('tea-bags', 0.6638833284378052)]"
            ]
          },
          "metadata": {},
          "execution_count": 9
        }
      ]
    },
    {
      "cell_type": "code",
      "source": [
        "wv.distance('coffee', 'tea')"
      ],
      "metadata": {
        "colab": {
          "base_uri": "https://localhost:8080/"
        },
        "id": "BztUjaEK-umC",
        "outputId": "4a2fd0cf-625b-4393-ae11-ce1f149e3d1f"
      },
      "execution_count": 10,
      "outputs": [
        {
          "output_type": "execute_result",
          "data": {
            "text/plain": [
              "0.43647080659866333"
            ]
          },
          "metadata": {},
          "execution_count": 10
        }
      ]
    },
    {
      "cell_type": "code",
      "source": [
        "wv.distance('coffee', 'muffin')"
      ],
      "metadata": {
        "colab": {
          "base_uri": "https://localhost:8080/"
        },
        "id": "NeDBaXML_1-L",
        "outputId": "0a49c83e-434b-404e-bae4-0173461bc5ee"
      },
      "execution_count": 11,
      "outputs": [
        {
          "output_type": "execute_result",
          "data": {
            "text/plain": [
              "0.5663563013076782"
            ]
          },
          "metadata": {},
          "execution_count": 11
        }
      ]
    },
    {
      "cell_type": "code",
      "source": [
        "wv.distance('sea', 'tea')"
      ],
      "metadata": {
        "colab": {
          "base_uri": "https://localhost:8080/"
        },
        "id": "KDXpo4do_vKK",
        "outputId": "86110c11-1c78-4ea4-8ad1-d1f4afa1a329"
      },
      "execution_count": 12,
      "outputs": [
        {
          "output_type": "execute_result",
          "data": {
            "text/plain": [
              "0.8768914863467216"
            ]
          },
          "metadata": {},
          "execution_count": 12
        }
      ]
    },
    {
      "cell_type": "code",
      "source": [
        "wv.distance('sea', 'ocean')"
      ],
      "metadata": {
        "colab": {
          "base_uri": "https://localhost:8080/"
        },
        "id": "UL7aeywv_y1Z",
        "outputId": "1becfc11-ad65-4568-dca2-49e44a09e05f"
      },
      "execution_count": 13,
      "outputs": [
        {
          "output_type": "execute_result",
          "data": {
            "text/plain": [
              "0.2356458306312561"
            ]
          },
          "metadata": {},
          "execution_count": 13
        }
      ]
    },
    {
      "cell_type": "code",
      "source": [
        "wv.most_similar_cosmul(positive=['king','woman'], negative=['man'])"
      ],
      "metadata": {
        "colab": {
          "base_uri": "https://localhost:8080/"
        },
        "id": "65AYGe8H-01M",
        "outputId": "82abb85c-136d-4eff-b956-fba46d638124"
      },
      "execution_count": 14,
      "outputs": [
        {
          "output_type": "execute_result",
          "data": {
            "text/plain": [
              "[('queen', 0.9314123392105103),\n",
              " ('monarch', 0.858533501625061),\n",
              " ('princess', 0.8476566076278687),\n",
              " ('Queen_Consort', 0.8150269985198975),\n",
              " ('queens', 0.8099815249443054),\n",
              " ('crown_prince', 0.8089976906776428),\n",
              " ('royal_palace', 0.8027306795120239),\n",
              " ('monarchy', 0.8019613027572632),\n",
              " ('prince', 0.800979733467102),\n",
              " ('empress', 0.7958389520645142)]"
            ]
          },
          "metadata": {},
          "execution_count": 14
        }
      ]
    },
    {
      "cell_type": "code",
      "source": [
        "wv.most_similar_cosmul(positive=['lion','female'], negative=['male'])"
      ],
      "metadata": {
        "colab": {
          "base_uri": "https://localhost:8080/"
        },
        "id": "Yy0lODWy_E2X",
        "outputId": "b40da858-f0cf-449c-f06f-06d72b3bb65b"
      },
      "execution_count": 15,
      "outputs": [
        {
          "output_type": "execute_result",
          "data": {
            "text/plain": [
              "[('lions', 0.7718729972839355),\n",
              " ('lioness', 0.7480700612068176),\n",
              " ('gorilla', 0.7241476774215698),\n",
              " ('elephant', 0.7237558364868164),\n",
              " ('Hendrick_Motorports', 0.714398980140686),\n",
              " ('hyena', 0.7130855321884155),\n",
              " ('tiger', 0.7095131874084473),\n",
              " ('lion_cub', 0.7086183428764343),\n",
              " ('unicorn', 0.7081839442253113),\n",
              " ('rhinoceros', 0.7081379890441895)]"
            ]
          },
          "metadata": {},
          "execution_count": 15
        }
      ]
    },
    {
      "cell_type": "code",
      "source": [
        "wv.most_similar_cosmul(positive=['drink','cofee'], negative=['milk'])"
      ],
      "metadata": {
        "colab": {
          "base_uri": "https://localhost:8080/"
        },
        "id": "B1O-OlTS_Thd",
        "outputId": "a76e2225-d20e-41ed-9625-a74a2e0ac0a9"
      },
      "execution_count": 16,
      "outputs": [
        {
          "output_type": "execute_result",
          "data": {
            "text/plain": [
              "[('Cuba_Libres', 0.8893554210662842),\n",
              " ('bev', 0.8879139423370361),\n",
              " ('drinks', 0.8846974968910217),\n",
              " ('sip', 0.8843018412590027),\n",
              " ('Drink', 0.8842101693153381),\n",
              " ('hip_flask', 0.8824538588523865),\n",
              " ('sipping_fruity', 0.8812420964241028),\n",
              " ('rum_punch', 0.8767246603965759),\n",
              " ('Barkeep', 0.8746774792671204),\n",
              " ('vodka_tonics', 0.8732134699821472)]"
            ]
          },
          "metadata": {},
          "execution_count": 16
        }
      ]
    },
    {
      "cell_type": "code",
      "source": [
        "wv.most_similar_cosmul(positive=['book','sound'], negative=['pages'])"
      ],
      "metadata": {
        "colab": {
          "base_uri": "https://localhost:8080/"
        },
        "id": "AUdI-YDRABpB",
        "outputId": "39fe6101-2058-45b3-bdc1-f5ed3b187eff"
      },
      "execution_count": 17,
      "outputs": [
        {
          "output_type": "execute_result",
          "data": {
            "text/plain": [
              "[('sounds', 0.8756510615348816),\n",
              " ('Mic_Pool', 0.8327358365058899),\n",
              " ('cornet_solo', 0.8251127600669861),\n",
              " ('Dolby_Digital_SDDS_DTS', 0.8170743584632874),\n",
              " ('Brian_Eno_ambient', 0.8155624866485596),\n",
              " ('recordable_greeting_cards', 0.8101201057434082),\n",
              " ('Incantation', 0.8097930550575256),\n",
              " ('Medúlla', 0.8093034625053406),\n",
              " ('Soul_Cages', 0.8055468201637268),\n",
              " ('hi_fi', 0.8050590753555298)]"
            ]
          },
          "metadata": {},
          "execution_count": 17
        }
      ]
    },
    {
      "cell_type": "code",
      "source": [
        "glove.most_similar_cosmul(positive=['king','woman'], negative=['man'])"
      ],
      "metadata": {
        "colab": {
          "base_uri": "https://localhost:8080/"
        },
        "id": "a5qYT_8uAysJ",
        "outputId": "5e71ca55-2c76-408e-b87f-52cd2f1b9e0e"
      },
      "execution_count": 18,
      "outputs": [
        {
          "output_type": "execute_result",
          "data": {
            "text/plain": [
              "[('meets', 1.0724927186965942),\n",
              " ('crow', 1.0357959270477295),\n",
              " ('hedgehog', 1.0280965566635132),\n",
              " ('prince', 1.0248892307281494),\n",
              " ('hunter', 1.0226764678955078),\n",
              " ('mercy', 1.0204170942306519),\n",
              " ('queen', 1.019834280014038),\n",
              " ('shepherd', 1.0195918083190918),\n",
              " ('soldier', 1.019392728805542),\n",
              " ('widow', 1.0162572860717773)]"
            ]
          },
          "metadata": {},
          "execution_count": 18
        }
      ]
    },
    {
      "cell_type": "code",
      "source": [
        "fasttext.most_similar_cosmul(positive=['king','woman'], negative=['man'])"
      ],
      "metadata": {
        "colab": {
          "base_uri": "https://localhost:8080/"
        },
        "id": "pd1VXJCvA13R",
        "outputId": "e71ea410-088e-4b09-a07e-ed4e767fd472"
      },
      "execution_count": 19,
      "outputs": [
        {
          "output_type": "execute_result",
          "data": {
            "text/plain": [
              "[('queen', 0.9390855431556702),\n",
              " ('queen-mother', 0.9078598618507385),\n",
              " ('king-', 0.8828966617584229),\n",
              " ('queen-consort', 0.882541835308075),\n",
              " ('child-king', 0.8680858016014099),\n",
              " ('monarch', 0.8670082688331604),\n",
              " ('ex-queen', 0.8654637932777405),\n",
              " ('princess', 0.8628991842269897),\n",
              " ('queen-', 0.8613532781600952),\n",
              " ('boy-king', 0.860465943813324)]"
            ]
          },
          "metadata": {},
          "execution_count": 19
        }
      ]
    }
  ]
}