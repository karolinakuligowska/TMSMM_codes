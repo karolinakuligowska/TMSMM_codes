{
  "nbformat": 4,
  "nbformat_minor": 0,
  "metadata": {
    "colab": {
      "provenance": [],
      "collapsed_sections": [],
      "mount_file_id": "1dg2_IGAXQCIdVOJcSNO1NIiPwwLMuutP",
      "authorship_tag": "ABX9TyPzRns6fwApViOSK3/46pxP",
      "include_colab_link": true
    },
    "kernelspec": {
      "name": "python3",
      "display_name": "Python 3"
    },
    "language_info": {
      "name": "python"
    }
  },
  "cells": [
    {
      "cell_type": "markdown",
      "metadata": {
        "id": "view-in-github",
        "colab_type": "text"
      },
      "source": [
        "<a href=\"https://colab.research.google.com/github/karolinakuligowska/TMSMM_codes/blob/main/KK_TMSMM_class_2_MLK_speech.ipynb\" target=\"_parent\"><img src=\"https://colab.research.google.com/assets/colab-badge.svg\" alt=\"Open In Colab\"/></a>"
      ]
    },
    {
      "cell_type": "markdown",
      "metadata": {
        "id": "fTCdE71GebYw"
      },
      "source": [
        "# NLP - Text Parsing, Stemming, Stopword removal, Term Frequency Matrix"
      ]
    },
    {
      "cell_type": "code",
      "metadata": {
        "id": "B5PnpJ38amUX"
      },
      "source": [
        "# load packages\n",
        "\n",
        "import re\n",
        "import string\n",
        "import pandas as pd\n",
        "import os\n",
        "import nltk"
      ],
      "execution_count": 1,
      "outputs": []
    },
    {
      "cell_type": "code",
      "metadata": {
        "colab": {
          "base_uri": "https://localhost:8080/"
        },
        "id": "sOy2KwIMa6wg",
        "outputId": "5ce5c5bc-c712-4e92-b4f6-515ef7cb5301"
      },
      "source": [
        "import nltk.corpus\n",
        "from nltk.corpus.reader.plaintext import PlaintextCorpusReader\n",
        "from nltk.corpus import stopwords \n",
        "nltk.download('stopwords')\n",
        "from nltk.tokenize import word_tokenize"
      ],
      "execution_count": 2,
      "outputs": [
        {
          "output_type": "stream",
          "name": "stderr",
          "text": [
            "[nltk_data] Downloading package stopwords to /root/nltk_data...\n",
            "[nltk_data]   Unzipping corpora/stopwords.zip.\n"
          ]
        }
      ]
    },
    {
      "cell_type": "code",
      "metadata": {
        "colab": {
          "base_uri": "https://localhost:8080/"
        },
        "id": "Wzc6E33mbQUC",
        "outputId": "b064edfe-6508-4438-ed3a-5e6a53dccf78"
      },
      "source": [
        "nltk.download('punkt')\n",
        "\n",
        "from nltk.stem import PorterStemmer \n",
        "from nltk.tokenize import word_tokenize "
      ],
      "execution_count": 3,
      "outputs": [
        {
          "output_type": "stream",
          "name": "stderr",
          "text": [
            "[nltk_data] Downloading package punkt to /root/nltk_data...\n",
            "[nltk_data]   Unzipping tokenizers/punkt.zip.\n"
          ]
        }
      ]
    },
    {
      "cell_type": "code",
      "metadata": {
        "id": "EvW3pweNbZXR"
      },
      "source": [
        "# input text\n",
        "# or read a file .txt\n",
        "# text=open(\"/content/drive/MyDrive/Colab Notebooks/MLK_speech.txt\",\"r\")\n",
        "text = open(\"MLK_speech.txt\",\"r\")\n",
        "text = str(text.readlines())\n"
      ],
      "execution_count": 4,
      "outputs": []
    },
    {
      "cell_type": "code",
      "metadata": {
        "colab": {
          "base_uri": "https://localhost:8080/"
        },
        "id": "_1PEjYNUbqCM",
        "outputId": "df153923-d7ae-4962-8320-53e70d863f20"
      },
      "source": [
        "print(text)"
      ],
      "execution_count": 5,
      "outputs": [
        {
          "output_type": "stream",
          "name": "stdout",
          "text": [
            "['\\n', 'And so even though we face the difficulties of today and tomorrow, I still have a dream. It is a dream deeply rooted in the American dream.\\n', ' \\n', 'I have a dream that one day this nation will rise up and live out the true meaning of its creed:\\n', ' \\n', 'We hold these truths to be self-evident, that all men are created equal.\\n', ' \\n', 'I have a dream that one day on the red hills of Georgia, the sons of former slaves and the sons of former slave owners will be able to sit down together at the table of brotherhood.\\n', ' \\n', 'I have a dream that one day even the state of Mississippi, a state sweltering with the heat of injustice, sweltering with the heat of oppression, will be transformed into an oasis of freedom and justice.\\n', ' \\n', 'I have a dream that my four little children will one day live in a nation where they will not be judged by the color of their skin but by the content of their character.\\n', ' \\n', 'I have a dream today!\\n', ' \\n', 'I have a dream that one day, down in Alabama, with its vicious racists, with its governor having his lips dripping with the words of interposition and nullification, one day right there in Alabama little black boys and black girls will be able to join hands with little white boys and white girls as sisters and brothers.\\n', ' \\n', 'I have a dream today!\\n', ' \\n', 'I have a dream that one day every valley shall be exalted, and every hill and mountain shall be made low, the rough places will be made plain, and the crooked places will be made straight; and the glory of the Lord shall be revealed and all flesh shall see it together.\\n', ' \\n', 'This is our hope, and this is the faith that I go back to the South with.\\n', ' \\n', 'With this faith, we will be able to hew out of the mountain of despair a stone of hope. With this faith, we will be able to transform the jangling discords of our nation into a beautiful symphony of brotherhood. With this faith, we will be able to work together, to pray together, to struggle together, to go to jail together, to stand up for freedom together, knowing that we will be free one day.\\n', ' \\n', 'And this will be the day, this will be the day when all of God s children will be able to sing with new meaning:\\n', ' \\n', 'My country  tis of thee, sweet land of liberty, of thee I sing.\\n', 'Land where my fathers died, land of the Pilgrim s pride,\\n', 'From every mountainside, let freedom ring!\\n', 'And if America is to be a great nation, this must become true.\\n', 'And so let freedom ring from the prodigious hilltops of New Hampshire.\\n', 'Let freedom ring from the mighty mountains of New York.\\n', 'Let freedom ring from the heightening Alleghenies of Pennsylvania.\\n', 'Let freedom ring from the snow-capped Rockies of Colorado.\\n', 'Let freedom ring from the curvaceous slopes of California.\\n', ' \\n', 'But not only that:\\n', 'Let freedom ring from Stone Mountain of Georgia.\\n', 'Let freedom ring from Lookout Mountain of Tennessee.\\n', 'Let freedom ring from every hill and molehill of Mississippi.\\n', 'From every mountainside, let freedom ring.\\n', 'And when this happens, when we allow freedom ring, when we let it ring from every village and every hamlet, from every state and every city, we will be able to speed up that day when all of God s children, black men and white men, Jews and Gentiles, Protestants and Catholics, will be able to join hands and sing in the words of the old Negro spiritual:\\n', 'Free at last! Free at last!\\n', ' \\n', 'Thank God Almighty, we are free at last!']\n"
          ]
        }
      ]
    },
    {
      "cell_type": "markdown",
      "metadata": {
        "id": "PuwfAYWIbxyp"
      },
      "source": [
        "# Text parsing \n",
        "--------------------------\n"
      ]
    },
    {
      "cell_type": "markdown",
      "metadata": {
        "id": "PlWsTnBte6LF"
      },
      "source": [
        "# Preliminary cleaning"
      ]
    },
    {
      "cell_type": "code",
      "metadata": {
        "id": "-Ku784HPcGWA",
        "colab": {
          "base_uri": "https://localhost:8080/"
        },
        "outputId": "0b6987b3-20c9-41a1-f2c0-99cb2d94d6d8"
      },
      "source": [
        "# replace special characters from text. \n",
        "# substituting \"/\", \"@\" and \"|\" and others by a space.\n",
        "text_clean = re.sub('[^a-zA-Z0-9 \\n\\.]', '', text)\n",
        "print(text_clean)"
      ],
      "execution_count": 6,
      "outputs": [
        {
          "output_type": "stream",
          "name": "stdout",
          "text": [
            "n And so even though we face the difficulties of today and tomorrow I still have a dream. It is a dream deeply rooted in the American dream.n  n I have a dream that one day this nation will rise up and live out the true meaning of its creedn  n We hold these truths to be selfevident that all men are created equal.n  n I have a dream that one day on the red hills of Georgia the sons of former slaves and the sons of former slave owners will be able to sit down together at the table of brotherhood.n  n I have a dream that one day even the state of Mississippi a state sweltering with the heat of injustice sweltering with the heat of oppression will be transformed into an oasis of freedom and justice.n  n I have a dream that my four little children will one day live in a nation where they will not be judged by the color of their skin but by the content of their character.n  n I have a dream todayn  n I have a dream that one day down in Alabama with its vicious racists with its governor having his lips dripping with the words of interposition and nullification one day right there in Alabama little black boys and black girls will be able to join hands with little white boys and white girls as sisters and brothers.n  n I have a dream todayn  n I have a dream that one day every valley shall be exalted and every hill and mountain shall be made low the rough places will be made plain and the crooked places will be made straight and the glory of the Lord shall be revealed and all flesh shall see it together.n  n This is our hope and this is the faith that I go back to the South with.n  n With this faith we will be able to hew out of the mountain of despair a stone of hope. With this faith we will be able to transform the jangling discords of our nation into a beautiful symphony of brotherhood. With this faith we will be able to work together to pray together to struggle together to go to jail together to stand up for freedom together knowing that we will be free one day.n  n And this will be the day this will be the day when all of God s children will be able to sing with new meaningn  n My country  tis of thee sweet land of liberty of thee I sing.n Land where my fathers died land of the Pilgrim s priden From every mountainside let freedom ringn And if America is to be a great nation this must become true.n And so let freedom ring from the prodigious hilltops of New Hampshire.n Let freedom ring from the mighty mountains of New York.n Let freedom ring from the heightening Alleghenies of Pennsylvania.n Let freedom ring from the snowcapped Rockies of Colorado.n Let freedom ring from the curvaceous slopes of California.n  n But not only thatn Let freedom ring from Stone Mountain of Georgia.n Let freedom ring from Lookout Mountain of Tennessee.n Let freedom ring from every hill and molehill of Mississippi.n From every mountainside let freedom ring.n And when this happens when we allow freedom ring when we let it ring from every village and every hamlet from every state and every city we will be able to speed up that day when all of God s children black men and white men Jews and Gentiles Protestants and Catholics will be able to join hands and sing in the words of the old Negro spiritualn Free at last Free at lastn  n Thank God Almighty we are free at last\n"
          ]
        }
      ]
    },
    {
      "cell_type": "markdown",
      "metadata": {
        "id": "zjSB0a6ScXQK"
      },
      "source": [
        "# Cleaning text\n"
      ]
    },
    {
      "cell_type": "code",
      "metadata": {
        "id": "4usbGgpAcS_n"
      },
      "source": [
        "# a) to remove unnecessary spaces, punctuation and numbers\n",
        "\n",
        "# remove unnecessary spaces\n",
        "text_cleaner = re.sub(' +', ' ', text_clean)\n",
        "\n",
        "# remove unnecessary punctuation - already done above using regex, you may try to define punctuation manually\n",
        "text_cleaner = re.sub(r'[^\\w\\s]','', text_cleaner)"
      ],
      "execution_count": 7,
      "outputs": []
    },
    {
      "cell_type": "code",
      "metadata": {
        "id": "e4hL1BoVc1JA",
        "colab": {
          "base_uri": "https://localhost:8080/"
        },
        "outputId": "a9c62671-956a-439c-80ca-8bf9e4063d74"
      },
      "source": [
        "# remove unnecessary numbers\n",
        "text_cleaner = re.sub('\\d', '', text_cleaner)\n",
        "\n",
        "# remove unnecessary spaces once again\n",
        "text_cleaner = re.sub(' +', ' ', text_cleaner)\n",
        "print(text_cleaner)"
      ],
      "execution_count": 8,
      "outputs": [
        {
          "output_type": "stream",
          "name": "stdout",
          "text": [
            "n And so even though we face the difficulties of today and tomorrow I still have a dream It is a dream deeply rooted in the American dreamn n I have a dream that one day this nation will rise up and live out the true meaning of its creedn n We hold these truths to be selfevident that all men are created equaln n I have a dream that one day on the red hills of Georgia the sons of former slaves and the sons of former slave owners will be able to sit down together at the table of brotherhoodn n I have a dream that one day even the state of Mississippi a state sweltering with the heat of injustice sweltering with the heat of oppression will be transformed into an oasis of freedom and justicen n I have a dream that my four little children will one day live in a nation where they will not be judged by the color of their skin but by the content of their charactern n I have a dream todayn n I have a dream that one day down in Alabama with its vicious racists with its governor having his lips dripping with the words of interposition and nullification one day right there in Alabama little black boys and black girls will be able to join hands with little white boys and white girls as sisters and brothersn n I have a dream todayn n I have a dream that one day every valley shall be exalted and every hill and mountain shall be made low the rough places will be made plain and the crooked places will be made straight and the glory of the Lord shall be revealed and all flesh shall see it togethern n This is our hope and this is the faith that I go back to the South withn n With this faith we will be able to hew out of the mountain of despair a stone of hope With this faith we will be able to transform the jangling discords of our nation into a beautiful symphony of brotherhood With this faith we will be able to work together to pray together to struggle together to go to jail together to stand up for freedom together knowing that we will be free one dayn n And this will be the day this will be the day when all of God s children will be able to sing with new meaningn n My country tis of thee sweet land of liberty of thee I singn Land where my fathers died land of the Pilgrim s priden From every mountainside let freedom ringn And if America is to be a great nation this must become truen And so let freedom ring from the prodigious hilltops of New Hampshiren Let freedom ring from the mighty mountains of New Yorkn Let freedom ring from the heightening Alleghenies of Pennsylvanian Let freedom ring from the snowcapped Rockies of Coloradon Let freedom ring from the curvaceous slopes of Californian n But not only thatn Let freedom ring from Stone Mountain of Georgian Let freedom ring from Lookout Mountain of Tennesseen Let freedom ring from every hill and molehill of Mississippin From every mountainside let freedom ringn And when this happens when we allow freedom ring when we let it ring from every village and every hamlet from every state and every city we will be able to speed up that day when all of God s children black men and white men Jews and Gentiles Protestants and Catholics will be able to join hands and sing in the words of the old Negro spiritualn Free at last Free at lastn n Thank God Almighty we are free at last\n"
          ]
        }
      ]
    },
    {
      "cell_type": "code",
      "metadata": {
        "id": "7CiZgcL6c8lq",
        "colab": {
          "base_uri": "https://localhost:8080/"
        },
        "outputId": "80601b2f-0560-41a8-d7e8-f2e56cfdf767"
      },
      "source": [
        "# b) change letters to lower case\n",
        "\n",
        "text_cleaner = text_cleaner.lower()\n",
        "\n",
        "# change to lowercase\n",
        "print(text_cleaner.lower())"
      ],
      "execution_count": 9,
      "outputs": [
        {
          "output_type": "stream",
          "name": "stdout",
          "text": [
            "n and so even though we face the difficulties of today and tomorrow i still have a dream it is a dream deeply rooted in the american dreamn n i have a dream that one day this nation will rise up and live out the true meaning of its creedn n we hold these truths to be selfevident that all men are created equaln n i have a dream that one day on the red hills of georgia the sons of former slaves and the sons of former slave owners will be able to sit down together at the table of brotherhoodn n i have a dream that one day even the state of mississippi a state sweltering with the heat of injustice sweltering with the heat of oppression will be transformed into an oasis of freedom and justicen n i have a dream that my four little children will one day live in a nation where they will not be judged by the color of their skin but by the content of their charactern n i have a dream todayn n i have a dream that one day down in alabama with its vicious racists with its governor having his lips dripping with the words of interposition and nullification one day right there in alabama little black boys and black girls will be able to join hands with little white boys and white girls as sisters and brothersn n i have a dream todayn n i have a dream that one day every valley shall be exalted and every hill and mountain shall be made low the rough places will be made plain and the crooked places will be made straight and the glory of the lord shall be revealed and all flesh shall see it togethern n this is our hope and this is the faith that i go back to the south withn n with this faith we will be able to hew out of the mountain of despair a stone of hope with this faith we will be able to transform the jangling discords of our nation into a beautiful symphony of brotherhood with this faith we will be able to work together to pray together to struggle together to go to jail together to stand up for freedom together knowing that we will be free one dayn n and this will be the day this will be the day when all of god s children will be able to sing with new meaningn n my country tis of thee sweet land of liberty of thee i singn land where my fathers died land of the pilgrim s priden from every mountainside let freedom ringn and if america is to be a great nation this must become truen and so let freedom ring from the prodigious hilltops of new hampshiren let freedom ring from the mighty mountains of new yorkn let freedom ring from the heightening alleghenies of pennsylvanian let freedom ring from the snowcapped rockies of coloradon let freedom ring from the curvaceous slopes of californian n but not only thatn let freedom ring from stone mountain of georgian let freedom ring from lookout mountain of tennesseen let freedom ring from every hill and molehill of mississippin from every mountainside let freedom ringn and when this happens when we allow freedom ring when we let it ring from every village and every hamlet from every state and every city we will be able to speed up that day when all of god s children black men and white men jews and gentiles protestants and catholics will be able to join hands and sing in the words of the old negro spiritualn free at last free at lastn n thank god almighty we are free at last\n"
          ]
        }
      ]
    },
    {
      "cell_type": "markdown",
      "metadata": {
        "id": "4m80_d6Be5D7"
      },
      "source": [
        "# Tokenization"
      ]
    },
    {
      "cell_type": "code",
      "metadata": {
        "id": "44Jt2j6IfCIN",
        "colab": {
          "base_uri": "https://localhost:8080/"
        },
        "outputId": "8f851fa9-f8f5-40d0-d5f6-291d19eff769"
      },
      "source": [
        "word_tokens = word_tokenize(text_cleaner)\n",
        "\n",
        "print(word_tokens)"
      ],
      "execution_count": 10,
      "outputs": [
        {
          "output_type": "stream",
          "name": "stdout",
          "text": [
            "['n', 'and', 'so', 'even', 'though', 'we', 'face', 'the', 'difficulties', 'of', 'today', 'and', 'tomorrow', 'i', 'still', 'have', 'a', 'dream', 'it', 'is', 'a', 'dream', 'deeply', 'rooted', 'in', 'the', 'american', 'dreamn', 'n', 'i', 'have', 'a', 'dream', 'that', 'one', 'day', 'this', 'nation', 'will', 'rise', 'up', 'and', 'live', 'out', 'the', 'true', 'meaning', 'of', 'its', 'creedn', 'n', 'we', 'hold', 'these', 'truths', 'to', 'be', 'selfevident', 'that', 'all', 'men', 'are', 'created', 'equaln', 'n', 'i', 'have', 'a', 'dream', 'that', 'one', 'day', 'on', 'the', 'red', 'hills', 'of', 'georgia', 'the', 'sons', 'of', 'former', 'slaves', 'and', 'the', 'sons', 'of', 'former', 'slave', 'owners', 'will', 'be', 'able', 'to', 'sit', 'down', 'together', 'at', 'the', 'table', 'of', 'brotherhoodn', 'n', 'i', 'have', 'a', 'dream', 'that', 'one', 'day', 'even', 'the', 'state', 'of', 'mississippi', 'a', 'state', 'sweltering', 'with', 'the', 'heat', 'of', 'injustice', 'sweltering', 'with', 'the', 'heat', 'of', 'oppression', 'will', 'be', 'transformed', 'into', 'an', 'oasis', 'of', 'freedom', 'and', 'justicen', 'n', 'i', 'have', 'a', 'dream', 'that', 'my', 'four', 'little', 'children', 'will', 'one', 'day', 'live', 'in', 'a', 'nation', 'where', 'they', 'will', 'not', 'be', 'judged', 'by', 'the', 'color', 'of', 'their', 'skin', 'but', 'by', 'the', 'content', 'of', 'their', 'charactern', 'n', 'i', 'have', 'a', 'dream', 'todayn', 'n', 'i', 'have', 'a', 'dream', 'that', 'one', 'day', 'down', 'in', 'alabama', 'with', 'its', 'vicious', 'racists', 'with', 'its', 'governor', 'having', 'his', 'lips', 'dripping', 'with', 'the', 'words', 'of', 'interposition', 'and', 'nullification', 'one', 'day', 'right', 'there', 'in', 'alabama', 'little', 'black', 'boys', 'and', 'black', 'girls', 'will', 'be', 'able', 'to', 'join', 'hands', 'with', 'little', 'white', 'boys', 'and', 'white', 'girls', 'as', 'sisters', 'and', 'brothersn', 'n', 'i', 'have', 'a', 'dream', 'todayn', 'n', 'i', 'have', 'a', 'dream', 'that', 'one', 'day', 'every', 'valley', 'shall', 'be', 'exalted', 'and', 'every', 'hill', 'and', 'mountain', 'shall', 'be', 'made', 'low', 'the', 'rough', 'places', 'will', 'be', 'made', 'plain', 'and', 'the', 'crooked', 'places', 'will', 'be', 'made', 'straight', 'and', 'the', 'glory', 'of', 'the', 'lord', 'shall', 'be', 'revealed', 'and', 'all', 'flesh', 'shall', 'see', 'it', 'togethern', 'n', 'this', 'is', 'our', 'hope', 'and', 'this', 'is', 'the', 'faith', 'that', 'i', 'go', 'back', 'to', 'the', 'south', 'withn', 'n', 'with', 'this', 'faith', 'we', 'will', 'be', 'able', 'to', 'hew', 'out', 'of', 'the', 'mountain', 'of', 'despair', 'a', 'stone', 'of', 'hope', 'with', 'this', 'faith', 'we', 'will', 'be', 'able', 'to', 'transform', 'the', 'jangling', 'discords', 'of', 'our', 'nation', 'into', 'a', 'beautiful', 'symphony', 'of', 'brotherhood', 'with', 'this', 'faith', 'we', 'will', 'be', 'able', 'to', 'work', 'together', 'to', 'pray', 'together', 'to', 'struggle', 'together', 'to', 'go', 'to', 'jail', 'together', 'to', 'stand', 'up', 'for', 'freedom', 'together', 'knowing', 'that', 'we', 'will', 'be', 'free', 'one', 'dayn', 'n', 'and', 'this', 'will', 'be', 'the', 'day', 'this', 'will', 'be', 'the', 'day', 'when', 'all', 'of', 'god', 's', 'children', 'will', 'be', 'able', 'to', 'sing', 'with', 'new', 'meaningn', 'n', 'my', 'country', 'tis', 'of', 'thee', 'sweet', 'land', 'of', 'liberty', 'of', 'thee', 'i', 'singn', 'land', 'where', 'my', 'fathers', 'died', 'land', 'of', 'the', 'pilgrim', 's', 'priden', 'from', 'every', 'mountainside', 'let', 'freedom', 'ringn', 'and', 'if', 'america', 'is', 'to', 'be', 'a', 'great', 'nation', 'this', 'must', 'become', 'truen', 'and', 'so', 'let', 'freedom', 'ring', 'from', 'the', 'prodigious', 'hilltops', 'of', 'new', 'hampshiren', 'let', 'freedom', 'ring', 'from', 'the', 'mighty', 'mountains', 'of', 'new', 'yorkn', 'let', 'freedom', 'ring', 'from', 'the', 'heightening', 'alleghenies', 'of', 'pennsylvanian', 'let', 'freedom', 'ring', 'from', 'the', 'snowcapped', 'rockies', 'of', 'coloradon', 'let', 'freedom', 'ring', 'from', 'the', 'curvaceous', 'slopes', 'of', 'californian', 'n', 'but', 'not', 'only', 'thatn', 'let', 'freedom', 'ring', 'from', 'stone', 'mountain', 'of', 'georgian', 'let', 'freedom', 'ring', 'from', 'lookout', 'mountain', 'of', 'tennesseen', 'let', 'freedom', 'ring', 'from', 'every', 'hill', 'and', 'molehill', 'of', 'mississippin', 'from', 'every', 'mountainside', 'let', 'freedom', 'ringn', 'and', 'when', 'this', 'happens', 'when', 'we', 'allow', 'freedom', 'ring', 'when', 'we', 'let', 'it', 'ring', 'from', 'every', 'village', 'and', 'every', 'hamlet', 'from', 'every', 'state', 'and', 'every', 'city', 'we', 'will', 'be', 'able', 'to', 'speed', 'up', 'that', 'day', 'when', 'all', 'of', 'god', 's', 'children', 'black', 'men', 'and', 'white', 'men', 'jews', 'and', 'gentiles', 'protestants', 'and', 'catholics', 'will', 'be', 'able', 'to', 'join', 'hands', 'and', 'sing', 'in', 'the', 'words', 'of', 'the', 'old', 'negro', 'spiritualn', 'free', 'at', 'last', 'free', 'at', 'lastn', 'n', 'thank', 'god', 'almighty', 'we', 'are', 'free', 'at', 'last']\n"
          ]
        }
      ]
    },
    {
      "cell_type": "markdown",
      "metadata": {
        "id": "kuLT44bRfEox"
      },
      "source": [
        "# Stopword removal "
      ]
    },
    {
      "cell_type": "code",
      "metadata": {
        "id": "czn4zFZwfG9a"
      },
      "source": [
        "# remove English stopwords\n",
        "stop_words = set(stopwords.words('english')) \n",
        " \n",
        "filtered_text = [w for w in word_tokens if not w in stop_words] \n",
        "filtered_text = [] \n",
        "  \n",
        "for w in word_tokens: \n",
        "    if w not in stop_words: \n",
        "        filtered_text.append(w) "
      ],
      "execution_count": 11,
      "outputs": []
    },
    {
      "cell_type": "code",
      "metadata": {
        "id": "jdK0_5IEffsC",
        "colab": {
          "base_uri": "https://localhost:8080/"
        },
        "outputId": "a0a8a176-eade-493d-eefc-adab4b5ac57a"
      },
      "source": [
        "print(filtered_text) "
      ],
      "execution_count": 12,
      "outputs": [
        {
          "output_type": "stream",
          "name": "stdout",
          "text": [
            "['n', 'even', 'though', 'face', 'difficulties', 'today', 'tomorrow', 'still', 'dream', 'dream', 'deeply', 'rooted', 'american', 'dreamn', 'n', 'dream', 'one', 'day', 'nation', 'rise', 'live', 'true', 'meaning', 'creedn', 'n', 'hold', 'truths', 'selfevident', 'men', 'created', 'equaln', 'n', 'dream', 'one', 'day', 'red', 'hills', 'georgia', 'sons', 'former', 'slaves', 'sons', 'former', 'slave', 'owners', 'able', 'sit', 'together', 'table', 'brotherhoodn', 'n', 'dream', 'one', 'day', 'even', 'state', 'mississippi', 'state', 'sweltering', 'heat', 'injustice', 'sweltering', 'heat', 'oppression', 'transformed', 'oasis', 'freedom', 'justicen', 'n', 'dream', 'four', 'little', 'children', 'one', 'day', 'live', 'nation', 'judged', 'color', 'skin', 'content', 'charactern', 'n', 'dream', 'todayn', 'n', 'dream', 'one', 'day', 'alabama', 'vicious', 'racists', 'governor', 'lips', 'dripping', 'words', 'interposition', 'nullification', 'one', 'day', 'right', 'alabama', 'little', 'black', 'boys', 'black', 'girls', 'able', 'join', 'hands', 'little', 'white', 'boys', 'white', 'girls', 'sisters', 'brothersn', 'n', 'dream', 'todayn', 'n', 'dream', 'one', 'day', 'every', 'valley', 'shall', 'exalted', 'every', 'hill', 'mountain', 'shall', 'made', 'low', 'rough', 'places', 'made', 'plain', 'crooked', 'places', 'made', 'straight', 'glory', 'lord', 'shall', 'revealed', 'flesh', 'shall', 'see', 'togethern', 'n', 'hope', 'faith', 'go', 'back', 'south', 'withn', 'n', 'faith', 'able', 'hew', 'mountain', 'despair', 'stone', 'hope', 'faith', 'able', 'transform', 'jangling', 'discords', 'nation', 'beautiful', 'symphony', 'brotherhood', 'faith', 'able', 'work', 'together', 'pray', 'together', 'struggle', 'together', 'go', 'jail', 'together', 'stand', 'freedom', 'together', 'knowing', 'free', 'one', 'dayn', 'n', 'day', 'day', 'god', 'children', 'able', 'sing', 'new', 'meaningn', 'n', 'country', 'tis', 'thee', 'sweet', 'land', 'liberty', 'thee', 'singn', 'land', 'fathers', 'died', 'land', 'pilgrim', 'priden', 'every', 'mountainside', 'let', 'freedom', 'ringn', 'america', 'great', 'nation', 'must', 'become', 'truen', 'let', 'freedom', 'ring', 'prodigious', 'hilltops', 'new', 'hampshiren', 'let', 'freedom', 'ring', 'mighty', 'mountains', 'new', 'yorkn', 'let', 'freedom', 'ring', 'heightening', 'alleghenies', 'pennsylvanian', 'let', 'freedom', 'ring', 'snowcapped', 'rockies', 'coloradon', 'let', 'freedom', 'ring', 'curvaceous', 'slopes', 'californian', 'n', 'thatn', 'let', 'freedom', 'ring', 'stone', 'mountain', 'georgian', 'let', 'freedom', 'ring', 'lookout', 'mountain', 'tennesseen', 'let', 'freedom', 'ring', 'every', 'hill', 'molehill', 'mississippin', 'every', 'mountainside', 'let', 'freedom', 'ringn', 'happens', 'allow', 'freedom', 'ring', 'let', 'ring', 'every', 'village', 'every', 'hamlet', 'every', 'state', 'every', 'city', 'able', 'speed', 'day', 'god', 'children', 'black', 'men', 'white', 'men', 'jews', 'gentiles', 'protestants', 'catholics', 'able', 'join', 'hands', 'sing', 'words', 'old', 'negro', 'spiritualn', 'free', 'last', 'free', 'lastn', 'n', 'thank', 'god', 'almighty', 'free', 'last']\n"
          ]
        }
      ]
    },
    {
      "cell_type": "code",
      "metadata": {
        "id": "7-44ArQhgDv-"
      },
      "source": [
        "# if necessaary: remove your own stopwords - as a vector of words:\n",
        "stop_words_lst = ['a', 'n', 'one', 'former', 'able']\n",
        "\n",
        "\n",
        "filtered_text2 = [w for w in filtered_text if not w in stop_words_lst] \n",
        "filtered_text2 = [] \n",
        "  \n",
        "for w in filtered_text: \n",
        "    if w not in stop_words_lst: \n",
        "        filtered_text2.append(w) \n"
      ],
      "execution_count": 13,
      "outputs": []
    },
    {
      "cell_type": "code",
      "metadata": {
        "id": "Y_HqnlbUgoS9",
        "colab": {
          "base_uri": "https://localhost:8080/"
        },
        "outputId": "2cc0d545-ac5b-426e-fc85-ccc53d7d9f08"
      },
      "source": [
        "print(filtered_text2)"
      ],
      "execution_count": 14,
      "outputs": [
        {
          "output_type": "stream",
          "name": "stdout",
          "text": [
            "['even', 'though', 'face', 'difficulties', 'today', 'tomorrow', 'still', 'dream', 'dream', 'deeply', 'rooted', 'american', 'dreamn', 'dream', 'day', 'nation', 'rise', 'live', 'true', 'meaning', 'creedn', 'hold', 'truths', 'selfevident', 'men', 'created', 'equaln', 'dream', 'day', 'red', 'hills', 'georgia', 'sons', 'slaves', 'sons', 'slave', 'owners', 'sit', 'together', 'table', 'brotherhoodn', 'dream', 'day', 'even', 'state', 'mississippi', 'state', 'sweltering', 'heat', 'injustice', 'sweltering', 'heat', 'oppression', 'transformed', 'oasis', 'freedom', 'justicen', 'dream', 'four', 'little', 'children', 'day', 'live', 'nation', 'judged', 'color', 'skin', 'content', 'charactern', 'dream', 'todayn', 'dream', 'day', 'alabama', 'vicious', 'racists', 'governor', 'lips', 'dripping', 'words', 'interposition', 'nullification', 'day', 'right', 'alabama', 'little', 'black', 'boys', 'black', 'girls', 'join', 'hands', 'little', 'white', 'boys', 'white', 'girls', 'sisters', 'brothersn', 'dream', 'todayn', 'dream', 'day', 'every', 'valley', 'shall', 'exalted', 'every', 'hill', 'mountain', 'shall', 'made', 'low', 'rough', 'places', 'made', 'plain', 'crooked', 'places', 'made', 'straight', 'glory', 'lord', 'shall', 'revealed', 'flesh', 'shall', 'see', 'togethern', 'hope', 'faith', 'go', 'back', 'south', 'withn', 'faith', 'hew', 'mountain', 'despair', 'stone', 'hope', 'faith', 'transform', 'jangling', 'discords', 'nation', 'beautiful', 'symphony', 'brotherhood', 'faith', 'work', 'together', 'pray', 'together', 'struggle', 'together', 'go', 'jail', 'together', 'stand', 'freedom', 'together', 'knowing', 'free', 'dayn', 'day', 'day', 'god', 'children', 'sing', 'new', 'meaningn', 'country', 'tis', 'thee', 'sweet', 'land', 'liberty', 'thee', 'singn', 'land', 'fathers', 'died', 'land', 'pilgrim', 'priden', 'every', 'mountainside', 'let', 'freedom', 'ringn', 'america', 'great', 'nation', 'must', 'become', 'truen', 'let', 'freedom', 'ring', 'prodigious', 'hilltops', 'new', 'hampshiren', 'let', 'freedom', 'ring', 'mighty', 'mountains', 'new', 'yorkn', 'let', 'freedom', 'ring', 'heightening', 'alleghenies', 'pennsylvanian', 'let', 'freedom', 'ring', 'snowcapped', 'rockies', 'coloradon', 'let', 'freedom', 'ring', 'curvaceous', 'slopes', 'californian', 'thatn', 'let', 'freedom', 'ring', 'stone', 'mountain', 'georgian', 'let', 'freedom', 'ring', 'lookout', 'mountain', 'tennesseen', 'let', 'freedom', 'ring', 'every', 'hill', 'molehill', 'mississippin', 'every', 'mountainside', 'let', 'freedom', 'ringn', 'happens', 'allow', 'freedom', 'ring', 'let', 'ring', 'every', 'village', 'every', 'hamlet', 'every', 'state', 'every', 'city', 'speed', 'day', 'god', 'children', 'black', 'men', 'white', 'men', 'jews', 'gentiles', 'protestants', 'catholics', 'join', 'hands', 'sing', 'words', 'old', 'negro', 'spiritualn', 'free', 'last', 'free', 'lastn', 'thank', 'god', 'almighty', 'free', 'last']\n"
          ]
        }
      ]
    },
    {
      "cell_type": "markdown",
      "metadata": {
        "id": "3ioMqvJUgfk0"
      },
      "source": [
        "# Stemming "
      ]
    },
    {
      "cell_type": "code",
      "metadata": {
        "id": "-IgCzxUJggOe",
        "colab": {
          "base_uri": "https://localhost:8080/"
        },
        "outputId": "518f533f-c4db-4ea0-b58d-71897441112f"
      },
      "source": [
        "# Stemming reduces words to their root form\n",
        "# For example, the reduction of words \"move\", \"moved\" \n",
        "# and \"movement\" to the core \"move\".\n",
        "\n",
        "# stem document\n",
        "ps = PorterStemmer() \n",
        "   \n",
        "   \n",
        "for w in filtered_text2: \n",
        "    print(w, \" : \", ps.stem(w)) "
      ],
      "execution_count": 15,
      "outputs": [
        {
          "output_type": "stream",
          "name": "stdout",
          "text": [
            "even  :  even\n",
            "though  :  though\n",
            "face  :  face\n",
            "difficulties  :  difficulti\n",
            "today  :  today\n",
            "tomorrow  :  tomorrow\n",
            "still  :  still\n",
            "dream  :  dream\n",
            "dream  :  dream\n",
            "deeply  :  deepli\n",
            "rooted  :  root\n",
            "american  :  american\n",
            "dreamn  :  dreamn\n",
            "dream  :  dream\n",
            "day  :  day\n",
            "nation  :  nation\n",
            "rise  :  rise\n",
            "live  :  live\n",
            "true  :  true\n",
            "meaning  :  mean\n",
            "creedn  :  creedn\n",
            "hold  :  hold\n",
            "truths  :  truth\n",
            "selfevident  :  selfevid\n",
            "men  :  men\n",
            "created  :  creat\n",
            "equaln  :  equaln\n",
            "dream  :  dream\n",
            "day  :  day\n",
            "red  :  red\n",
            "hills  :  hill\n",
            "georgia  :  georgia\n",
            "sons  :  son\n",
            "slaves  :  slave\n",
            "sons  :  son\n",
            "slave  :  slave\n",
            "owners  :  owner\n",
            "sit  :  sit\n",
            "together  :  togeth\n",
            "table  :  tabl\n",
            "brotherhoodn  :  brotherhoodn\n",
            "dream  :  dream\n",
            "day  :  day\n",
            "even  :  even\n",
            "state  :  state\n",
            "mississippi  :  mississippi\n",
            "state  :  state\n",
            "sweltering  :  swelter\n",
            "heat  :  heat\n",
            "injustice  :  injustic\n",
            "sweltering  :  swelter\n",
            "heat  :  heat\n",
            "oppression  :  oppress\n",
            "transformed  :  transform\n",
            "oasis  :  oasi\n",
            "freedom  :  freedom\n",
            "justicen  :  justicen\n",
            "dream  :  dream\n",
            "four  :  four\n",
            "little  :  littl\n",
            "children  :  children\n",
            "day  :  day\n",
            "live  :  live\n",
            "nation  :  nation\n",
            "judged  :  judg\n",
            "color  :  color\n",
            "skin  :  skin\n",
            "content  :  content\n",
            "charactern  :  charactern\n",
            "dream  :  dream\n",
            "todayn  :  todayn\n",
            "dream  :  dream\n",
            "day  :  day\n",
            "alabama  :  alabama\n",
            "vicious  :  viciou\n",
            "racists  :  racist\n",
            "governor  :  governor\n",
            "lips  :  lip\n",
            "dripping  :  drip\n",
            "words  :  word\n",
            "interposition  :  interposit\n",
            "nullification  :  nullif\n",
            "day  :  day\n",
            "right  :  right\n",
            "alabama  :  alabama\n",
            "little  :  littl\n",
            "black  :  black\n",
            "boys  :  boy\n",
            "black  :  black\n",
            "girls  :  girl\n",
            "join  :  join\n",
            "hands  :  hand\n",
            "little  :  littl\n",
            "white  :  white\n",
            "boys  :  boy\n",
            "white  :  white\n",
            "girls  :  girl\n",
            "sisters  :  sister\n",
            "brothersn  :  brothersn\n",
            "dream  :  dream\n",
            "todayn  :  todayn\n",
            "dream  :  dream\n",
            "day  :  day\n",
            "every  :  everi\n",
            "valley  :  valley\n",
            "shall  :  shall\n",
            "exalted  :  exalt\n",
            "every  :  everi\n",
            "hill  :  hill\n",
            "mountain  :  mountain\n",
            "shall  :  shall\n",
            "made  :  made\n",
            "low  :  low\n",
            "rough  :  rough\n",
            "places  :  place\n",
            "made  :  made\n",
            "plain  :  plain\n",
            "crooked  :  crook\n",
            "places  :  place\n",
            "made  :  made\n",
            "straight  :  straight\n",
            "glory  :  glori\n",
            "lord  :  lord\n",
            "shall  :  shall\n",
            "revealed  :  reveal\n",
            "flesh  :  flesh\n",
            "shall  :  shall\n",
            "see  :  see\n",
            "togethern  :  togethern\n",
            "hope  :  hope\n",
            "faith  :  faith\n",
            "go  :  go\n",
            "back  :  back\n",
            "south  :  south\n",
            "withn  :  withn\n",
            "faith  :  faith\n",
            "hew  :  hew\n",
            "mountain  :  mountain\n",
            "despair  :  despair\n",
            "stone  :  stone\n",
            "hope  :  hope\n",
            "faith  :  faith\n",
            "transform  :  transform\n",
            "jangling  :  jangl\n",
            "discords  :  discord\n",
            "nation  :  nation\n",
            "beautiful  :  beauti\n",
            "symphony  :  symphoni\n",
            "brotherhood  :  brotherhood\n",
            "faith  :  faith\n",
            "work  :  work\n",
            "together  :  togeth\n",
            "pray  :  pray\n",
            "together  :  togeth\n",
            "struggle  :  struggl\n",
            "together  :  togeth\n",
            "go  :  go\n",
            "jail  :  jail\n",
            "together  :  togeth\n",
            "stand  :  stand\n",
            "freedom  :  freedom\n",
            "together  :  togeth\n",
            "knowing  :  know\n",
            "free  :  free\n",
            "dayn  :  dayn\n",
            "day  :  day\n",
            "day  :  day\n",
            "god  :  god\n",
            "children  :  children\n",
            "sing  :  sing\n",
            "new  :  new\n",
            "meaningn  :  meaningn\n",
            "country  :  countri\n",
            "tis  :  ti\n",
            "thee  :  thee\n",
            "sweet  :  sweet\n",
            "land  :  land\n",
            "liberty  :  liberti\n",
            "thee  :  thee\n",
            "singn  :  singn\n",
            "land  :  land\n",
            "fathers  :  father\n",
            "died  :  die\n",
            "land  :  land\n",
            "pilgrim  :  pilgrim\n",
            "priden  :  priden\n",
            "every  :  everi\n",
            "mountainside  :  mountainsid\n",
            "let  :  let\n",
            "freedom  :  freedom\n",
            "ringn  :  ringn\n",
            "america  :  america\n",
            "great  :  great\n",
            "nation  :  nation\n",
            "must  :  must\n",
            "become  :  becom\n",
            "truen  :  truen\n",
            "let  :  let\n",
            "freedom  :  freedom\n",
            "ring  :  ring\n",
            "prodigious  :  prodigi\n",
            "hilltops  :  hilltop\n",
            "new  :  new\n",
            "hampshiren  :  hampshiren\n",
            "let  :  let\n",
            "freedom  :  freedom\n",
            "ring  :  ring\n",
            "mighty  :  mighti\n",
            "mountains  :  mountain\n",
            "new  :  new\n",
            "yorkn  :  yorkn\n",
            "let  :  let\n",
            "freedom  :  freedom\n",
            "ring  :  ring\n",
            "heightening  :  heighten\n",
            "alleghenies  :  allegheni\n",
            "pennsylvanian  :  pennsylvanian\n",
            "let  :  let\n",
            "freedom  :  freedom\n",
            "ring  :  ring\n",
            "snowcapped  :  snowcap\n",
            "rockies  :  rocki\n",
            "coloradon  :  coloradon\n",
            "let  :  let\n",
            "freedom  :  freedom\n",
            "ring  :  ring\n",
            "curvaceous  :  curvac\n",
            "slopes  :  slope\n",
            "californian  :  californian\n",
            "thatn  :  thatn\n",
            "let  :  let\n",
            "freedom  :  freedom\n",
            "ring  :  ring\n",
            "stone  :  stone\n",
            "mountain  :  mountain\n",
            "georgian  :  georgian\n",
            "let  :  let\n",
            "freedom  :  freedom\n",
            "ring  :  ring\n",
            "lookout  :  lookout\n",
            "mountain  :  mountain\n",
            "tennesseen  :  tennesseen\n",
            "let  :  let\n",
            "freedom  :  freedom\n",
            "ring  :  ring\n",
            "every  :  everi\n",
            "hill  :  hill\n",
            "molehill  :  molehil\n",
            "mississippin  :  mississippin\n",
            "every  :  everi\n",
            "mountainside  :  mountainsid\n",
            "let  :  let\n",
            "freedom  :  freedom\n",
            "ringn  :  ringn\n",
            "happens  :  happen\n",
            "allow  :  allow\n",
            "freedom  :  freedom\n",
            "ring  :  ring\n",
            "let  :  let\n",
            "ring  :  ring\n",
            "every  :  everi\n",
            "village  :  villag\n",
            "every  :  everi\n",
            "hamlet  :  hamlet\n",
            "every  :  everi\n",
            "state  :  state\n",
            "every  :  everi\n",
            "city  :  citi\n",
            "speed  :  speed\n",
            "day  :  day\n",
            "god  :  god\n",
            "children  :  children\n",
            "black  :  black\n",
            "men  :  men\n",
            "white  :  white\n",
            "men  :  men\n",
            "jews  :  jew\n",
            "gentiles  :  gentil\n",
            "protestants  :  protest\n",
            "catholics  :  cathol\n",
            "join  :  join\n",
            "hands  :  hand\n",
            "sing  :  sing\n",
            "words  :  word\n",
            "old  :  old\n",
            "negro  :  negro\n",
            "spiritualn  :  spiritualn\n",
            "free  :  free\n",
            "last  :  last\n",
            "free  :  free\n",
            "lastn  :  lastn\n",
            "thank  :  thank\n",
            "god  :  god\n",
            "almighty  :  almighti\n",
            "free  :  free\n",
            "last  :  last\n"
          ]
        }
      ]
    },
    {
      "cell_type": "markdown",
      "metadata": {
        "id": "keSM9V3Ahq4V"
      },
      "source": [
        "# Term Frequency Matrix"
      ]
    },
    {
      "cell_type": "code",
      "metadata": {
        "id": "e4hye3_ThtS6",
        "colab": {
          "base_uri": "https://localhost:8080/"
        },
        "outputId": "d32af35d-3f1c-474d-b601-e77e3132f304"
      },
      "source": [
        "# Term frequency matrix\n",
        "\n",
        "wordlist = filtered_text2\n",
        "\n",
        "\n",
        "wordfreq = []\n",
        "for w in wordlist:\n",
        "    wordfreq.append(wordlist.count(w))\n",
        "\n",
        "print(\"Original string\\n\" + text_cleaner +\"\\n\")\n",
        "print(\"List\\n\" + str(wordlist) + \"\\n\")\n",
        "print(\"Frequencies\\n\" + str(wordfreq) + \"\\n\")\n",
        "print(\"Pairs\\n\" + str(list(zip(wordlist, wordfreq))))"
      ],
      "execution_count": 16,
      "outputs": [
        {
          "output_type": "stream",
          "name": "stdout",
          "text": [
            "Original string\n",
            "n and so even though we face the difficulties of today and tomorrow i still have a dream it is a dream deeply rooted in the american dreamn n i have a dream that one day this nation will rise up and live out the true meaning of its creedn n we hold these truths to be selfevident that all men are created equaln n i have a dream that one day on the red hills of georgia the sons of former slaves and the sons of former slave owners will be able to sit down together at the table of brotherhoodn n i have a dream that one day even the state of mississippi a state sweltering with the heat of injustice sweltering with the heat of oppression will be transformed into an oasis of freedom and justicen n i have a dream that my four little children will one day live in a nation where they will not be judged by the color of their skin but by the content of their charactern n i have a dream todayn n i have a dream that one day down in alabama with its vicious racists with its governor having his lips dripping with the words of interposition and nullification one day right there in alabama little black boys and black girls will be able to join hands with little white boys and white girls as sisters and brothersn n i have a dream todayn n i have a dream that one day every valley shall be exalted and every hill and mountain shall be made low the rough places will be made plain and the crooked places will be made straight and the glory of the lord shall be revealed and all flesh shall see it togethern n this is our hope and this is the faith that i go back to the south withn n with this faith we will be able to hew out of the mountain of despair a stone of hope with this faith we will be able to transform the jangling discords of our nation into a beautiful symphony of brotherhood with this faith we will be able to work together to pray together to struggle together to go to jail together to stand up for freedom together knowing that we will be free one dayn n and this will be the day this will be the day when all of god s children will be able to sing with new meaningn n my country tis of thee sweet land of liberty of thee i singn land where my fathers died land of the pilgrim s priden from every mountainside let freedom ringn and if america is to be a great nation this must become truen and so let freedom ring from the prodigious hilltops of new hampshiren let freedom ring from the mighty mountains of new yorkn let freedom ring from the heightening alleghenies of pennsylvanian let freedom ring from the snowcapped rockies of coloradon let freedom ring from the curvaceous slopes of californian n but not only thatn let freedom ring from stone mountain of georgian let freedom ring from lookout mountain of tennesseen let freedom ring from every hill and molehill of mississippin from every mountainside let freedom ringn and when this happens when we allow freedom ring when we let it ring from every village and every hamlet from every state and every city we will be able to speed up that day when all of god s children black men and white men jews and gentiles protestants and catholics will be able to join hands and sing in the words of the old negro spiritualn free at last free at lastn n thank god almighty we are free at last\n",
            "\n",
            "List\n",
            "['even', 'though', 'face', 'difficulties', 'today', 'tomorrow', 'still', 'dream', 'dream', 'deeply', 'rooted', 'american', 'dreamn', 'dream', 'day', 'nation', 'rise', 'live', 'true', 'meaning', 'creedn', 'hold', 'truths', 'selfevident', 'men', 'created', 'equaln', 'dream', 'day', 'red', 'hills', 'georgia', 'sons', 'slaves', 'sons', 'slave', 'owners', 'sit', 'together', 'table', 'brotherhoodn', 'dream', 'day', 'even', 'state', 'mississippi', 'state', 'sweltering', 'heat', 'injustice', 'sweltering', 'heat', 'oppression', 'transformed', 'oasis', 'freedom', 'justicen', 'dream', 'four', 'little', 'children', 'day', 'live', 'nation', 'judged', 'color', 'skin', 'content', 'charactern', 'dream', 'todayn', 'dream', 'day', 'alabama', 'vicious', 'racists', 'governor', 'lips', 'dripping', 'words', 'interposition', 'nullification', 'day', 'right', 'alabama', 'little', 'black', 'boys', 'black', 'girls', 'join', 'hands', 'little', 'white', 'boys', 'white', 'girls', 'sisters', 'brothersn', 'dream', 'todayn', 'dream', 'day', 'every', 'valley', 'shall', 'exalted', 'every', 'hill', 'mountain', 'shall', 'made', 'low', 'rough', 'places', 'made', 'plain', 'crooked', 'places', 'made', 'straight', 'glory', 'lord', 'shall', 'revealed', 'flesh', 'shall', 'see', 'togethern', 'hope', 'faith', 'go', 'back', 'south', 'withn', 'faith', 'hew', 'mountain', 'despair', 'stone', 'hope', 'faith', 'transform', 'jangling', 'discords', 'nation', 'beautiful', 'symphony', 'brotherhood', 'faith', 'work', 'together', 'pray', 'together', 'struggle', 'together', 'go', 'jail', 'together', 'stand', 'freedom', 'together', 'knowing', 'free', 'dayn', 'day', 'day', 'god', 'children', 'sing', 'new', 'meaningn', 'country', 'tis', 'thee', 'sweet', 'land', 'liberty', 'thee', 'singn', 'land', 'fathers', 'died', 'land', 'pilgrim', 'priden', 'every', 'mountainside', 'let', 'freedom', 'ringn', 'america', 'great', 'nation', 'must', 'become', 'truen', 'let', 'freedom', 'ring', 'prodigious', 'hilltops', 'new', 'hampshiren', 'let', 'freedom', 'ring', 'mighty', 'mountains', 'new', 'yorkn', 'let', 'freedom', 'ring', 'heightening', 'alleghenies', 'pennsylvanian', 'let', 'freedom', 'ring', 'snowcapped', 'rockies', 'coloradon', 'let', 'freedom', 'ring', 'curvaceous', 'slopes', 'californian', 'thatn', 'let', 'freedom', 'ring', 'stone', 'mountain', 'georgian', 'let', 'freedom', 'ring', 'lookout', 'mountain', 'tennesseen', 'let', 'freedom', 'ring', 'every', 'hill', 'molehill', 'mississippin', 'every', 'mountainside', 'let', 'freedom', 'ringn', 'happens', 'allow', 'freedom', 'ring', 'let', 'ring', 'every', 'village', 'every', 'hamlet', 'every', 'state', 'every', 'city', 'speed', 'day', 'god', 'children', 'black', 'men', 'white', 'men', 'jews', 'gentiles', 'protestants', 'catholics', 'join', 'hands', 'sing', 'words', 'old', 'negro', 'spiritualn', 'free', 'last', 'free', 'lastn', 'thank', 'god', 'almighty', 'free', 'last']\n",
            "\n",
            "Frequencies\n",
            "[2, 1, 1, 1, 1, 1, 1, 10, 10, 1, 1, 1, 1, 10, 10, 4, 1, 2, 1, 1, 1, 1, 1, 1, 3, 1, 1, 10, 10, 1, 1, 1, 2, 1, 2, 1, 1, 1, 6, 1, 1, 10, 10, 2, 3, 1, 3, 2, 2, 1, 2, 2, 1, 1, 1, 13, 1, 10, 1, 3, 3, 10, 2, 4, 1, 1, 1, 1, 1, 10, 2, 10, 10, 2, 1, 1, 1, 1, 1, 2, 1, 1, 10, 1, 2, 3, 3, 2, 3, 2, 2, 2, 3, 3, 2, 3, 2, 1, 1, 10, 2, 10, 10, 9, 1, 4, 1, 9, 2, 4, 4, 3, 1, 1, 2, 3, 1, 1, 2, 3, 1, 1, 1, 4, 1, 1, 4, 1, 1, 2, 4, 2, 1, 1, 1, 4, 1, 4, 1, 2, 2, 4, 1, 1, 1, 4, 1, 1, 1, 4, 1, 6, 1, 6, 1, 6, 2, 1, 6, 1, 13, 6, 1, 4, 1, 10, 10, 3, 3, 2, 3, 1, 1, 1, 2, 1, 3, 1, 2, 1, 3, 1, 1, 3, 1, 1, 9, 2, 11, 13, 2, 1, 1, 4, 1, 1, 1, 11, 13, 10, 1, 1, 3, 1, 11, 13, 10, 1, 1, 3, 1, 11, 13, 10, 1, 1, 1, 11, 13, 10, 1, 1, 1, 11, 13, 10, 1, 1, 1, 1, 11, 13, 10, 2, 4, 1, 11, 13, 10, 1, 4, 1, 11, 13, 10, 9, 2, 1, 1, 9, 2, 11, 13, 2, 1, 1, 13, 10, 11, 10, 9, 1, 9, 1, 9, 3, 9, 1, 1, 10, 3, 3, 3, 3, 3, 3, 1, 1, 1, 1, 2, 2, 2, 2, 1, 1, 1, 4, 2, 4, 1, 1, 3, 1, 4, 2]\n",
            "\n",
            "Pairs\n",
            "[('even', 2), ('though', 1), ('face', 1), ('difficulties', 1), ('today', 1), ('tomorrow', 1), ('still', 1), ('dream', 10), ('dream', 10), ('deeply', 1), ('rooted', 1), ('american', 1), ('dreamn', 1), ('dream', 10), ('day', 10), ('nation', 4), ('rise', 1), ('live', 2), ('true', 1), ('meaning', 1), ('creedn', 1), ('hold', 1), ('truths', 1), ('selfevident', 1), ('men', 3), ('created', 1), ('equaln', 1), ('dream', 10), ('day', 10), ('red', 1), ('hills', 1), ('georgia', 1), ('sons', 2), ('slaves', 1), ('sons', 2), ('slave', 1), ('owners', 1), ('sit', 1), ('together', 6), ('table', 1), ('brotherhoodn', 1), ('dream', 10), ('day', 10), ('even', 2), ('state', 3), ('mississippi', 1), ('state', 3), ('sweltering', 2), ('heat', 2), ('injustice', 1), ('sweltering', 2), ('heat', 2), ('oppression', 1), ('transformed', 1), ('oasis', 1), ('freedom', 13), ('justicen', 1), ('dream', 10), ('four', 1), ('little', 3), ('children', 3), ('day', 10), ('live', 2), ('nation', 4), ('judged', 1), ('color', 1), ('skin', 1), ('content', 1), ('charactern', 1), ('dream', 10), ('todayn', 2), ('dream', 10), ('day', 10), ('alabama', 2), ('vicious', 1), ('racists', 1), ('governor', 1), ('lips', 1), ('dripping', 1), ('words', 2), ('interposition', 1), ('nullification', 1), ('day', 10), ('right', 1), ('alabama', 2), ('little', 3), ('black', 3), ('boys', 2), ('black', 3), ('girls', 2), ('join', 2), ('hands', 2), ('little', 3), ('white', 3), ('boys', 2), ('white', 3), ('girls', 2), ('sisters', 1), ('brothersn', 1), ('dream', 10), ('todayn', 2), ('dream', 10), ('day', 10), ('every', 9), ('valley', 1), ('shall', 4), ('exalted', 1), ('every', 9), ('hill', 2), ('mountain', 4), ('shall', 4), ('made', 3), ('low', 1), ('rough', 1), ('places', 2), ('made', 3), ('plain', 1), ('crooked', 1), ('places', 2), ('made', 3), ('straight', 1), ('glory', 1), ('lord', 1), ('shall', 4), ('revealed', 1), ('flesh', 1), ('shall', 4), ('see', 1), ('togethern', 1), ('hope', 2), ('faith', 4), ('go', 2), ('back', 1), ('south', 1), ('withn', 1), ('faith', 4), ('hew', 1), ('mountain', 4), ('despair', 1), ('stone', 2), ('hope', 2), ('faith', 4), ('transform', 1), ('jangling', 1), ('discords', 1), ('nation', 4), ('beautiful', 1), ('symphony', 1), ('brotherhood', 1), ('faith', 4), ('work', 1), ('together', 6), ('pray', 1), ('together', 6), ('struggle', 1), ('together', 6), ('go', 2), ('jail', 1), ('together', 6), ('stand', 1), ('freedom', 13), ('together', 6), ('knowing', 1), ('free', 4), ('dayn', 1), ('day', 10), ('day', 10), ('god', 3), ('children', 3), ('sing', 2), ('new', 3), ('meaningn', 1), ('country', 1), ('tis', 1), ('thee', 2), ('sweet', 1), ('land', 3), ('liberty', 1), ('thee', 2), ('singn', 1), ('land', 3), ('fathers', 1), ('died', 1), ('land', 3), ('pilgrim', 1), ('priden', 1), ('every', 9), ('mountainside', 2), ('let', 11), ('freedom', 13), ('ringn', 2), ('america', 1), ('great', 1), ('nation', 4), ('must', 1), ('become', 1), ('truen', 1), ('let', 11), ('freedom', 13), ('ring', 10), ('prodigious', 1), ('hilltops', 1), ('new', 3), ('hampshiren', 1), ('let', 11), ('freedom', 13), ('ring', 10), ('mighty', 1), ('mountains', 1), ('new', 3), ('yorkn', 1), ('let', 11), ('freedom', 13), ('ring', 10), ('heightening', 1), ('alleghenies', 1), ('pennsylvanian', 1), ('let', 11), ('freedom', 13), ('ring', 10), ('snowcapped', 1), ('rockies', 1), ('coloradon', 1), ('let', 11), ('freedom', 13), ('ring', 10), ('curvaceous', 1), ('slopes', 1), ('californian', 1), ('thatn', 1), ('let', 11), ('freedom', 13), ('ring', 10), ('stone', 2), ('mountain', 4), ('georgian', 1), ('let', 11), ('freedom', 13), ('ring', 10), ('lookout', 1), ('mountain', 4), ('tennesseen', 1), ('let', 11), ('freedom', 13), ('ring', 10), ('every', 9), ('hill', 2), ('molehill', 1), ('mississippin', 1), ('every', 9), ('mountainside', 2), ('let', 11), ('freedom', 13), ('ringn', 2), ('happens', 1), ('allow', 1), ('freedom', 13), ('ring', 10), ('let', 11), ('ring', 10), ('every', 9), ('village', 1), ('every', 9), ('hamlet', 1), ('every', 9), ('state', 3), ('every', 9), ('city', 1), ('speed', 1), ('day', 10), ('god', 3), ('children', 3), ('black', 3), ('men', 3), ('white', 3), ('men', 3), ('jews', 1), ('gentiles', 1), ('protestants', 1), ('catholics', 1), ('join', 2), ('hands', 2), ('sing', 2), ('words', 2), ('old', 1), ('negro', 1), ('spiritualn', 1), ('free', 4), ('last', 2), ('free', 4), ('lastn', 1), ('thank', 1), ('god', 3), ('almighty', 1), ('free', 4), ('last', 2)]\n"
          ]
        }
      ]
    }
  ]
}