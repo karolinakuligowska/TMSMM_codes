{
  "nbformat": 4,
  "nbformat_minor": 0,
  "metadata": {
    "colab": {
      "provenance": [],
      "collapsed_sections": [],
      "toc_visible": true,
      "mount_file_id": "1dg2_IGAXQCIdVOJcSNO1NIiPwwLMuutP",
      "authorship_tag": "ABX9TyOHEwBTlTryVkk9sMlpUoJD",
      "include_colab_link": true
    },
    "kernelspec": {
      "name": "python3",
      "display_name": "Python 3"
    },
    "language_info": {
      "name": "python"
    }
  },
  "cells": [
    {
      "cell_type": "markdown",
      "metadata": {
        "id": "view-in-github",
        "colab_type": "text"
      },
      "source": [
        "<a href=\"https://colab.research.google.com/github/karolinakuligowska/TMSMM_codes/blob/main/KK_TMSMM_class_2_WarmUp_exercise.ipynb\" target=\"_parent\"><img src=\"https://colab.research.google.com/assets/colab-badge.svg\" alt=\"Open In Colab\"/></a>"
      ]
    },
    {
      "cell_type": "markdown",
      "metadata": {
        "id": "fTCdE71GebYw"
      },
      "source": [
        "# NLP - Text Parsing, Stemming, Stopword removal, Term Frequency Matrix"
      ]
    },
    {
      "cell_type": "code",
      "metadata": {
        "id": "B5PnpJ38amUX"
      },
      "source": [
        "# load packages\n",
        "\n",
        "import re\n",
        "import string\n",
        "import pandas as pd\n",
        "import os\n",
        "import nltk"
      ],
      "execution_count": 1,
      "outputs": []
    },
    {
      "cell_type": "code",
      "metadata": {
        "colab": {
          "base_uri": "https://localhost:8080/"
        },
        "id": "sOy2KwIMa6wg",
        "outputId": "93967f53-07fe-4832-8e1d-ad8a517d4a18"
      },
      "source": [
        "import nltk.corpus\n",
        "from nltk.corpus.reader.plaintext import PlaintextCorpusReader\n",
        "from nltk.corpus import stopwords \n",
        "nltk.download('stopwords')\n",
        "from nltk.tokenize import word_tokenize"
      ],
      "execution_count": 2,
      "outputs": [
        {
          "output_type": "stream",
          "name": "stderr",
          "text": [
            "[nltk_data] Downloading package stopwords to /root/nltk_data...\n",
            "[nltk_data]   Unzipping corpora/stopwords.zip.\n"
          ]
        }
      ]
    },
    {
      "cell_type": "code",
      "metadata": {
        "colab": {
          "base_uri": "https://localhost:8080/"
        },
        "id": "Wzc6E33mbQUC",
        "outputId": "4835eda0-9ee4-4298-e4e3-dc390fcc1d03"
      },
      "source": [
        "nltk.download('punkt')\n",
        "\n",
        "from nltk.stem import PorterStemmer \n",
        "from nltk.tokenize import word_tokenize "
      ],
      "execution_count": 3,
      "outputs": [
        {
          "output_type": "stream",
          "name": "stderr",
          "text": [
            "[nltk_data] Downloading package punkt to /root/nltk_data...\n",
            "[nltk_data]   Unzipping tokenizers/punkt.zip.\n"
          ]
        }
      ]
    },
    {
      "cell_type": "code",
      "metadata": {
        "id": "EvW3pweNbZXR"
      },
      "source": [
        "# input text\n",
        "text=\"/@@@111Faculty      of Economic Sciences,,,, as an independent unit of the University of Warsaw, affirms its commitment to basic goals and values specified in the Mission Statement of the University of Warsaw. In regard to the way in which the mission of our Alma Mater refers to the discipline represented by the Faculty of Economic Sciences, we define the following goal and value as our priorities of special importance: unity of research and teaching is the foundation of the activities at the Faculty of Economic Sciences.\"\n"
      ],
      "execution_count": 4,
      "outputs": []
    },
    {
      "cell_type": "code",
      "metadata": {
        "colab": {
          "base_uri": "https://localhost:8080/"
        },
        "id": "_1PEjYNUbqCM",
        "outputId": "bfb04690-053b-4cd9-875a-f62b6d0b5852"
      },
      "source": [
        "print(text)"
      ],
      "execution_count": 5,
      "outputs": [
        {
          "output_type": "stream",
          "name": "stdout",
          "text": [
            "/@@@111Faculty      of Economic Sciences,,,, as an independent unit of the University of Warsaw, affirms its commitment to basic goals and values specified in the Mission Statement of the University of Warsaw. In regard to the way in which the mission of our Alma Mater refers to the discipline represented by the Faculty of Economic Sciences, we define the following goal and value as our priorities of special importance: unity of research and teaching is the foundation of the activities at the Faculty of Economic Sciences.\n"
          ]
        }
      ]
    },
    {
      "cell_type": "markdown",
      "metadata": {
        "id": "PuwfAYWIbxyp"
      },
      "source": [
        "# Text parsing \n",
        "--------------------------\n"
      ]
    },
    {
      "cell_type": "markdown",
      "metadata": {
        "id": "PlWsTnBte6LF"
      },
      "source": [
        "# Preliminary cleaning"
      ]
    },
    {
      "cell_type": "code",
      "metadata": {
        "id": "-Ku784HPcGWA",
        "colab": {
          "base_uri": "https://localhost:8080/"
        },
        "outputId": "2ccff81b-7a7e-4237-fdd3-734f64cf4ebf"
      },
      "source": [
        "# replace special characters from text. \n",
        "# substituting \"/\", \"@\" and \"|\" and others by a space.\n",
        "text_clean = re.sub('[^a-zA-Z0-9 \\n\\.]', '', text)\n",
        "print(text_clean)"
      ],
      "execution_count": 6,
      "outputs": [
        {
          "output_type": "stream",
          "name": "stdout",
          "text": [
            "111Faculty      of Economic Sciences as an independent unit of the University of Warsaw affirms its commitment to basic goals and values specified in the Mission Statement of the University of Warsaw. In regard to the way in which the mission of our Alma Mater refers to the discipline represented by the Faculty of Economic Sciences we define the following goal and value as our priorities of special importance unity of research and teaching is the foundation of the activities at the Faculty of Economic Sciences.\n"
          ]
        }
      ]
    },
    {
      "cell_type": "markdown",
      "metadata": {
        "id": "zjSB0a6ScXQK"
      },
      "source": [
        "# Cleaning text\n"
      ]
    },
    {
      "cell_type": "code",
      "metadata": {
        "id": "4usbGgpAcS_n"
      },
      "source": [
        "# a) to remove unnecessary spaces, punctuation and numbers\n",
        "\n",
        "# remove unnecessary spaces\n",
        "text_cleaner = re.sub(' +', ' ', text_clean)\n",
        "\n",
        "# remove unnecessary punctuation - already done above using regex, you may try to define punctuation manually\n",
        "text_cleaner = re.sub(r'[^\\w\\s]','', text_cleaner)"
      ],
      "execution_count": 7,
      "outputs": []
    },
    {
      "cell_type": "code",
      "metadata": {
        "id": "e4hL1BoVc1JA",
        "colab": {
          "base_uri": "https://localhost:8080/"
        },
        "outputId": "5b868bcf-7beb-46ef-aa75-09162a6c3dff"
      },
      "source": [
        "# remove unnecessary numbers\n",
        "text_cleaner = re.sub('\\d', '', text_cleaner)\n",
        "\n",
        "# remove unnecessary spaces once again\n",
        "text_cleaner = re.sub(' +', ' ', text_cleaner)\n",
        "print(text_cleaner)"
      ],
      "execution_count": 8,
      "outputs": [
        {
          "output_type": "stream",
          "name": "stdout",
          "text": [
            "Faculty of Economic Sciences as an independent unit of the University of Warsaw affirms its commitment to basic goals and values specified in the Mission Statement of the University of Warsaw In regard to the way in which the mission of our Alma Mater refers to the discipline represented by the Faculty of Economic Sciences we define the following goal and value as our priorities of special importance unity of research and teaching is the foundation of the activities at the Faculty of Economic Sciences\n"
          ]
        }
      ]
    },
    {
      "cell_type": "code",
      "metadata": {
        "id": "7CiZgcL6c8lq",
        "colab": {
          "base_uri": "https://localhost:8080/"
        },
        "outputId": "56899c04-4097-445a-93a1-5473347db7b7"
      },
      "source": [
        "# b) change letters to lower case\n",
        "\n",
        "text_cleaner = text_cleaner.lower()\n",
        "\n",
        "# change to lowercase\n",
        "print(text_cleaner.lower())"
      ],
      "execution_count": 9,
      "outputs": [
        {
          "output_type": "stream",
          "name": "stdout",
          "text": [
            "faculty of economic sciences as an independent unit of the university of warsaw affirms its commitment to basic goals and values specified in the mission statement of the university of warsaw in regard to the way in which the mission of our alma mater refers to the discipline represented by the faculty of economic sciences we define the following goal and value as our priorities of special importance unity of research and teaching is the foundation of the activities at the faculty of economic sciences\n"
          ]
        }
      ]
    },
    {
      "cell_type": "markdown",
      "metadata": {
        "id": "4m80_d6Be5D7"
      },
      "source": [
        "# Tokenization"
      ]
    },
    {
      "cell_type": "code",
      "metadata": {
        "id": "44Jt2j6IfCIN",
        "colab": {
          "base_uri": "https://localhost:8080/"
        },
        "outputId": "3b72a66b-9b7f-4486-f85c-4d1a5f6272bf"
      },
      "source": [
        "word_tokens = word_tokenize(text_cleaner)\n",
        "\n",
        "print(word_tokens)"
      ],
      "execution_count": 10,
      "outputs": [
        {
          "output_type": "stream",
          "name": "stdout",
          "text": [
            "['faculty', 'of', 'economic', 'sciences', 'as', 'an', 'independent', 'unit', 'of', 'the', 'university', 'of', 'warsaw', 'affirms', 'its', 'commitment', 'to', 'basic', 'goals', 'and', 'values', 'specified', 'in', 'the', 'mission', 'statement', 'of', 'the', 'university', 'of', 'warsaw', 'in', 'regard', 'to', 'the', 'way', 'in', 'which', 'the', 'mission', 'of', 'our', 'alma', 'mater', 'refers', 'to', 'the', 'discipline', 'represented', 'by', 'the', 'faculty', 'of', 'economic', 'sciences', 'we', 'define', 'the', 'following', 'goal', 'and', 'value', 'as', 'our', 'priorities', 'of', 'special', 'importance', 'unity', 'of', 'research', 'and', 'teaching', 'is', 'the', 'foundation', 'of', 'the', 'activities', 'at', 'the', 'faculty', 'of', 'economic', 'sciences']\n"
          ]
        }
      ]
    },
    {
      "cell_type": "markdown",
      "metadata": {
        "id": "kuLT44bRfEox"
      },
      "source": [
        "# Stopword removal "
      ]
    },
    {
      "cell_type": "code",
      "metadata": {
        "id": "czn4zFZwfG9a"
      },
      "source": [
        "# remove English stopwords\n",
        "stop_words = set(stopwords.words('english')) \n",
        " \n",
        "filtered_text = [w for w in word_tokens if not w in stop_words] \n",
        "filtered_text = [] \n",
        "  \n",
        "for w in word_tokens: \n",
        "    if w not in stop_words: \n",
        "        filtered_text.append(w) "
      ],
      "execution_count": 11,
      "outputs": []
    },
    {
      "cell_type": "code",
      "metadata": {
        "id": "jdK0_5IEffsC",
        "colab": {
          "base_uri": "https://localhost:8080/"
        },
        "outputId": "3ad554c1-2814-477e-9966-bcab5945ec65"
      },
      "source": [
        "print(filtered_text) "
      ],
      "execution_count": 12,
      "outputs": [
        {
          "output_type": "stream",
          "name": "stdout",
          "text": [
            "['faculty', 'economic', 'sciences', 'independent', 'unit', 'university', 'warsaw', 'affirms', 'commitment', 'basic', 'goals', 'values', 'specified', 'mission', 'statement', 'university', 'warsaw', 'regard', 'way', 'mission', 'alma', 'mater', 'refers', 'discipline', 'represented', 'faculty', 'economic', 'sciences', 'define', 'following', 'goal', 'value', 'priorities', 'special', 'importance', 'unity', 'research', 'teaching', 'foundation', 'activities', 'faculty', 'economic', 'sciences']\n"
          ]
        }
      ]
    },
    {
      "cell_type": "code",
      "metadata": {
        "id": "7-44ArQhgDv-"
      },
      "source": [
        "# if necessaary: remove your own stopwords - as a vector of words:\n",
        "stop_words_lst = ['a', 'sciences', 'unit', 'affirms', 'basic']\n",
        "\n",
        "\n",
        "filtered_text2 = [w for w in filtered_text if not w in stop_words_lst] \n",
        "filtered_text2 = [] \n",
        "  \n",
        "for w in filtered_text: \n",
        "    if w not in stop_words_lst: \n",
        "        filtered_text2.append(w) \n"
      ],
      "execution_count": 13,
      "outputs": []
    },
    {
      "cell_type": "code",
      "metadata": {
        "id": "Y_HqnlbUgoS9",
        "colab": {
          "base_uri": "https://localhost:8080/"
        },
        "outputId": "a9f7fb23-d4df-43b5-a6eb-c842995e33e2"
      },
      "source": [
        "print(filtered_text2)"
      ],
      "execution_count": 14,
      "outputs": [
        {
          "output_type": "stream",
          "name": "stdout",
          "text": [
            "['faculty', 'economic', 'independent', 'university', 'warsaw', 'commitment', 'goals', 'values', 'specified', 'mission', 'statement', 'university', 'warsaw', 'regard', 'way', 'mission', 'alma', 'mater', 'refers', 'discipline', 'represented', 'faculty', 'economic', 'define', 'following', 'goal', 'value', 'priorities', 'special', 'importance', 'unity', 'research', 'teaching', 'foundation', 'activities', 'faculty', 'economic']\n"
          ]
        }
      ]
    },
    {
      "cell_type": "markdown",
      "metadata": {
        "id": "3ioMqvJUgfk0"
      },
      "source": [
        "# Stemming "
      ]
    },
    {
      "cell_type": "code",
      "metadata": {
        "id": "-IgCzxUJggOe",
        "colab": {
          "base_uri": "https://localhost:8080/"
        },
        "outputId": "ebe01a25-b656-4520-9182-8980a711d035"
      },
      "source": [
        "# Stemming reduces words to their root form\n",
        "# For example, the reduction of words \"move\", \"moved\" \n",
        "# and \"movement\" to the core \"move\".\n",
        "\n",
        "# stem document\n",
        "ps = PorterStemmer() \n",
        "   \n",
        "   \n",
        "for w in filtered_text2: \n",
        "    print(w, \" : \", ps.stem(w)) "
      ],
      "execution_count": 15,
      "outputs": [
        {
          "output_type": "stream",
          "name": "stdout",
          "text": [
            "faculty  :  faculti\n",
            "economic  :  econom\n",
            "independent  :  independ\n",
            "university  :  univers\n",
            "warsaw  :  warsaw\n",
            "commitment  :  commit\n",
            "goals  :  goal\n",
            "values  :  valu\n",
            "specified  :  specifi\n",
            "mission  :  mission\n",
            "statement  :  statement\n",
            "university  :  univers\n",
            "warsaw  :  warsaw\n",
            "regard  :  regard\n",
            "way  :  way\n",
            "mission  :  mission\n",
            "alma  :  alma\n",
            "mater  :  mater\n",
            "refers  :  refer\n",
            "discipline  :  disciplin\n",
            "represented  :  repres\n",
            "faculty  :  faculti\n",
            "economic  :  econom\n",
            "define  :  defin\n",
            "following  :  follow\n",
            "goal  :  goal\n",
            "value  :  valu\n",
            "priorities  :  prioriti\n",
            "special  :  special\n",
            "importance  :  import\n",
            "unity  :  uniti\n",
            "research  :  research\n",
            "teaching  :  teach\n",
            "foundation  :  foundat\n",
            "activities  :  activ\n",
            "faculty  :  faculti\n",
            "economic  :  econom\n"
          ]
        }
      ]
    },
    {
      "cell_type": "markdown",
      "metadata": {
        "id": "keSM9V3Ahq4V"
      },
      "source": [
        "# Term Frequency Matrix"
      ]
    },
    {
      "cell_type": "code",
      "metadata": {
        "id": "e4hye3_ThtS6",
        "colab": {
          "base_uri": "https://localhost:8080/"
        },
        "outputId": "16eb8944-7818-4a5b-9c73-962d70daed20"
      },
      "source": [
        "# Term frequency matrix\n",
        "\n",
        "wordlist = filtered_text2\n",
        "\n",
        "\n",
        "wordfreq = []\n",
        "for w in wordlist:\n",
        "    wordfreq.append(wordlist.count(w))\n",
        "\n",
        "print(\"Original string\\n\" + text_cleaner +\"\\n\")\n",
        "print(\"List\\n\" + str(wordlist) + \"\\n\")\n",
        "print(\"Frequencies\\n\" + str(wordfreq) + \"\\n\")\n",
        "print(\"Pairs\\n\" + str(list(zip(wordlist, wordfreq))))"
      ],
      "execution_count": 16,
      "outputs": [
        {
          "output_type": "stream",
          "name": "stdout",
          "text": [
            "Original string\n",
            "faculty of economic sciences as an independent unit of the university of warsaw affirms its commitment to basic goals and values specified in the mission statement of the university of warsaw in regard to the way in which the mission of our alma mater refers to the discipline represented by the faculty of economic sciences we define the following goal and value as our priorities of special importance unity of research and teaching is the foundation of the activities at the faculty of economic sciences\n",
            "\n",
            "List\n",
            "['faculty', 'economic', 'independent', 'university', 'warsaw', 'commitment', 'goals', 'values', 'specified', 'mission', 'statement', 'university', 'warsaw', 'regard', 'way', 'mission', 'alma', 'mater', 'refers', 'discipline', 'represented', 'faculty', 'economic', 'define', 'following', 'goal', 'value', 'priorities', 'special', 'importance', 'unity', 'research', 'teaching', 'foundation', 'activities', 'faculty', 'economic']\n",
            "\n",
            "Frequencies\n",
            "[3, 3, 1, 2, 2, 1, 1, 1, 1, 2, 1, 2, 2, 1, 1, 2, 1, 1, 1, 1, 1, 3, 3, 1, 1, 1, 1, 1, 1, 1, 1, 1, 1, 1, 1, 3, 3]\n",
            "\n",
            "Pairs\n",
            "[('faculty', 3), ('economic', 3), ('independent', 1), ('university', 2), ('warsaw', 2), ('commitment', 1), ('goals', 1), ('values', 1), ('specified', 1), ('mission', 2), ('statement', 1), ('university', 2), ('warsaw', 2), ('regard', 1), ('way', 1), ('mission', 2), ('alma', 1), ('mater', 1), ('refers', 1), ('discipline', 1), ('represented', 1), ('faculty', 3), ('economic', 3), ('define', 1), ('following', 1), ('goal', 1), ('value', 1), ('priorities', 1), ('special', 1), ('importance', 1), ('unity', 1), ('research', 1), ('teaching', 1), ('foundation', 1), ('activities', 1), ('faculty', 3), ('economic', 3)]\n"
          ]
        }
      ]
    }
  ]
}