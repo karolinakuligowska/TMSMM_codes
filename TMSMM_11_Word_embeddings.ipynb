{
  "nbformat": 4,
  "nbformat_minor": 0,
  "metadata": {
    "colab": {
      "provenance": [],
      "authorship_tag": "ABX9TyMG3zUXOm1D8Hqf4BGE5HP+",
      "include_colab_link": true
    },
    "kernelspec": {
      "name": "python3",
      "display_name": "Python 3"
    },
    "language_info": {
      "name": "python"
    }
  },
  "cells": [
    {
      "cell_type": "markdown",
      "metadata": {
        "id": "view-in-github",
        "colab_type": "text"
      },
      "source": [
        "<a href=\"https://colab.research.google.com/github/karolinakuligowska/TMSMM_codes/blob/main/TMSMM_11_Word_embeddings.ipynb\" target=\"_parent\"><img src=\"https://colab.research.google.com/assets/colab-badge.svg\" alt=\"Open In Colab\"/></a>"
      ]
    },
    {
      "cell_type": "code",
      "source": [
        "!pip install scikit-learn"
      ],
      "metadata": {
        "colab": {
          "base_uri": "https://localhost:8080/"
        },
        "id": "hH94pMYsXNQg",
        "outputId": "b4d69419-8355-4d72-9f60-dea7d2687d97"
      },
      "execution_count": 3,
      "outputs": [
        {
          "output_type": "stream",
          "name": "stdout",
          "text": [
            "Requirement already satisfied: scikit-learn in /usr/local/lib/python3.10/dist-packages (1.2.2)\n",
            "Requirement already satisfied: numpy>=1.17.3 in /usr/local/lib/python3.10/dist-packages (from scikit-learn) (1.23.5)\n",
            "Requirement already satisfied: scipy>=1.3.2 in /usr/local/lib/python3.10/dist-packages (from scikit-learn) (1.11.4)\n",
            "Requirement already satisfied: joblib>=1.1.1 in /usr/local/lib/python3.10/dist-packages (from scikit-learn) (1.3.2)\n",
            "Requirement already satisfied: threadpoolctl>=2.0.0 in /usr/local/lib/python3.10/dist-packages (from scikit-learn) (3.2.0)\n"
          ]
        }
      ]
    },
    {
      "cell_type": "code",
      "source": [
        "import sklearn"
      ],
      "metadata": {
        "id": "h22xGJG5Xphw"
      },
      "execution_count": 4,
      "outputs": []
    },
    {
      "cell_type": "code",
      "source": [
        "# Word embeddings"
      ],
      "metadata": {
        "id": "EHjofaYxvaYw"
      },
      "execution_count": null,
      "outputs": []
    },
    {
      "cell_type": "code",
      "source": [
        "# one-hot encoding\n",
        "\n",
        "from sklearn.feature_extraction.text import CountVectorizer\n",
        "\n",
        "# create a CountVectorizer object\n",
        "vectorizer = CountVectorizer()\n",
        "corpus = [\n",
        "          'Text of our first sentence.',\n",
        "          'Text of the second sentence that appears to be longer.',\n",
        "          'Sentence number three.',\n",
        "          'This is the sentence number four.',\n",
        "]\n"
      ],
      "metadata": {
        "id": "tXk_7TcDXH74"
      },
      "execution_count": 6,
      "outputs": []
    },
    {
      "cell_type": "code",
      "source": [
        "# learn the vocabulary and store CountVectorizer sparse matrix in X\n",
        "X = vectorizer.fit_transform(corpus)\n",
        "\n",
        "# retrieve feature names\n",
        "print(vectorizer.get_feature_names_out())\n",
        "\n",
        "# retrieving the matrix in the numpy form\n",
        "print(X.toarray())\n",
        "\n",
        "# transforming a new document according to learn vocabulary\n",
        "vectorizer.transform(['Our new sentence']).toarray()"
      ],
      "metadata": {
        "colab": {
          "base_uri": "https://localhost:8080/"
        },
        "id": "n_TppGB7Xvzy",
        "outputId": "3840a101-3d4a-403d-ce8c-e73af97595f3"
      },
      "execution_count": 8,
      "outputs": [
        {
          "output_type": "stream",
          "name": "stdout",
          "text": [
            "['appears' 'be' 'first' 'four' 'is' 'longer' 'number' 'of' 'our' 'second'\n",
            " 'sentence' 'text' 'that' 'the' 'this' 'three' 'to']\n",
            "[[0 0 1 0 0 0 0 1 1 0 1 1 0 0 0 0 0]\n",
            " [1 1 0 0 0 1 0 1 0 1 1 1 1 1 0 0 1]\n",
            " [0 0 0 0 0 0 1 0 0 0 1 0 0 0 0 1 0]\n",
            " [0 0 0 1 1 0 1 0 0 0 1 0 0 1 1 0 0]]\n"
          ]
        },
        {
          "output_type": "execute_result",
          "data": {
            "text/plain": [
              "array([[0, 0, 0, 0, 0, 0, 0, 0, 1, 0, 1, 0, 0, 0, 0, 0, 0]])"
            ]
          },
          "metadata": {},
          "execution_count": 8
        }
      ]
    },
    {
      "cell_type": "code",
      "source": [
        "from sklearn.feature_extraction.text import TfidfTransformer\n",
        "# create tf-idf object\n",
        "\n",
        "transformer = TfidfTransformer(smooth_idf=False)\n",
        "\n",
        "# X can be obtained as X.toarray() from the previous snippet\n",
        "X = [[3, 0, 1],\n",
        "     [5, 0, 0],\n",
        "     [3, 0, 0],\n",
        "     [1, 0, 0],\n",
        "     [3, 2, 0],\n",
        "     [3, 0, 4]]\n",
        "\n",
        "# learn the vocabulary and store tf-idf sparse matrix in tfidf\n",
        "tfidf = transformer.fit_transform(X)\n",
        "\n",
        "# retrieving matrix in numpy form as we did it before\n",
        "tfidf.toarray()"
      ],
      "metadata": {
        "colab": {
          "base_uri": "https://localhost:8080/"
        },
        "id": "SsouMrEPYO0h",
        "outputId": "1e5f9d9e-a1c9-41aa-ea80-792e2ff743ec"
      },
      "execution_count": 9,
      "outputs": [
        {
          "output_type": "execute_result",
          "data": {
            "text/plain": [
              "array([[0.81940995, 0.        , 0.57320793],\n",
              "       [1.        , 0.        , 0.        ],\n",
              "       [1.        , 0.        , 0.        ],\n",
              "       [1.        , 0.        , 0.        ],\n",
              "       [0.47330339, 0.88089948, 0.        ],\n",
              "       [0.33653362, 0.        , 0.94167145]])"
            ]
          },
          "metadata": {},
          "execution_count": 9
        }
      ]
    },
    {
      "cell_type": "code",
      "source": [
        "import gensim"
      ],
      "metadata": {
        "id": "AW1f0oLJYWQT"
      },
      "execution_count": 11,
      "outputs": []
    },
    {
      "cell_type": "code",
      "source": [
        "# Word2Vec\n",
        "\n",
        "from gensim.models import word2vec\n",
        "corpus = [\n",
        "          'Text of our first sentence.',\n",
        "          'Text of the second sentence that appears to be longer.',\n",
        "          'Sentence number three.',\n",
        "          'This is the sentence number four.',\n",
        "]\n",
        "# we need to pass splitted sentences to the model\n",
        "tokenized_sentences = [sentence.split() for sentence in corpus]\n",
        "model = word2vec.Word2Vec(tokenized_sentences, min_count=1)\n",
        "\n"
      ],
      "metadata": {
        "id": "dBZCyo2pYRSW"
      },
      "execution_count": 13,
      "outputs": []
    },
    {
      "cell_type": "code",
      "source": [
        "print(model)\n",
        "\n"
      ],
      "metadata": {
        "colab": {
          "base_uri": "https://localhost:8080/"
        },
        "id": "yMHpDBeuY-sN",
        "outputId": "69ec100f-b760-4c72-829d-e96e6691023e"
      },
      "execution_count": 22,
      "outputs": [
        {
          "output_type": "stream",
          "name": "stdout",
          "text": [
            "Word2Vec<vocab=19, vector_size=100, alpha=0.025>\n"
          ]
        }
      ]
    },
    {
      "cell_type": "code",
      "source": [
        "print(model.wv['sentence'])"
      ],
      "metadata": {
        "colab": {
          "base_uri": "https://localhost:8080/"
        },
        "id": "jXL8GXnwboip",
        "outputId": "611bd63a-2660-4b81-8a89-7be45bf4ae43"
      },
      "execution_count": 20,
      "outputs": [
        {
          "output_type": "stream",
          "name": "stdout",
          "text": [
            "[-0.00713902  0.00124103 -0.00717672 -0.00224462  0.0037193   0.00583312\n",
            "  0.00119818  0.00210273 -0.00411039  0.00722533 -0.00630704  0.00464722\n",
            " -0.00821997  0.00203647 -0.00497705 -0.00424769 -0.00310898  0.00565521\n",
            "  0.0057984  -0.00497465  0.00077333 -0.00849578  0.00780981  0.00925729\n",
            " -0.00274233  0.00080022  0.00074665  0.00547788 -0.00860608  0.00058446\n",
            "  0.00686942  0.00223159  0.00112468 -0.00932216  0.00848237 -0.00626413\n",
            " -0.00299237  0.00349379 -0.00077263  0.00141129  0.00178199 -0.0068289\n",
            " -0.00972481  0.00904058  0.00619805 -0.00691293  0.00340348  0.00020606\n",
            "  0.00475375 -0.00711994  0.00402695  0.00434743  0.00995737 -0.00447374\n",
            " -0.00138926 -0.00731732 -0.00969783 -0.00908026 -0.00102275 -0.00650329\n",
            "  0.00484973 -0.00616403  0.00251919  0.00073944 -0.00339215 -0.00097922\n",
            "  0.00997913  0.00914589 -0.00446183  0.00908303 -0.00564176  0.00593092\n",
            " -0.00309722  0.00343175  0.00301723  0.00690046 -0.00237388  0.00877504\n",
            "  0.00758943 -0.00954765 -0.00800821 -0.0076379   0.00292326 -0.00279472\n",
            " -0.00692952 -0.00812826  0.00830918  0.00199049 -0.00932802 -0.00479272\n",
            "  0.00313674 -0.00471321  0.00528084 -0.00423344  0.0026418  -0.00804569\n",
            "  0.00620989  0.00481889  0.00078719  0.00301345]\n"
          ]
        }
      ]
    },
    {
      "cell_type": "code",
      "source": [
        "vocab = model.wv.key_to_index.keys()\n",
        "# Iterate through the vocabulary using the updated method\n",
        "\n",
        "words = list(vocab)\n"
      ],
      "metadata": {
        "id": "076QZlV1Y__A"
      },
      "execution_count": 33,
      "outputs": []
    },
    {
      "cell_type": "code",
      "source": [
        "print(words)"
      ],
      "metadata": {
        "colab": {
          "base_uri": "https://localhost:8080/"
        },
        "id": "BuxwRoQSeiFf",
        "outputId": "799076df-fc89-4af9-b93b-9c2747afa461"
      },
      "execution_count": 34,
      "outputs": [
        {
          "output_type": "stream",
          "name": "stdout",
          "text": [
            "['Text', 'of', 'number', 'the', 'sentence', 'that', 'our', 'first', 'sentence.', 'second', 'four.', 'is', 'to', 'be', 'longer.', 'Sentence', 'three.', 'This', 'appears']\n"
          ]
        }
      ]
    },
    {
      "cell_type": "code",
      "source": [
        "# some visualization\n",
        "from gensim.models import Word2Vec\n",
        "from sklearn.decomposition import PCA\n",
        "from matplotlib import pyplot"
      ],
      "metadata": {
        "id": "YtJ7uMXQfGUW"
      },
      "execution_count": 36,
      "outputs": []
    },
    {
      "cell_type": "code",
      "source": [
        "# Fit a 2D PCA model to the vectors\n",
        "Y = model.wv[model.wv.key_to_index.keys()]\n",
        "pca = PCA(n_components=2)\n",
        "result = pca.fit_transform(Y)\n"
      ],
      "metadata": {
        "id": "Y8axiv48fCJ6"
      },
      "execution_count": 39,
      "outputs": []
    },
    {
      "cell_type": "code",
      "source": [
        "# create a scatter plot of the projection\n",
        "pyplot.scatter(result[:, 0], result[:, 1])\n",
        "words = list(vocab)\n",
        "for i, word in enumerate(words):\n",
        "    pyplot.annotate(word, xy=(result[i, 0], result[i, 1]))\n",
        "pyplot.show()"
      ],
      "metadata": {
        "colab": {
          "base_uri": "https://localhost:8080/",
          "height": 430
        },
        "id": "Ac9_kmZffXTz",
        "outputId": "f4458329-cd71-4a27-8891-07e602dc2639"
      },
      "execution_count": 40,
      "outputs": [
        {
          "output_type": "display_data",
          "data": {
            "text/plain": [
              "<Figure size 640x480 with 1 Axes>"
            ],
            "image/png": "[encoded data removed]"
          },
          "metadata": {}
        }
      ]
    },
    {
      "cell_type": "markdown",
      "source": [
        "Another Word2Vec example"
      ],
      "metadata": {
        "id": "gcvCzh4Afu7y"
      }
    },
    {
      "cell_type": "code",
      "source": [
        "import nltk\n",
        "nltk.download('punkt')"
      ],
      "metadata": {
        "colab": {
          "base_uri": "https://localhost:8080/"
        },
        "id": "ADRCt3kXgRXL",
        "outputId": "b1c16e85-f91b-4d52-901c-4151ffc5546d"
      },
      "execution_count": 44,
      "outputs": [
        {
          "output_type": "stream",
          "name": "stderr",
          "text": [
            "[nltk_data] Downloading package punkt to /root/nltk_data...\n",
            "[nltk_data]   Unzipping tokenizers/punkt.zip.\n"
          ]
        },
        {
          "output_type": "execute_result",
          "data": {
            "text/plain": [
              "True"
            ]
          },
          "metadata": {},
          "execution_count": 44
        }
      ]
    },
    {
      "cell_type": "code",
      "source": [
        "# another Word2Vec example\n",
        "\n",
        "from nltk.tokenize import sent_tokenize, word_tokenize\n",
        "import warnings\n",
        "warnings.filterwarnings(action = 'ignore')\n",
        "import gensim\n",
        "from gensim.models import Word2Vec\n",
        "\n",
        "#  Reads the txt file\n",
        "sample = open(\"TMSMM_class2_MLK_speech.txt\", \"r\")\n",
        "s = sample.read()\n",
        "\n",
        "# Replaces escape character with space\n",
        "f = s.replace(\"\\n\", \" \")\n",
        "\n",
        "data = []\n",
        "\n",
        "# iterate through each sentence in the file\n",
        "for i in sent_tokenize(f):\n",
        "    temp = []\n",
        "\n",
        "    # tokenize the sentence into words\n",
        "    for j in word_tokenize(i):\n",
        "        temp.append(j.lower())\n",
        "\n",
        "    data.append(temp)"
      ],
      "metadata": {
        "id": "UIRFmvoGfzIh"
      },
      "execution_count": 45,
      "outputs": []
    },
    {
      "cell_type": "code",
      "source": [
        "# Create CBOW model\n",
        "# window (default 5): the default size is 5, because we consider two words before and two words after the input word, in addition to the input word itself\n",
        "# size (default 100): we wish to create word vectors of size 100 each; the number of dimensions of the embedding, e.g. the length of the dense vector to represent each token (word)\n",
        "# min_count (default 5): the minimum count of words to consider when training the model; words with an occurrence less than this count will be ignored\n",
        "# workers: (default 3): the number of threads to use while training\n",
        "# sg (default 0 or CBOW): the training algorithm, either CBOW (0) or skip gram (1)\n",
        "\n"
      ],
      "metadata": {
        "id": "Nl3fQpXEgXJc"
      },
      "execution_count": null,
      "outputs": []
    },
    {
      "cell_type": "code",
      "source": [
        "model1 = gensim.models.Word2Vec(data, min_count = 1, window = 5)\n",
        "\n"
      ],
      "metadata": {
        "id": "uxeXb6HDgdQ2"
      },
      "execution_count": 48,
      "outputs": []
    },
    {
      "cell_type": "code",
      "source": [
        "# Print results\n",
        "print(\"Cosine similarity between 'dream' \" +\n",
        "               \"and 'freedom' - CBOW : \",\n",
        "    model1.wv.similarity('dream', 'freedom'))\n",
        "\n",
        "print(\"Cosine similarity between 'dream' \" +\n",
        "                 \"and 'justice' - CBOW : \",\n",
        "      model1.wv.similarity('dream', 'justice'))\n",
        "\n"
      ],
      "metadata": {
        "colab": {
          "base_uri": "https://localhost:8080/"
        },
        "id": "zs671POXgu5d",
        "outputId": "bbe17f86-32b4-4858-f624-3d36f55777dc"
      },
      "execution_count": 51,
      "outputs": [
        {
          "output_type": "stream",
          "name": "stdout",
          "text": [
            "Cosine similarity between 'dream' and 'freedom' - CBOW :  0.01430588\n",
            "Cosine similarity between 'dream' and 'justice' - CBOW :  0.007834996\n"
          ]
        }
      ]
    },
    {
      "cell_type": "code",
      "source": [
        "# Create Skip Gram model\n",
        "model2 = gensim.models.Word2Vec(data, min_count = 1, window = 5, sg = 1)\n",
        "\n",
        "# Print results\n",
        "print(\"Cosine similarity between 'dream' \" +\n",
        "          \"and 'freedom' - Skip Gram : \",\n",
        "    model2.wv.similarity('dream', 'freedom'))\n",
        "\n",
        "print(\"Cosine similarity between 'dream' \" +\n",
        "            \"and 'justice' - Skip Gram : \",\n",
        "      model2.wv.similarity('dream', 'justice'))"
      ],
      "metadata": {
        "colab": {
          "base_uri": "https://localhost:8080/"
        },
        "id": "amL_wzXug9Bi",
        "outputId": "501cf3e8-afe2-4cf9-cd86-91befa3dd74e"
      },
      "execution_count": 55,
      "outputs": [
        {
          "output_type": "stream",
          "name": "stdout",
          "text": [
            "Cosine similarity between 'dream' and 'freedom' - Skip Gram :  0.12075197\n",
            "Cosine similarity between 'dream' and 'justice' - Skip Gram :  0.033765268\n"
          ]
        }
      ]
    },
    {
      "cell_type": "code",
      "source": [
        "# consider loading Google’s Word2Vec Embedding [Brownlee]\n",
        "# download the .bin file listed below to run the code\n",
        "# https://code.google.com/archive/p/word2vec/\n",
        "\n",
        "from gensim.models import KeyedVectors\n",
        "# load the google word2vec model\n",
        "# 1,5 GB\n",
        "filename = 'GoogleNews-vectors-negative300.bin'\n",
        "model = KeyedVectors.load_word2vec_format(filename, binary=True)\n",
        "# calculate: (king - man) + woman = ?\n",
        "result = model.most_similar(positive=['woman', 'king'], negative=['man'], topn=1)\n",
        "print(result)\n",
        "# it is queen!"
      ],
      "metadata": {
        "id": "1nFaCW8NikhH"
      },
      "execution_count": null,
      "outputs": []
    },
    {
      "cell_type": "code",
      "source": [
        "# consider Stanford’s GloVe Embedding\n",
        "# download the .txt file listed below to run the code\n",
        "# https://nlp.stanford.edu/projects/glove/\n",
        "\n",
        "from gensim.scripts.glove2word2vec import glove2word2vec\n",
        "glove_input_file = 'glove.6B.100d.txt'\n",
        "word2vec_output_file = 'glove.6B.100d.txt.word2vec'\n",
        "glove2word2vec(glove_input_file, word2vec_output_file)\n",
        "\n"
      ],
      "metadata": {
        "colab": {
          "base_uri": "https://localhost:8080/"
        },
        "id": "1pwT8t8LhY8u",
        "outputId": "1fe0f916-99d2-4a17-de43-63e87771778b"
      },
      "execution_count": 59,
      "outputs": [
        {
          "output_type": "execute_result",
          "data": {
            "text/plain": [
              "(17117, 100)"
            ]
          },
          "metadata": {},
          "execution_count": 59
        }
      ]
    },
    {
      "cell_type": "code",
      "source": [
        "from gensim.models import KeyedVectors\n",
        "# load the Stanford GloVe model\n"
      ],
      "metadata": {
        "id": "AElo68GRvDKX"
      },
      "execution_count": 60,
      "outputs": []
    },
    {
      "cell_type": "code",
      "source": [
        "filename = 'glove.6B.100d.txt.word2vec'\n",
        "model = KeyedVectors.load_word2vec_format(filename, binary=False)\n",
        "# calculate: (king - man) + woman = ?\n",
        "result = model.most_similar(positive=['woman', 'king'], negative=['man'], topn=1)\n",
        "print(result)\n",
        "# it is queen!"
      ],
      "metadata": {
        "colab": {
          "base_uri": "https://localhost:8080/"
        },
        "id": "8ytVHlvyvI1H",
        "outputId": "ce5b6662-f95b-4988-ec4a-f72954ba6519"
      },
      "execution_count": 61,
      "outputs": [
        {
          "output_type": "stream",
          "name": "stdout",
          "text": [
            "[('queen', 0.7698540687561035)]\n"
          ]
        }
      ]
    }
  ]
}