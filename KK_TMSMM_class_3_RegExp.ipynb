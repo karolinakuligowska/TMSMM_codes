{
  "nbformat": 4,
  "nbformat_minor": 0,
  "metadata": {
    "colab": {
      "provenance": [],
      "collapsed_sections": [],
      "authorship_tag": "ABX9TyMxLS8oEKnFH+K5dQlubVPK",
      "include_colab_link": true
    },
    "kernelspec": {
      "name": "python3",
      "display_name": "Python 3"
    },
    "language_info": {
      "name": "python"
    }
  },
  "cells": [
    {
      "cell_type": "markdown",
      "metadata": {
        "id": "view-in-github",
        "colab_type": "text"
      },
      "source": [
        "<a href=\"https://colab.research.google.com/github/karolinakuligowska/TMSMM_codes/blob/main/KK_TMSMM_class_3_RegExp.ipynb\" target=\"_parent\"><img src=\"https://colab.research.google.com/assets/colab-badge.svg\" alt=\"Open In Colab\"/></a>"
      ]
    },
    {
      "cell_type": "code",
      "execution_count": 1,
      "metadata": {
        "colab": {
          "base_uri": "https://localhost:8080/",
          "height": 36
        },
        "id": "KwWoHivsZgsT",
        "outputId": "2a94a519-0600-481b-a621-941a16899838"
      },
      "outputs": [
        {
          "output_type": "execute_result",
          "data": {
            "text/plain": [
              "'We bought our  Golden Retriever, Snuggles, for $30 on 1/1/2015 at 1017 Main St. where they   have many dogs.'"
            ],
            "application/vnd.google.colaboratory.intrinsic+json": {
              "type": "string"
            }
          },
          "metadata": {},
          "execution_count": 1
        }
      ],
      "source": [
        "# imoprt the re module\n",
        "import re\n",
        "\n",
        "sentence = \"We bought our  Golden Retriever, Snuggles, for $30 on 1/1/2015 at 1017 Main St. where they   have many dogs.\"\n",
        "sentence"
      ]
    },
    {
      "cell_type": "markdown",
      "source": [
        "Does the string contain a pattern?"
      ],
      "metadata": {
        "id": "_VxrkzwQaFOr"
      }
    },
    {
      "cell_type": "code",
      "source": [
        "# Does the sentence contain the word “the”?\n",
        "\n",
        "# disregard adjacent characters\n",
        "re.search(r\"the\", sentence) is not None\n",
        "## True"
      ],
      "metadata": {
        "colab": {
          "base_uri": "https://localhost:8080/"
        },
        "id": "uQZ2-ShNaDYn",
        "outputId": "b930a6e0-7e28-4e93-dbcb-43b2bef23627"
      },
      "execution_count": 2,
      "outputs": [
        {
          "output_type": "execute_result",
          "data": {
            "text/plain": [
              "True"
            ]
          },
          "metadata": {},
          "execution_count": 2
        }
      ]
    },
    {
      "cell_type": "markdown",
      "source": [
        "Extract pattern"
      ],
      "metadata": {
        "id": "BoxAWFRCaY3W"
      }
    },
    {
      "cell_type": "code",
      "source": [
        "# What’s the first number that appear in the sentence?\n",
        "\n",
        "# find the first digit\n",
        "re.search(r\"\\d\", sentence).group()\n",
        "## '3'"
      ],
      "metadata": {
        "colab": {
          "base_uri": "https://localhost:8080/",
          "height": 36
        },
        "id": "1XzvKi2XaTtX",
        "outputId": "4c9346a9-e66a-4266-a2ad-f382b4267861"
      },
      "execution_count": 3,
      "outputs": [
        {
          "output_type": "execute_result",
          "data": {
            "text/plain": [
              "'3'"
            ],
            "application/vnd.google.colaboratory.intrinsic+json": {
              "type": "string"
            }
          },
          "metadata": {},
          "execution_count": 3
        }
      ]
    },
    {
      "cell_type": "code",
      "source": [
        "# Find the first sequence of digits\n",
        "re.search(r\"\\d+\", sentence).group()\n",
        "## '30'"
      ],
      "metadata": {
        "colab": {
          "base_uri": "https://localhost:8080/",
          "height": 36
        },
        "id": "EkpPKIo7c-CW",
        "outputId": "b6616225-3446-42d1-a520-eb6bc997d736"
      },
      "execution_count": 4,
      "outputs": [
        {
          "output_type": "execute_result",
          "data": {
            "text/plain": [
              "'30'"
            ],
            "application/vnd.google.colaboratory.intrinsic+json": {
              "type": "string"
            }
          },
          "metadata": {},
          "execution_count": 4
        }
      ]
    },
    {
      "cell_type": "code",
      "source": [
        "# Find all sequences of numbers\n",
        "re.findall(r\"\\b\\d+\\b\", sentence)\n",
        "## ['30', '1', '1', '2015', '1017']"
      ],
      "metadata": {
        "colab": {
          "base_uri": "https://localhost:8080/"
        },
        "id": "KFxYAe-xdSlU",
        "outputId": "0d876b37-3b6e-4f64-de05-bbceb1b946b4"
      },
      "execution_count": 5,
      "outputs": [
        {
          "output_type": "execute_result",
          "data": {
            "text/plain": [
              "['30', '1', '1', '2015', '1017']"
            ]
          },
          "metadata": {},
          "execution_count": 5
        }
      ]
    },
    {
      "cell_type": "markdown",
      "source": [
        "Count matching patterns"
      ],
      "metadata": {
        "id": "XMqSs1lPdn7I"
      }
    },
    {
      "cell_type": "code",
      "source": [
        " # How many times does the word \"dog\" appear in the sentence?\n",
        "\n",
        "# count occurences of the word \"dog\"\n",
        "len(re.findall(r\"dog\", sentence))\n",
        "## 1"
      ],
      "metadata": {
        "colab": {
          "base_uri": "https://localhost:8080/"
        },
        "id": "ftVg9gbwdlDa",
        "outputId": "9db8461f-6377-44c8-d5ab-004dedb4763d"
      },
      "execution_count": 6,
      "outputs": [
        {
          "output_type": "execute_result",
          "data": {
            "text/plain": [
              "1"
            ]
          },
          "metadata": {},
          "execution_count": 6
        }
      ]
    },
    {
      "cell_type": "code",
      "source": [
        "# How many times does a sequence of numbers appears in the sentence?\n",
        "len(re.findall(r\"\\b\\d+\\b\", sentence))"
      ],
      "metadata": {
        "colab": {
          "base_uri": "https://localhost:8080/"
        },
        "id": "UE1SGVZtd5xb",
        "outputId": "6e883a02-6060-4eb3-8969-55c147991f1a"
      },
      "execution_count": 7,
      "outputs": [
        {
          "output_type": "execute_result",
          "data": {
            "text/plain": [
              "5"
            ]
          },
          "metadata": {},
          "execution_count": 7
        }
      ]
    },
    {
      "cell_type": "markdown",
      "source": [
        "Replace matching patterns"
      ],
      "metadata": {
        "id": "K0zHhFiRePhi"
      }
    },
    {
      "cell_type": "code",
      "source": [
        "# Replace the 2nd digit with a 9\n",
        "# count = 1 means replace the 1st match\n",
        "re.sub(r\"(?<=\\d)[^\\d]*(\\d)\", \"9\", sentence, count = 1)\n",
        "## 'We bought our  Golden Retriever, Snuggles, for $39 on 1/1/2015 at 1017 Main St. where they   have many dogs.'"
      ],
      "metadata": {
        "colab": {
          "base_uri": "https://localhost:8080/",
          "height": 36
        },
        "id": "rRtUXaWKeQUo",
        "outputId": "3dcfff44-3925-41ff-9db6-1cb8ee209db2"
      },
      "execution_count": 8,
      "outputs": [
        {
          "output_type": "execute_result",
          "data": {
            "text/plain": [
              "'We bought our  Golden Retriever, Snuggles, for $39 on 1/1/2015 at 1017 Main St. where they   have many dogs.'"
            ],
            "application/vnd.google.colaboratory.intrinsic+json": {
              "type": "string"
            }
          },
          "metadata": {},
          "execution_count": 8
        }
      ]
    },
    {
      "cell_type": "code",
      "source": [
        "# Replace the 3rd digit with an 8 preceeded by a slash\n",
        "re.sub(r\"(?<=\\d)[^\\d](\\d)*(\\d)\", \"/8\", sentence, count = 1)"
      ],
      "metadata": {
        "colab": {
          "base_uri": "https://localhost:8080/",
          "height": 36
        },
        "id": "KF5QJPusesgM",
        "outputId": "99af3d2b-13da-4ee8-80af-5d027b867875"
      },
      "execution_count": 9,
      "outputs": [
        {
          "output_type": "execute_result",
          "data": {
            "text/plain": [
              "'We bought our  Golden Retriever, Snuggles, for $30 on 1/8/2015 at 1017 Main St. where they   have many dogs.'"
            ],
            "application/vnd.google.colaboratory.intrinsic+json": {
              "type": "string"
            }
          },
          "metadata": {},
          "execution_count": 9
        }
      ]
    },
    {
      "cell_type": "code",
      "source": [
        "# Replace every 0 or 1 with a 6\n",
        "# count = 0 means replace all matches\n",
        "re.sub(r\"(0|1)\", \"6\", sentence, count = 0)\n",
        "## 'We bought our  Golden Retriever, Snuggles, for $36 on 6/6/2665 at 6667 Main St. where they   have many dogs.'"
      ],
      "metadata": {
        "colab": {
          "base_uri": "https://localhost:8080/",
          "height": 36
        },
        "id": "FMoXAhBofWEK",
        "outputId": "82b9d9eb-5d22-413c-c57b-abc1a729479e"
      },
      "execution_count": 10,
      "outputs": [
        {
          "output_type": "execute_result",
          "data": {
            "text/plain": [
              "'We bought our  Golden Retriever, Snuggles, for $36 on 6/6/2665 at 6667 Main St. where they   have many dogs.'"
            ],
            "application/vnd.google.colaboratory.intrinsic+json": {
              "type": "string"
            }
          },
          "metadata": {},
          "execution_count": 10
        }
      ]
    },
    {
      "cell_type": "code",
      "source": [
        "# Replace all instances of multiple spaces with a single space\n",
        "re.sub(r\"\\s{2,}\", \" \", sentence)\n",
        "## 'We bought our Golden Retriever, Snuggles, for $30 on 1/1/2015 at 1017 Main St. where they have many dogs.'"
      ],
      "metadata": {
        "colab": {
          "base_uri": "https://localhost:8080/",
          "height": 36
        },
        "id": "Kg8N4G7IhLdA",
        "outputId": "2ab514c4-fa34-470a-fa78-5dcfb232f19d"
      },
      "execution_count": 11,
      "outputs": [
        {
          "output_type": "execute_result",
          "data": {
            "text/plain": [
              "'We bought our Golden Retriever, Snuggles, for $30 on 1/1/2015 at 1017 Main St. where they have many dogs.'"
            ],
            "application/vnd.google.colaboratory.intrinsic+json": {
              "type": "string"
            }
          },
          "metadata": {},
          "execution_count": 11
        }
      ]
    },
    {
      "cell_type": "markdown",
      "source": [
        "Search and replace"
      ],
      "metadata": {
        "id": "jtUx50LnhT2s"
      }
    },
    {
      "cell_type": "code",
      "source": [
        "phone = \"2004-959-559 # This is Phone Number\"\n",
        "\n",
        "phone"
      ],
      "metadata": {
        "colab": {
          "base_uri": "https://localhost:8080/",
          "height": 36
        },
        "id": "Br1xc_4jhUik",
        "outputId": "08564d18-b784-4560-8f27-5e61d698965e"
      },
      "execution_count": 12,
      "outputs": [
        {
          "output_type": "execute_result",
          "data": {
            "text/plain": [
              "'2004-959-559 # This is Phone Number'"
            ],
            "application/vnd.google.colaboratory.intrinsic+json": {
              "type": "string"
            }
          },
          "metadata": {},
          "execution_count": 12
        }
      ]
    },
    {
      "cell_type": "code",
      "source": [
        "# Delete Python-style comments\n",
        "num = re.sub(r'#.*$', \"\", phone)\n",
        "num"
      ],
      "metadata": {
        "colab": {
          "base_uri": "https://localhost:8080/",
          "height": 36
        },
        "id": "LuZ0zLP5hgox",
        "outputId": "71d35c28-15fb-4a47-c64e-0e6f668f63b3"
      },
      "execution_count": 13,
      "outputs": [
        {
          "output_type": "execute_result",
          "data": {
            "text/plain": [
              "'2004-959-559 '"
            ],
            "application/vnd.google.colaboratory.intrinsic+json": {
              "type": "string"
            }
          },
          "metadata": {},
          "execution_count": 13
        }
      ]
    },
    {
      "cell_type": "code",
      "source": [
        "# Remove anything other than digits\n",
        "num = re.sub(r'\\D', \"\", phone)\n",
        "num"
      ],
      "metadata": {
        "colab": {
          "base_uri": "https://localhost:8080/",
          "height": 36
        },
        "id": "Hp6QxW2Yhsi3",
        "outputId": "898d4184-b564-4a89-a86a-e287678dd8f0"
      },
      "execution_count": 14,
      "outputs": [
        {
          "output_type": "execute_result",
          "data": {
            "text/plain": [
              "'2004959559'"
            ],
            "application/vnd.google.colaboratory.intrinsic+json": {
              "type": "string"
            }
          },
          "metadata": {},
          "execution_count": 14
        }
      ]
    }
  ]
}