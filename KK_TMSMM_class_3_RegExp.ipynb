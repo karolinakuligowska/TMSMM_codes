{
  "nbformat": 4,
  "nbformat_minor": 0,
  "metadata": {
    "colab": {
      "name": "KK_TMSMM_class_3_RegExp.ipynb",
      "provenance": [],
      "collapsed_sections": [],
      "authorship_tag": "ABX9TyP50ru0R1SHpSbxNhqPG29N",
      "include_colab_link": true
    },
    "kernelspec": {
      "name": "python3",
      "display_name": "Python 3"
    },
    "language_info": {
      "name": "python"
    }
  },
  "cells": [
    {
      "cell_type": "markdown",
      "metadata": {
        "id": "view-in-github",
        "colab_type": "text"
      },
      "source": [
        "<a href=\"https://colab.research.google.com/github/karolinakuligowska/TMSMM_codes/blob/main/KK_TMSMM_class_3_RegExp.ipynb\" target=\"_parent\"><img src=\"https://colab.research.google.com/assets/colab-badge.svg\" alt=\"Open In Colab\"/></a>"
      ]
    },
    {
      "cell_type": "code",
      "execution_count": 1,
      "metadata": {
        "colab": {
          "base_uri": "https://localhost:8080/",
          "height": 36
        },
        "id": "KwWoHivsZgsT",
        "outputId": "f602dd7a-6cf4-49cb-9039-828d0eee5e16"
      },
      "outputs": [
        {
          "output_type": "execute_result",
          "data": {
            "application/vnd.google.colaboratory.intrinsic+json": {
              "type": "string"
            },
            "text/plain": [
              "'We bought our  Golden Retriever, Snuggles, for $30 on 1/1/2015 at 1017 Main St. where they   have many dogs.'"
            ]
          },
          "metadata": {},
          "execution_count": 1
        }
      ],
      "source": [
        "# imoprt the re module\n",
        "import re\n",
        "\n",
        "sentence = \"We bought our  Golden Retriever, Snuggles, for $30 on 1/1/2015 at 1017 Main St. where they   have many dogs.\"\n",
        "sentence"
      ]
    },
    {
      "cell_type": "markdown",
      "source": [
        "Does the string contain a pattern?"
      ],
      "metadata": {
        "id": "_VxrkzwQaFOr"
      }
    },
    {
      "cell_type": "code",
      "source": [
        "# Does the sentence contain the word “the”?\n",
        "\n",
        "# disregard adjacent characters\n",
        "re.search(r\"the\", sentence) is not None\n",
        "## True"
      ],
      "metadata": {
        "colab": {
          "base_uri": "https://localhost:8080/"
        },
        "id": "uQZ2-ShNaDYn",
        "outputId": "492fa120-58a6-40a1-cefa-6c124da301e0"
      },
      "execution_count": 2,
      "outputs": [
        {
          "output_type": "execute_result",
          "data": {
            "text/plain": [
              "True"
            ]
          },
          "metadata": {},
          "execution_count": 2
        }
      ]
    },
    {
      "cell_type": "markdown",
      "source": [
        "Extract pattern"
      ],
      "metadata": {
        "id": "BoxAWFRCaY3W"
      }
    },
    {
      "cell_type": "code",
      "source": [
        "# What’s the first number that appears in the sentence?\n",
        "\n",
        "# find the first digit\n",
        "re.search(r\"\\d\", sentence).group()\n",
        "## '3'"
      ],
      "metadata": {
        "colab": {
          "base_uri": "https://localhost:8080/",
          "height": 36
        },
        "id": "1XzvKi2XaTtX",
        "outputId": "6c8b1436-d0c7-4d26-8093-2c3ecdea386f"
      },
      "execution_count": 3,
      "outputs": [
        {
          "output_type": "execute_result",
          "data": {
            "application/vnd.google.colaboratory.intrinsic+json": {
              "type": "string"
            },
            "text/plain": [
              "'3'"
            ]
          },
          "metadata": {},
          "execution_count": 3
        }
      ]
    },
    {
      "cell_type": "code",
      "source": [
        "# Find the first sequence of digits\n",
        "re.search(r\"\\d+\", sentence).group()\n",
        "## '30'"
      ],
      "metadata": {
        "colab": {
          "base_uri": "https://localhost:8080/",
          "height": 36
        },
        "id": "EkpPKIo7c-CW",
        "outputId": "d436fdfb-ca5e-41e0-b998-c9f2ac234b6a"
      },
      "execution_count": 4,
      "outputs": [
        {
          "output_type": "execute_result",
          "data": {
            "application/vnd.google.colaboratory.intrinsic+json": {
              "type": "string"
            },
            "text/plain": [
              "'30'"
            ]
          },
          "metadata": {},
          "execution_count": 4
        }
      ]
    },
    {
      "cell_type": "code",
      "source": [
        "# Find all sequences of numbers\n",
        "re.findall(r\"\\b\\d+\\b\", sentence)\n",
        "## ['30', '1', '1', '2015', '1017']"
      ],
      "metadata": {
        "colab": {
          "base_uri": "https://localhost:8080/"
        },
        "id": "KFxYAe-xdSlU",
        "outputId": "1f2d3f25-6ae7-487c-b109-d858fca37325"
      },
      "execution_count": 7,
      "outputs": [
        {
          "output_type": "execute_result",
          "data": {
            "text/plain": [
              "['30', '1', '1', '2015', '1017']"
            ]
          },
          "metadata": {},
          "execution_count": 7
        }
      ]
    },
    {
      "cell_type": "markdown",
      "source": [
        "Count matching patterns"
      ],
      "metadata": {
        "id": "XMqSs1lPdn7I"
      }
    },
    {
      "cell_type": "code",
      "source": [
        " # How many times does the word \"dog\" appear in the sentence?\n",
        "\n",
        "# count occurences of the word \"dog\"\n",
        "len(re.findall(r\"dog\", sentence))\n",
        "## 1"
      ],
      "metadata": {
        "colab": {
          "base_uri": "https://localhost:8080/"
        },
        "id": "ftVg9gbwdlDa",
        "outputId": "f7d29201-ce4f-4bd9-8dce-01e83c6f7f79"
      },
      "execution_count": 8,
      "outputs": [
        {
          "output_type": "execute_result",
          "data": {
            "text/plain": [
              "1"
            ]
          },
          "metadata": {},
          "execution_count": 8
        }
      ]
    },
    {
      "cell_type": "code",
      "source": [
        "# How many times does a sequence of numbers appears in the sentence?\n",
        "len(re.findall(r\"\\b\\d+\\b\", sentence))"
      ],
      "metadata": {
        "colab": {
          "base_uri": "https://localhost:8080/"
        },
        "id": "UE1SGVZtd5xb",
        "outputId": "c58f3652-6af4-499d-b1c8-ed46c52e94c8"
      },
      "execution_count": 10,
      "outputs": [
        {
          "output_type": "execute_result",
          "data": {
            "text/plain": [
              "5"
            ]
          },
          "metadata": {},
          "execution_count": 10
        }
      ]
    },
    {
      "cell_type": "markdown",
      "source": [
        "Replace matching patterns"
      ],
      "metadata": {
        "id": "K0zHhFiRePhi"
      }
    },
    {
      "cell_type": "code",
      "source": [
        "# Replace the 2nd digit with a 9\n",
        "# count = 1 means replace the 1st match\n",
        "re.sub(r\"(?<=\\d)[^\\d]*(\\d)\", \"9\", sentence, count = 1)\n",
        "## 'We bought our  Golden Retriever, Snuggles, for $39 on 1/1/2015 at 1017 Main St. where they   have many dogs.'"
      ],
      "metadata": {
        "colab": {
          "base_uri": "https://localhost:8080/",
          "height": 36
        },
        "id": "rRtUXaWKeQUo",
        "outputId": "9c011e56-9fec-4685-f3ff-6e7089fb9c17"
      },
      "execution_count": 11,
      "outputs": [
        {
          "output_type": "execute_result",
          "data": {
            "application/vnd.google.colaboratory.intrinsic+json": {
              "type": "string"
            },
            "text/plain": [
              "'We bought our  Golden Retriever, Snuggles, for $39 on 1/1/2015 at 1017 Main St. where they   have many dogs.'"
            ]
          },
          "metadata": {},
          "execution_count": 11
        }
      ]
    },
    {
      "cell_type": "code",
      "source": [
        "# Replace the 3rd digit with an 8 preceeded by a backslash\n",
        "re.sub(r\"(?<=\\d)[^\\d](\\d)*(\\d)\", \"/8\", sentence, count = 1)"
      ],
      "metadata": {
        "colab": {
          "base_uri": "https://localhost:8080/",
          "height": 36
        },
        "id": "KF5QJPusesgM",
        "outputId": "ff699d4e-a086-47cf-9151-8b8525d39239"
      },
      "execution_count": 16,
      "outputs": [
        {
          "output_type": "execute_result",
          "data": {
            "application/vnd.google.colaboratory.intrinsic+json": {
              "type": "string"
            },
            "text/plain": [
              "'We bought our  Golden Retriever, Snuggles, for $30 on 1/8/2015 at 1017 Main St. where they   have many dogs.'"
            ]
          },
          "metadata": {},
          "execution_count": 16
        }
      ]
    },
    {
      "cell_type": "code",
      "source": [
        "# Replace every 0 or 1 with a 6\n",
        "# count = 0 means replace all matches\n",
        "re.sub(r\"(0|1)\", \"6\", sentence, count = 0)\n",
        "## 'We bought our  Golden Retriever, Snuggles, for $36 on 6/6/2665 at 6667 Main St. where they   have many dogs.'"
      ],
      "metadata": {
        "colab": {
          "base_uri": "https://localhost:8080/",
          "height": 36
        },
        "id": "FMoXAhBofWEK",
        "outputId": "7cb39df9-c5c6-4812-d6b0-6230fc601511"
      },
      "execution_count": 38,
      "outputs": [
        {
          "output_type": "execute_result",
          "data": {
            "application/vnd.google.colaboratory.intrinsic+json": {
              "type": "string"
            },
            "text/plain": [
              "'We bought our  Golden Retriever, Snuggles, for $36 on 6/6/2665 at 6667 Main St. where they   have many dogs.'"
            ]
          },
          "metadata": {},
          "execution_count": 38
        }
      ]
    },
    {
      "cell_type": "code",
      "source": [
        "# Replace all instances of multiple spaces with a single space\n",
        "re.sub(r\"\\s{2,}\", \" \", sentence)\n",
        "## 'We bought our Golden Retriever, Snuggles, for $30 on 1/1/2015 at 1017 Main St. where they have many dogs.'"
      ],
      "metadata": {
        "colab": {
          "base_uri": "https://localhost:8080/",
          "height": 36
        },
        "id": "Kg8N4G7IhLdA",
        "outputId": "bfafabcc-38af-437b-ffbd-a91f9f07215a"
      },
      "execution_count": 39,
      "outputs": [
        {
          "output_type": "execute_result",
          "data": {
            "application/vnd.google.colaboratory.intrinsic+json": {
              "type": "string"
            },
            "text/plain": [
              "'We bought our Golden Retriever, Snuggles, for $30 on 1/1/2015 at 1017 Main St. where they have many dogs.'"
            ]
          },
          "metadata": {},
          "execution_count": 39
        }
      ]
    },
    {
      "cell_type": "markdown",
      "source": [
        "Search and replace"
      ],
      "metadata": {
        "id": "jtUx50LnhT2s"
      }
    },
    {
      "cell_type": "code",
      "source": [
        "phone = \"2004-959-559 # This is Phone Number\"\n",
        "\n",
        "phone"
      ],
      "metadata": {
        "colab": {
          "base_uri": "https://localhost:8080/",
          "height": 36
        },
        "id": "Br1xc_4jhUik",
        "outputId": "616ab6f2-3a3a-4af1-d6be-055f48fa07ca"
      },
      "execution_count": 41,
      "outputs": [
        {
          "output_type": "execute_result",
          "data": {
            "application/vnd.google.colaboratory.intrinsic+json": {
              "type": "string"
            },
            "text/plain": [
              "'2004-959-559 # This is Phone Number'"
            ]
          },
          "metadata": {},
          "execution_count": 41
        }
      ]
    },
    {
      "cell_type": "code",
      "source": [
        "# Delete Python-style comments\n",
        "num = re.sub(r'#.*$', \"\", phone)\n",
        "num"
      ],
      "metadata": {
        "colab": {
          "base_uri": "https://localhost:8080/",
          "height": 36
        },
        "id": "LuZ0zLP5hgox",
        "outputId": "301472c8-4c79-40d8-ec19-c2a4487fc8de"
      },
      "execution_count": 42,
      "outputs": [
        {
          "output_type": "execute_result",
          "data": {
            "application/vnd.google.colaboratory.intrinsic+json": {
              "type": "string"
            },
            "text/plain": [
              "'2004-959-559 '"
            ]
          },
          "metadata": {},
          "execution_count": 42
        }
      ]
    },
    {
      "cell_type": "code",
      "source": [
        "# Remove anything other than digits\n",
        "num = re.sub(r'\\D', \"\", phone)\n",
        "num"
      ],
      "metadata": {
        "colab": {
          "base_uri": "https://localhost:8080/",
          "height": 36
        },
        "id": "Hp6QxW2Yhsi3",
        "outputId": "66357686-73be-4d8e-ccbd-8e9adf946293"
      },
      "execution_count": 43,
      "outputs": [
        {
          "output_type": "execute_result",
          "data": {
            "application/vnd.google.colaboratory.intrinsic+json": {
              "type": "string"
            },
            "text/plain": [
              "'2004959559'"
            ]
          },
          "metadata": {},
          "execution_count": 43
        }
      ]
    }
  ]
}